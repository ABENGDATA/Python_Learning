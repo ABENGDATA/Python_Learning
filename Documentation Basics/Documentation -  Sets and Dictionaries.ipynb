{
 "cells": [
  {
   "cell_type": "markdown",
   "metadata": {},
   "source": [
    "# Documentacion : Metodos de sets y Diccionarios "
   ]
  },
  {
   "cell_type": "markdown",
   "metadata": {},
   "source": [
    "## Tecnicas y metodos para sets \n",
    "\n",
    "Python maneja los sets como notacion de conjuntos , tienen operaciones de union , interseccion diferencia simetrica etc. Los sets no tienen un orden especifico y son descritos por {} . "
   ]
  },
  {
   "cell_type": "code",
   "execution_count": 47,
   "metadata": {},
   "outputs": [
    {
     "name": "stdout",
     "output_type": "stream",
     "text": [
      "{0, 1, 2, 4, 'juan', '0', '25', 25}\n",
      "{1, 5, 6, 'd', 9, 'a', 15, 17}\n"
     ]
    }
   ],
   "source": [
    "a = {'juan','25',1,2,4,'0',0,25}\n",
    "print(a)\n",
    "b = {1,9,5,6,'d','a',15,17}\n",
    "print(b)"
   ]
  },
  {
   "cell_type": "markdown",
   "metadata": {},
   "source": [
    "### Usos de add()\n",
    "\n",
    "El comando add() , adiciona un elemento al set , si este elemento ya esta este no se adiciona ."
   ]
  },
  {
   "cell_type": "code",
   "execution_count": 48,
   "metadata": {},
   "outputs": [
    {
     "name": "stdout",
     "output_type": "stream",
     "text": [
      "{0, 1, 2, 4, '50', 'juan', '0', '25', 25}\n"
     ]
    }
   ],
   "source": [
    "f = a.copy()\n",
    "f.add('50')\n",
    "f.add(1)\n",
    "print(f)"
   ]
  },
  {
   "cell_type": "markdown",
   "metadata": {},
   "source": [
    "### Usos de clear()\n",
    "\n",
    "El comando clear() se encarga de remover todos los elementos del set de datos ."
   ]
  },
  {
   "cell_type": "code",
   "execution_count": 49,
   "metadata": {},
   "outputs": [
    {
     "name": "stdout",
     "output_type": "stream",
     "text": [
      "set()\n"
     ]
    }
   ],
   "source": [
    "f = a.copy()\n",
    "f.clear()\n",
    "print(f)"
   ]
  },
  {
   "cell_type": "markdown",
   "metadata": {},
   "source": [
    "### Usos de copy()\n",
    "\n",
    "El comando copy() se encarga de hacer una copia del set de datos para guardarse en otra variable ."
   ]
  },
  {
   "cell_type": "code",
   "execution_count": 50,
   "metadata": {},
   "outputs": [
    {
     "name": "stdout",
     "output_type": "stream",
     "text": [
      "{0, 1, 2, 4, 'juan', '0', '25', 25}\n",
      "{0, 1, 2, 4, 'juan', '0', '25', 25}\n"
     ]
    }
   ],
   "source": [
    "f = a.copy()\n",
    "print(a)\n",
    "print(f)"
   ]
  },
  {
   "cell_type": "markdown",
   "metadata": {},
   "source": [
    "### Usos de difference()\n",
    "\n",
    "El comando difference() se encarga de retornar los elementos que son diferentes entre los dos sets al compararse . "
   ]
  },
  {
   "cell_type": "code",
   "execution_count": 51,
   "metadata": {},
   "outputs": [
    {
     "name": "stdout",
     "output_type": "stream",
     "text": [
      "{3}\n",
      "{10, 5, 6}\n"
     ]
    }
   ],
   "source": [
    "A = {1,2,3,4}\n",
    "B = {1,10,2,4,5,6}\n",
    "print(A.difference(B)) # Diferencias que tiene A en B \n",
    "print(B.difference(A)) # Diferencias que tiene B en A"
   ]
  },
  {
   "cell_type": "markdown",
   "metadata": {},
   "source": [
    "### Usos de difference_update()\n",
    "\n",
    "Este comando a diferencia de difference() se encarga de borrar los elementos que son semejantes en los dos sets ."
   ]
  },
  {
   "cell_type": "code",
   "execution_count": 52,
   "metadata": {},
   "outputs": [
    {
     "name": "stdout",
     "output_type": "stream",
     "text": [
      "{3, 7}\n",
      "{1, 2, 4, 5, 6, 10}\n"
     ]
    }
   ],
   "source": [
    "A = {1,2,3,4,7,4,10}\n",
    "B = {1,10,2,4,5,6}\n",
    "A.difference_update(B)# Diferencias que tiene A en B \n",
    "B.difference_update(A) # Diferencias que tiene B en A\n",
    "print(A)\n",
    "print(B)"
   ]
  },
  {
   "cell_type": "markdown",
   "metadata": {},
   "source": [
    "### Usos de discard()\n",
    "\n",
    "El comando discard() se encarga de eliminar el elemento del set y si no encuentra elemento que eliminar no genera ningun error ."
   ]
  },
  {
   "cell_type": "code",
   "execution_count": 53,
   "metadata": {},
   "outputs": [
    {
     "name": "stdout",
     "output_type": "stream",
     "text": [
      "{0, 1, 2, 4, 'juan', '0', '25', 25}\n",
      "{0, 1, 2, 4, '0', '25', 25}\n"
     ]
    }
   ],
   "source": [
    "print(a)\n",
    "a.discard('juan')\n",
    "a.discard(100)\n",
    "print(a)"
   ]
  },
  {
   "cell_type": "markdown",
   "metadata": {},
   "source": [
    "### Usos de intersection()\n",
    "\n",
    "El comando intersection() retorna un nuevo set en el cual estan los elementos que dos sets tienen en comun . \n",
    "\n"
   ]
  },
  {
   "cell_type": "code",
   "execution_count": 54,
   "metadata": {},
   "outputs": [
    {
     "data": {
      "text/plain": [
       "{1, 2, 4, 10}"
      ]
     },
     "execution_count": 54,
     "metadata": {},
     "output_type": "execute_result"
    }
   ],
   "source": [
    "A = {1,2,3,4,7,4,10}\n",
    "B = {1,10,2,4,5,6}\n",
    "A.intersection(B)"
   ]
  },
  {
   "cell_type": "markdown",
   "metadata": {},
   "source": [
    "### Usos de intersection_update()\n",
    "\n",
    "El comando intersection_update() se encarga de borrar lo elementos que no estan presentes en la interseccion entre dos sets . este metodo trabaja en el set original a diferencia de intersection() que trabaja con un nuevo set"
   ]
  },
  {
   "cell_type": "code",
   "execution_count": 55,
   "metadata": {},
   "outputs": [
    {
     "name": "stdout",
     "output_type": "stream",
     "text": [
      "{1, 4}\n"
     ]
    }
   ],
   "source": [
    "A = {1,2,3,4,7,4,10}\n",
    "B = {1,10,2,4,5,6}\n",
    "C = {1,9,2,3,4,5,7,8}\n",
    "D = {1,5,7,8,76,5,4}\n",
    "A.intersection_update(B,C,D,)\n",
    "print(A)"
   ]
  },
  {
   "cell_type": "markdown",
   "metadata": {},
   "source": [
    "### Usos de isdisjoint()\n",
    "\n",
    "El comando isdisjoint() se encarga de comparar dos sets y retornar un valor booleano si los dos sets son completamente diferentes .\n"
   ]
  },
  {
   "cell_type": "code",
   "execution_count": 56,
   "metadata": {},
   "outputs": [
    {
     "name": "stdout",
     "output_type": "stream",
     "text": [
      "True\n"
     ]
    }
   ],
   "source": [
    "x = {\"apple\", \"banana\", \"cherry\"}\n",
    "y = {\"google\", \"microsoft\", \"facebook\"}\n",
    "\n",
    "z = x.isdisjoint(y) \n",
    "\n",
    "print(z)"
   ]
  },
  {
   "cell_type": "markdown",
   "metadata": {},
   "source": [
    "### Usos de issubset()\n",
    "\n",
    "El comando issubset() se encarga de comparar si un set es subset de otro , es decir si todos los items en un set pertenecen a otro . "
   ]
  },
  {
   "cell_type": "code",
   "execution_count": 57,
   "metadata": {},
   "outputs": [
    {
     "name": "stdout",
     "output_type": "stream",
     "text": [
      "True\n"
     ]
    }
   ],
   "source": [
    "x = {\"a\", \"b\", \"c\"}\n",
    "y = {\"f\", \"e\", \"d\", \"c\", \"b\", \"a\"}\n",
    "\n",
    "z = x.issubset(y)\n",
    "\n",
    "print(z) "
   ]
  },
  {
   "cell_type": "markdown",
   "metadata": {},
   "source": [
    "### issuperset()\n",
    "\n",
    "Al igual que el metodo issubset() este metodo retorna un valor booleano si un set tiene elementos que estan en otro ."
   ]
  },
  {
   "cell_type": "code",
   "execution_count": 58,
   "metadata": {},
   "outputs": [
    {
     "name": "stdout",
     "output_type": "stream",
     "text": [
      "True\n"
     ]
    }
   ],
   "source": [
    "x = {\"f\", \"e\", \"d\", \"c\", \"b\", \"a\"}\n",
    "y = {\"a\", \"b\", \"c\"}\n",
    "\n",
    "z = x.issuperset(y)\n",
    "\n",
    "print(z)"
   ]
  },
  {
   "cell_type": "markdown",
   "metadata": {},
   "source": [
    "### Usos de pop()\n",
    "\n",
    "El comando pop() se encarga de remover un item aleatorio del set ."
   ]
  },
  {
   "cell_type": "code",
   "execution_count": 59,
   "metadata": {},
   "outputs": [
    {
     "name": "stdout",
     "output_type": "stream",
     "text": [
      "0\n"
     ]
    }
   ],
   "source": [
    "x = a.pop()\n",
    "print(x) "
   ]
  },
  {
   "cell_type": "markdown",
   "metadata": {},
   "source": [
    "### Usos de remove()\n",
    "\n",
    "El comando remove() se encarga de remover un item especificado por el usuario del set() , si este item no es encontrado para removerse se genera un error. "
   ]
  },
  {
   "cell_type": "code",
   "execution_count": 60,
   "metadata": {},
   "outputs": [
    {
     "name": "stdout",
     "output_type": "stream",
     "text": [
      "{1, 2, 4, '25', 25}\n"
     ]
    }
   ],
   "source": [
    "a.remove('0')\n",
    "print(a)"
   ]
  },
  {
   "cell_type": "markdown",
   "metadata": {},
   "source": [
    "### Usos de union()\n",
    "\n",
    "El comando union() retorna un set que contiene los elementos de dos sets anteriormente descritos ."
   ]
  },
  {
   "cell_type": "code",
   "execution_count": 61,
   "metadata": {},
   "outputs": [
    {
     "name": "stdout",
     "output_type": "stream",
     "text": [
      "{1, 2, 4, 5, 6, 'd', 9, 'a', 15, 17, '25', 25}\n"
     ]
    }
   ],
   "source": [
    "x = a.union(b)\n",
    "print(x)"
   ]
  },
  {
   "cell_type": "markdown",
   "metadata": {},
   "source": [
    "### Usos de symmetric_difference()\n",
    "\n",
    "El comando symmetric difference se encarga de retornar un set que contiene los elementos que no comparten ambos sets ."
   ]
  },
  {
   "cell_type": "code",
   "execution_count": 62,
   "metadata": {},
   "outputs": [
    {
     "name": "stdout",
     "output_type": "stream",
     "text": [
      "{2, 4, 5, 6, 'd', 9, 'a', 15, 17, '25', 25}\n"
     ]
    }
   ],
   "source": [
    "v = a.symmetric_difference(b)\n",
    "print(v)"
   ]
  },
  {
   "cell_type": "markdown",
   "metadata": {},
   "source": [
    "### Usos de symmetric_difference_update()\n",
    "\n",
    "El comando symmetric_difference_update() realiza la misma operacion de symmetric_difference pero en el set original .\n"
   ]
  },
  {
   "cell_type": "code",
   "execution_count": 63,
   "metadata": {},
   "outputs": [
    {
     "name": "stdout",
     "output_type": "stream",
     "text": [
      "{1, 2, 4, '25', 25}\n"
     ]
    }
   ],
   "source": [
    "a.symmetric_difference(b)\n",
    "print(a)"
   ]
  },
  {
   "cell_type": "markdown",
   "metadata": {},
   "source": [
    "### Usos de update()\n",
    "\n",
    "El comando update() se encarga de unir dos sets y si sus items se reptien solo tienen una unica conincidencia en el set original producto de la operacion . "
   ]
  },
  {
   "cell_type": "code",
   "execution_count": 64,
   "metadata": {},
   "outputs": [
    {
     "name": "stdout",
     "output_type": "stream",
     "text": [
      "{'apple', 'microsoft', 'banana', 'google', 'cherry'}\n"
     ]
    }
   ],
   "source": [
    "x = {\"apple\", \"banana\", \"cherry\"}\n",
    "y = {\"google\", \"microsoft\", \"apple\"}\n",
    "\n",
    "x.update(y)\n",
    "\n",
    "print(x)"
   ]
  },
  {
   "cell_type": "markdown",
   "metadata": {},
   "source": [
    "# Tecnicas y metodos para Diccionarios "
   ]
  },
  {
   "cell_type": "code",
   "execution_count": 12,
   "metadata": {},
   "outputs": [
    {
     "name": "stdout",
     "output_type": "stream",
     "text": [
      "{'First': 'Mercury', 'Second': 'Venus', 'Third': 'Earth', 'Fourth': 'Mars', 'Fifth': 'Jupiter'}\n"
     ]
    }
   ],
   "source": [
    "planets = {'First':'Mercury' ,\n",
    "           'Second':'Venus' ,\n",
    "           'Third':'Earth' ,\n",
    "          'Fourth':'Mars',\n",
    "          'Fifth':'Jupiter'}\n",
    "print(planets)\n"
   ]
  },
  {
   "cell_type": "markdown",
   "metadata": {},
   "source": [
    "### Accesar a los items "
   ]
  },
  {
   "cell_type": "code",
   "execution_count": 13,
   "metadata": {},
   "outputs": [
    {
     "name": "stdout",
     "output_type": "stream",
     "text": [
      "Venus\n"
     ]
    }
   ],
   "source": [
    "P = planets[\"Second\"]\n",
    "print(P)"
   ]
  },
  {
   "cell_type": "markdown",
   "metadata": {},
   "source": [
    "### Cambiar o agregar items "
   ]
  },
  {
   "cell_type": "code",
   "execution_count": 14,
   "metadata": {},
   "outputs": [
    {
     "name": "stdout",
     "output_type": "stream",
     "text": [
      "{'First': 'Mercury', 'Second': 'Venus', 'Third': 'Tierra', 'Fourth': 'Mars', 'Fifth': 'Jupiter', 'sixth': 'Saturn'}\n"
     ]
    }
   ],
   "source": [
    "planets['sixth']= 'Saturn'\n",
    "planets['Third']='Tierra'\n",
    "print(planets)"
   ]
  },
  {
   "cell_type": "markdown",
   "metadata": {},
   "source": [
    "## Metodos de diccionarios"
   ]
  },
  {
   "cell_type": "markdown",
   "metadata": {},
   "source": [
    "### Usos de clear()\n",
    "\n",
    "El metodo clear() borra todos los elementos del diccionario y lo deja vacio. "
   ]
  },
  {
   "cell_type": "code",
   "execution_count": 16,
   "metadata": {},
   "outputs": [
    {
     "name": "stdout",
     "output_type": "stream",
     "text": [
      "{}\n"
     ]
    }
   ],
   "source": [
    "v = planets.copy()\n",
    "v.clear()\n",
    "print(v)"
   ]
  },
  {
   "cell_type": "markdown",
   "metadata": {},
   "source": [
    "### Usos de copy()\n",
    "\n",
    "El metodo copy() se encarga de hacer una copia de un diccionario introducido por el usuario . "
   ]
  },
  {
   "cell_type": "code",
   "execution_count": 17,
   "metadata": {},
   "outputs": [
    {
     "name": "stdout",
     "output_type": "stream",
     "text": [
      "{'First': 'Mercury', 'Second': 'Venus', 'Third': 'Tierra', 'Fourth': 'Mars', 'Fifth': 'Jupiter', 'sixth': 'Saturn'}\n"
     ]
    }
   ],
   "source": [
    "v = planets.copy()\n",
    "print(v)"
   ]
  },
  {
   "cell_type": "markdown",
   "metadata": {},
   "source": [
    "### Usos de fromkeys()\n",
    "\n",
    "El metodo fromkeys() especifica los valores que deben tener las claves de un diccionario."
   ]
  },
  {
   "cell_type": "code",
   "execution_count": 46,
   "metadata": {},
   "outputs": [
    {
     "name": "stdout",
     "output_type": "stream",
     "text": [
      "{'Planeta 1': 1, 'Planeta 2': 1, 'Planeta 3': 1}\n"
     ]
    }
   ],
   "source": [
    "x = ('Planeta 1','Planeta 2','Planeta 3')\n",
    "y = 1\n",
    "xin = dict.fromkeys(x,y)\n",
    "print(xin)"
   ]
  },
  {
   "cell_type": "markdown",
   "metadata": {},
   "source": [
    "### Usos de get()\n",
    "\n",
    "El metodo get() retorna el valor de un item especificando la key o clave."
   ]
  },
  {
   "cell_type": "code",
   "execution_count": 47,
   "metadata": {},
   "outputs": [
    {
     "data": {
      "text/plain": [
       "1"
      ]
     },
     "execution_count": 47,
     "metadata": {},
     "output_type": "execute_result"
    }
   ],
   "source": [
    "xin.get('Planeta 1')"
   ]
  },
  {
   "cell_type": "markdown",
   "metadata": {},
   "source": [
    "### Usos de items()\n",
    "\n",
    "El metodo items() retorna un objeto de vista que es una tupla con una lista dentro y las claves dentro de ella estan almacenadas en listas ."
   ]
  },
  {
   "cell_type": "code",
   "execution_count": 48,
   "metadata": {},
   "outputs": [
    {
     "data": {
      "text/plain": [
       "dict_items([('Planeta 1', 1), ('Planeta 2', 1), ('Planeta 3', 1)])"
      ]
     },
     "execution_count": 48,
     "metadata": {},
     "output_type": "execute_result"
    }
   ],
   "source": [
    "xin.items()"
   ]
  },
  {
   "cell_type": "markdown",
   "metadata": {},
   "source": [
    "### Usos de keys()\n",
    "\n",
    "El metodo keys() retorna las claves del diccionario ."
   ]
  },
  {
   "cell_type": "code",
   "execution_count": 49,
   "metadata": {},
   "outputs": [
    {
     "data": {
      "text/plain": [
       "dict_keys(['Planeta 1', 'Planeta 2', 'Planeta 3'])"
      ]
     },
     "execution_count": 49,
     "metadata": {},
     "output_type": "execute_result"
    }
   ],
   "source": [
    "xin.keys()"
   ]
  },
  {
   "cell_type": "markdown",
   "metadata": {},
   "source": [
    "### Usos de pop()\n",
    "\n",
    "En este caso el metodo pop() remueve una clave del diccionario y lo guarda como variable para que pueda utilizarse"
   ]
  },
  {
   "cell_type": "code",
   "execution_count": 50,
   "metadata": {},
   "outputs": [
    {
     "name": "stdout",
     "output_type": "stream",
     "text": [
      "1\n"
     ]
    }
   ],
   "source": [
    "a = xin.pop('Planeta 1')\n",
    "print(a)"
   ]
  },
  {
   "cell_type": "markdown",
   "metadata": {},
   "source": [
    "### Uso de popitem()\n",
    "\n",
    "El metodo popitem() remueve el item que fue insertado de ultimo en el diccionario ."
   ]
  },
  {
   "cell_type": "code",
   "execution_count": 54,
   "metadata": {},
   "outputs": [
    {
     "data": {
      "text/plain": [
       "('seventh', 'Uranus')"
      ]
     },
     "execution_count": 54,
     "metadata": {},
     "output_type": "execute_result"
    }
   ],
   "source": [
    "planets['seventh'] = 'Uranus'\n",
    "planets.popitem()"
   ]
  },
  {
   "cell_type": "markdown",
   "metadata": {},
   "source": [
    "### Uso de update()\n",
    "\n",
    "El metodo update() inserta un item especificado al diccionario , este item puede ser un diccionario o un iterable ."
   ]
  },
  {
   "cell_type": "code",
   "execution_count": 55,
   "metadata": {},
   "outputs": [
    {
     "name": "stdout",
     "output_type": "stream",
     "text": [
      "{'First': 'Mercury', 'Second': 'Venus', 'Third': 'Tierra', 'Fourth': 'Mars', 'Fifth': 'Jupiter', 'sixth': 'Saturn', 'Eight': 'Neptune'}\n"
     ]
    }
   ],
   "source": [
    "planets.update({\"Eight\":\"Neptune\"})\n",
    "print(planets)"
   ]
  },
  {
   "cell_type": "markdown",
   "metadata": {},
   "source": [
    "### Uso de values()\n",
    "\n",
    "El comando values retorna un objeto de vista con las claves correspondientes al diccionario ."
   ]
  },
  {
   "cell_type": "code",
   "execution_count": 60,
   "metadata": {},
   "outputs": [
    {
     "data": {
      "text/plain": [
       "dict_values(['Mercury', 'Venus', 'Tierra', 'Mars', 'Jupiter', 'Saturn', 'Neptune', 'Pluto'])"
      ]
     },
     "execution_count": 60,
     "metadata": {},
     "output_type": "execute_result"
    }
   ],
   "source": [
    "planets.values()"
   ]
  },
  {
   "cell_type": "markdown",
   "metadata": {},
   "source": [
    "### Usos de setdefault()\n",
    "\n",
    "El metodo setdefault() retorna el valor de una clave especificada por el usuario, y si esta clave no se encuentra este la inserta."
   ]
  },
  {
   "cell_type": "code",
   "execution_count": 62,
   "metadata": {},
   "outputs": [
    {
     "name": "stdout",
     "output_type": "stream",
     "text": [
      "\n",
      "\n",
      "{'First': 'Mercury', 'Second': 'Venus', 'Third': 'Tierra', 'Fourth': 'Mars', 'Fifth': 'Jupiter', 'sixth': 'Saturn', 'Eight': 'Neptune', 'nineth': 'Pluto'}\n"
     ]
    }
   ],
   "source": [
    "\n",
    "print('\\n')\n",
    "v = planets.setdefault(\"nineth\",'Pluto')\n",
    "print(planets)"
   ]
  },
  {
   "cell_type": "code",
   "execution_count": null,
   "metadata": {},
   "outputs": [],
   "source": []
  }
 ],
 "metadata": {
  "kernelspec": {
   "display_name": "Python 3",
   "language": "python",
   "name": "python3"
  },
  "language_info": {
   "codemirror_mode": {
    "name": "ipython",
    "version": 3
   },
   "file_extension": ".py",
   "mimetype": "text/x-python",
   "name": "python",
   "nbconvert_exporter": "python",
   "pygments_lexer": "ipython3",
   "version": "3.8.2"
  }
 },
 "nbformat": 4,
 "nbformat_minor": 4
}
