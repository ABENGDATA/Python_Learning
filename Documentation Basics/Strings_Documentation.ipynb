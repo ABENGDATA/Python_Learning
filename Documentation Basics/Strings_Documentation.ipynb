{
 "cells": [
  {
   "cell_type": "markdown",
   "metadata": {},
   "source": [
    "# Documentacion : Metodos con strings (V.1.1) ESP"
   ]
  },
  {
   "cell_type": "markdown",
   "metadata": {},
   "source": [
    "![](12334613-971.jpg)"
   ]
  },
  {
   "cell_type": "code",
   "execution_count": 97,
   "metadata": {},
   "outputs": [],
   "source": [
    "# String Methods \n",
    "Line = \"IM THE KIND OF PERSON THAT LIKES TO WAKE UP later\"\n",
    "word = \"evening\"\n",
    "word2 = \"e\\tve\\tning\"\n",
    "#\n",
    "#\n",
    "#"
   ]
  },
  {
   "cell_type": "markdown",
   "metadata": {},
   "source": [
    "### Usos  de capitalize() \n",
    "\n",
    "El comando capitalize() se encarga de convertir la primera letra de un string en mayúscula ."
   ]
  },
  {
   "cell_type": "code",
   "execution_count": 98,
   "metadata": {},
   "outputs": [
    {
     "name": "stdout",
     "output_type": "stream",
     "text": [
      "*Uses of capitalize\n",
      "Evening\n"
     ]
    }
   ],
   "source": [
    "# Uses of capitalize \n",
    "print(\"*Uses of capitalize\")\n",
    "print(word.capitalize())\n",
    "#\n",
    "#"
   ]
  },
  {
   "cell_type": "markdown",
   "metadata": {},
   "source": [
    "### Usos de casefold()\n",
    "\n",
    "El comando casefold() retorna un string donde todos los caracteres estan en minusculas , en comparacion con el metodo lower() es un metodo mas agresivo y se utiliza con idiomas diferentes al ingles o simbologia que cuanta con mayusculas y minusculas ."
   ]
  },
  {
   "cell_type": "code",
   "execution_count": 99,
   "metadata": {},
   "outputs": [
    {
     "name": "stdout",
     "output_type": "stream",
     "text": [
      "im the kind of person that likes to wake up later\n"
     ]
    }
   ],
   "source": [
    "print(Line.casefold()) # Become the entire string in lowercase\n",
    "#\n",
    "#"
   ]
  },
  {
   "cell_type": "markdown",
   "metadata": {},
   "source": [
    "### Usos de center()\n",
    "\n",
    "El uso de center() es centrar un string con algun caracter especifico o con espacios ,dada una longitud de string .\n",
    "\n",
    "* center(int,\"string\") : el int es la longitud que queremos de la string y el segundo parametro es el caracter que utilizaremos como completador de los espacios .\n",
    "\n",
    "\n",
    "* word.center(10) : retorna una string de 10 de longitud utilizando espacios para centrar esta .\n",
    "\n",
    "\n",
    "\n",
    "* word.center(10,\"x\") : retorna una string de 10 caracteres de longitud utilizando x como caracteres para centrar."
   ]
  },
  {
   "cell_type": "code",
   "execution_count": 100,
   "metadata": {},
   "outputs": [
    {
     "name": "stdout",
     "output_type": "stream",
     "text": [
      "*Uses of Center \n",
      "xeveningxx\n",
      "  evening   \n"
     ]
    }
   ],
   "source": [
    "# Uses of Center \n",
    "print(\"*Uses of Center \")\n",
    "print(word.center(10,\"x\"))# Transform the lenght of a \n",
    "                          #  string and fill the spaces \n",
    "                          # with a charachter \n",
    "                           \n",
    "                          \n",
    "print(word.center(12)) # Transform the original string size \n",
    "                       # that was 7 and now refill with spaces \n",
    "                       # to make a 12 string size\n",
    "#\n",
    "#\n",
    "#"
   ]
  },
  {
   "cell_type": "markdown",
   "metadata": {},
   "source": [
    "### Usos de encode()\n",
    "\n",
    "El comando encode() es utilizado para codificar en algun lenguaje una string . "
   ]
  },
  {
   "cell_type": "code",
   "execution_count": 101,
   "metadata": {},
   "outputs": [
    {
     "name": "stdout",
     "output_type": "stream",
     "text": [
      "*Uses of encode \n",
      "b'evening'\n"
     ]
    }
   ],
   "source": [
    "# Use of encode() \n",
    "print(\"*Uses of encode \")\n",
    "print(word.encode())  # Encode the string in UTF-8 by default\n",
    "#\n",
    "#\n",
    "#"
   ]
  },
  {
   "cell_type": "markdown",
   "metadata": {},
   "source": [
    "### Usos de count()\n",
    "\n",
    "El comando count() se encarga de contar el numero de veces que una palabra o caracter se encuentra en la string . \n",
    "\n",
    "* count(\"string\",valor inicial,valor final) consta de tres parametros que funcionan juntos para buscar el numero de veces que esta la palabra o caracter en la string.\n",
    "\n",
    "\n",
    "* count(\"string\") : Busca el numero de veces que coincide la string de principio a fin de esta.\n",
    "\n",
    "\n",
    "* count(\"string\",valor inicial) : busca la coincidencia que hay despues del valor inicial de la string hasta el final de esta ."
   ]
  },
  {
   "cell_type": "code",
   "execution_count": 102,
   "metadata": {},
   "outputs": [
    {
     "name": "stdout",
     "output_type": "stream",
     "text": [
      "2\n",
      "1\n",
      "1\n"
     ]
    }
   ],
   "source": [
    "h = \"jupiter is the biggest planet of the solar system , jupiter is great!\"\n",
    "print(h.count(\"jupiter\"))\n",
    "print(h.count(\"jupiter\",7))\n",
    "print(h.count(\"jupiter\",7,67))"
   ]
  },
  {
   "cell_type": "markdown",
   "metadata": {},
   "source": [
    "### Usos de endswith()\n",
    "\n",
    "El comando endswith() se encarga de buscar en una string el final y compararlo con el final sugerido por el usuario , retorna un valor booleano como respuesta .\n",
    "\n",
    "* endswith(\"string\",valor inicial,valor final)"
   ]
  },
  {
   "cell_type": "code",
   "execution_count": 103,
   "metadata": {
    "scrolled": true
   },
   "outputs": [
    {
     "name": "stdout",
     "output_type": "stream",
     "text": [
      "*Uses of endswith \n",
      "True\n",
      "True\n",
      "False\n"
     ]
    }
   ],
   "source": [
    "# Use of endswith\n",
    "print(\"*Uses of endswith \")\n",
    "print(Line.endswith(\"later\")) \n",
    "print(Line.endswith(\"later\",0))\n",
    "print(Line.endswith(\"later\",0,1))\n",
    "#\n",
    "#\n",
    "#                               # a specified string "
   ]
  },
  {
   "cell_type": "markdown",
   "metadata": {},
   "source": [
    "### Usos de expandtabs()\n",
    "\n",
    "El comando expandtabs() se encarga de separar caracteres en una string siempre y cuando esta tenga \"\\t\" para que funcione .\n",
    "\n",
    "* expandtabs(valor(int)) : Numero de espacios solicitados por el usuario, por defecto si no se introduce un valor, se toman ocho espacios. "
   ]
  },
  {
   "cell_type": "code",
   "execution_count": 104,
   "metadata": {},
   "outputs": [
    {
     "name": "stdout",
     "output_type": "stream",
     "text": [
      "*Uses of expandtabs\n",
      "e       ve      ning\n",
      "e ve ning\n"
     ]
    }
   ],
   "source": [
    "# Uses of expandtabs()\n",
    "print(\"*Uses of expandtabs\")\n",
    "print(word2.expandtabs()) # Default tab is 8\n",
    "print(word2.expandtabs(1)) # My tab is 1 spaces  between\n",
    "                           # the tab location\n",
    "#\n",
    "#\n",
    "#"
   ]
  },
  {
   "cell_type": "markdown",
   "metadata": {},
   "source": [
    "### Usos de find()\n",
    "\n",
    "El comando find() busca un caracter en especifico de la string y retorna su posicion en esta , tambien acota la string entre dos posiciones para buscar el caracter solicitado . \n",
    "\n",
    "* find(\"string\",valor inicial,valor final) "
   ]
  },
  {
   "cell_type": "code",
   "execution_count": 105,
   "metadata": {},
   "outputs": [
    {
     "name": "stdout",
     "output_type": "stream",
     "text": [
      "*Uses of find \n",
      "0\n",
      "28\n"
     ]
    }
   ],
   "source": [
    "#Uses of find()\n",
    "print(\"*Uses of find \")\n",
    "print(Line.find(\"I\")) # Search the coincidence of a substring \n",
    "                      # in a string \n",
    "\n",
    "print(Line.find(\"I\",9,29)) # Also search the coincidence if \n",
    "                           # we put a specific range in the \n",
    "                           # substring \n",
    "#\n",
    "#\n",
    "#"
   ]
  },
  {
   "cell_type": "markdown",
   "metadata": {},
   "source": [
    "### Usos de format()\n",
    "\n",
    "El comando format() se usa para introducir valores de variables entre la string utilizando corchetes {} . \n",
    "\n",
    "Aqui se presentan varios ejemplos del uso de format() con su respectiva simbologia . "
   ]
  },
  {
   "cell_type": "code",
   "execution_count": 106,
   "metadata": {},
   "outputs": [
    {
     "name": "stdout",
     "output_type": "stream",
     "text": [
      "*Uses of format \n",
      "**Set a value in {} and needs many values as {} you have \n",
      "My test score was 5\n",
      "\n",
      "\n",
      "**format with :% for percentage  \n",
      "My test score was 5 and 10000.000000%\n",
      "\n",
      "\n",
      "**format use with alings :< and :> \n",
      "My test score was 5 and 10000.000000% and 10       bonus points\n",
      "My test score was 5 and 10000.000000% and       10 bonus points\n",
      "\n",
      "\n",
      "**format with :^ \n",
      "We have 48 chickens\n",
      "We have     48     chickens\n",
      "\n",
      "\n",
      "**format with := \n",
      "The temperature is -       10 degrees celsius.\n",
      "\n",
      "\n",
      "**format with :+ \n",
      "The temperature is between -3 and +7 degrees celsius\n",
      "\n",
      "\n",
      "**format with :- \n",
      "The temperature is between -3 and 7 degrees celsius.\n",
      "\n",
      "\n",
      "**format with :\n",
      "The temperature is between -3 and  7 degrees celsius.\n",
      "\n",
      "\n",
      "**format with :, \n",
      "The universe is 100,000 years old\n",
      "\n",
      "\n",
      "**format with :_ \n",
      "The universe is 1_000_000years old\n",
      "\n",
      "\n",
      "**format with :b \n",
      "The binary version of 5 us 101\n",
      "\n",
      "\n",
      "**format with :d \n",
      "We have 5 chickens.\n",
      "\n",
      "\n",
      "**format with :e \n",
      "We have 5.000000e+00 chickens\n",
      "\n",
      "\n",
      "**format with :E \n",
      "We have 5.000000E+00 chickens\n",
      "\n",
      "\n",
      "**format with :f \n",
      "The main price of this is 45.00 \n",
      "The main price of this is 45.000000 \n",
      "\n",
      "\n",
      "**format with :o \n",
      "the octal version of 19 is 23\n",
      "\n",
      "\n",
      "**format with :x \n",
      "the hexadecimal version of 25 is 19\n",
      "the hexadecimal version of 25 is 19\n"
     ]
    }
   ],
   "source": [
    "# Uses of format \n",
    "print(\"*Uses of format \")\n",
    "# Set a value in {} and needs many values as {} you have \n",
    "print(\"**Set a value in {} and needs many values as {} you have \")\n",
    "print(\"My test score was {score:}\".format(score=5))\n",
    "# format with :% for percentage \n",
    "print(\"\\n\")\n",
    "print(\"**format with :% for percentage  \")\n",
    "print(\"My test score was {score:} and {per:%}\".format(score=5,per =100))\n",
    "# format use with alings :< and :> \n",
    "print(\"\\n\")\n",
    "print(\"**format use with alings :< and :> \")\n",
    "print(\"My test score was {score:} and {per:%} and {bonus:<8} bonus points\".format(score=5,per =100,bonus=10))\n",
    "print(\"My test score was {score:} and {per:%} and {bonus:>8} bonus points\".format(score=5,per =100,bonus=10))\n",
    "#format  use with center aligns :^\n",
    "print(\"\\n\")\n",
    "print(\"**format with :^ \")\n",
    "print(\"We have {:^1} chickens\".format(48))\n",
    "print(\"We have {chickens:^10} chickens\".format(chickens=48))\n",
    "#format use with := \n",
    "print(\"\\n\")\n",
    "print(\"**format with := \")\n",
    "print(\"The temperature is {:=10} degrees celsius.\".format(-10))\n",
    "# format use with :+ \n",
    "print(\"\\n\")\n",
    "print(\"**format with :+ \")\n",
    "print(\"The temperature is between {:+} and {:+} degrees celsius\".format(-3,7))\n",
    "#format use with :-\n",
    "print(\"\\n\")\n",
    "print(\"**format with :- \")\n",
    "print(\"The temperature is between {:-} and {:-} degrees celsius.\".format(-3,7))\n",
    "#format use with :\n",
    "print(\"\\n\")\n",
    "print(\"**format with :\")\n",
    "print(\"The temperature is between {: } and {: } degrees celsius.\".format(-3,7))\n",
    "# format use with :, \n",
    "print(\"\\n\")\n",
    "print(\"**format with :, \")\n",
    "print(\"The universe is {:,} years old\".format(100000))\n",
    "#format use with :_\n",
    "print(\"\\n\")\n",
    "print(\"**format with :_ \")\n",
    "print(\"The universe is {:_}years old\".format(1000000))\n",
    "# format use with :b - binary\n",
    "print(\"\\n\")\n",
    "print(\"**format with :b \")\n",
    "print(\"The binary version of {0} us {0:b}\".format(5))\n",
    "# format use with :d  -binary to decimal \n",
    "print(\"\\n\")\n",
    "print(\"**format with :d \")\n",
    "txt = \"We have {:d} chickens.\"\n",
    "print(txt.format(0b101))\n",
    "#format use with :e\n",
    "print(\"\\n\")\n",
    "print(\"**format with :e \")\n",
    "print(\"We have {:e} chickens\".format(5))\n",
    "#format use with :E\n",
    "print(\"\\n\")\n",
    "print(\"**format with :E \")\n",
    "print(\"We have {:E} chickens\".format(5))\n",
    "#format use with :f\n",
    "print(\"\\n\")\n",
    "print(\"**format with :f \")\n",
    "print(\"The main price of this is {:.2f} \".format(45))\n",
    "print(\"The main price of this is {:f} \".format(45))\n",
    "# format use with :o\n",
    "print(\"\\n\")\n",
    "print(\"**format with :o \")\n",
    "print(\"the octal version of {0} is {0:o}\".format(19))\n",
    "#format use with :x\n",
    "print(\"\\n\")\n",
    "print(\"**format with :x \")\n",
    "print(\"the hexadecimal version of {0} is {0:x}\".format(25))\n",
    "print(\"the hexadecimal version of {0} is {0:X}\".format(25))\n",
    "#\n",
    "#\n",
    "#"
   ]
  },
  {
   "cell_type": "markdown",
   "metadata": {},
   "source": [
    "### Usos de index()\n",
    "\n",
    "El comando index() retorna el valor de posicion de un caracter o substring en una string , si este valor no se encuentra el valor de respuesta es un error. a diferencia del comando find() cuya respuesta a  un valor que no esta es de -1 . \n",
    "\n",
    "* index(\"string\",valor inicial,valor final)"
   ]
  },
  {
   "cell_type": "code",
   "execution_count": 107,
   "metadata": {},
   "outputs": [
    {
     "name": "stdout",
     "output_type": "stream",
     "text": [
      "use of index()\n",
      "hi my name is juan hi\n",
      "The index of the word 'juan' in the string is \n",
      "14\n",
      "0\n"
     ]
    }
   ],
   "source": [
    "print(\"use of index()\")\n",
    "f = \"hi my name is juan hi\"\n",
    "print(f)\n",
    "v = f.index(\"juan\")\n",
    "print(\"The index of the word 'juan' in the string is \")\n",
    "print(v)\n",
    "v2 = f.index(\"hi\",0,22)\n",
    "print(v2)\n",
    "#\n",
    "#\n",
    "#"
   ]
  },
  {
   "cell_type": "markdown",
   "metadata": {},
   "source": [
    "### Usos de isalnum()\n",
    "\n",
    "El comando isalnum() retorna un valor booleano si la string contiene caracteres alfa numericos unicamente. \n"
   ]
  },
  {
   "cell_type": "code",
   "execution_count": 108,
   "metadata": {},
   "outputs": [
    {
     "name": "stdout",
     "output_type": "stream",
     "text": [
      "False\n",
      "True\n"
     ]
    }
   ],
   "source": [
    "#isalnum() verify if all text is alphanumeric\n",
    "v = \"one 12\"\n",
    "print(v.isalnum())\n",
    "      \n",
    "v1 = \"12\"\n",
    "print(v1.isalnum())\n",
    "#\n",
    "#\n",
    "#"
   ]
  },
  {
   "cell_type": "markdown",
   "metadata": {},
   "source": [
    "### Usos de isalpha()\n",
    "\n",
    "El comando isalpha() retorna un valor booleano si la string contiene caracteres unicamente del alfabeto (a-z) . "
   ]
  },
  {
   "cell_type": "code",
   "execution_count": 109,
   "metadata": {},
   "outputs": [
    {
     "name": "stdout",
     "output_type": "stream",
     "text": [
      "True\n",
      "False\n"
     ]
    }
   ],
   "source": [
    "#isalpha() verify if all text is alphabet \n",
    "v = \"one\"\n",
    "print(v.isalpha())\n",
    "      \n",
    "v1 = \"12\"\n",
    "print(v1.isalpha())\n",
    "#\n",
    "#\n",
    "#"
   ]
  },
  {
   "cell_type": "markdown",
   "metadata": {},
   "source": [
    "### Usos de isdecimal()\n",
    "\n",
    "El comando isdecimal() retorna un valor booleano si la string contiene valores unicamente decimales (0-9). "
   ]
  },
  {
   "cell_type": "code",
   "execution_count": 110,
   "metadata": {},
   "outputs": [
    {
     "name": "stdout",
     "output_type": "stream",
     "text": [
      "True\n"
     ]
    }
   ],
   "source": [
    "# isdecimal verify if the string have decimals 0-9 inside\n",
    "v = \"0123\"\n",
    "x= v.isdecimal()\n",
    "print(x)\n",
    "#\n",
    "#\n",
    "#"
   ]
  },
  {
   "cell_type": "markdown",
   "metadata": {},
   "source": [
    "### Usos de isdigit()\n",
    "\n",
    "El comando isdigit() retorna un valor booleano si la string contiene digitos , numeros , exponentes y todo tipo de digitos. \n"
   ]
  },
  {
   "cell_type": "code",
   "execution_count": 111,
   "metadata": {},
   "outputs": [
    {
     "name": "stdout",
     "output_type": "stream",
     "text": [
      "True\n"
     ]
    }
   ],
   "source": [
    "### Uses of isdigit()\n",
    "# isdigit() verify if string have digits inside \n",
    "v = \"590009\"\n",
    "x= v.isdigit()\n",
    "print(x)\n",
    "#\n",
    "#\n",
    "#"
   ]
  },
  {
   "cell_type": "markdown",
   "metadata": {},
   "source": [
    "### Usos de isidentifier()\n",
    "\n",
    "Una string es considerada un identificador valido si unicamente contiene datos alfanumericos o underscores(_). Un identificador valido no puede empezar con un numero o contener espacios, cuando esto se cumple retornara el valor booleano de true . "
   ]
  },
  {
   "cell_type": "code",
   "execution_count": 112,
   "metadata": {},
   "outputs": [
    {
     "name": "stdout",
     "output_type": "stream",
     "text": [
      "True\n",
      "False\n"
     ]
    }
   ],
   "source": [
    "print(\"juan\".isidentifier())\n",
    "print(\"one 1 \".isidentifier())\n",
    "#\n",
    "#\n",
    "#"
   ]
  },
  {
   "cell_type": "markdown",
   "metadata": {},
   "source": [
    "### Usos de islower()\n",
    "\n",
    "El comando islower() funciona de modo que verifica si la string tiene en todo su contenido letras minusculas , el valor de salida es un booleano comprobando la veracidad de este comando . "
   ]
  },
  {
   "cell_type": "code",
   "execution_count": 113,
   "metadata": {},
   "outputs": [
    {
     "name": "stdout",
     "output_type": "stream",
     "text": [
      "True\n",
      "False\n"
     ]
    }
   ],
   "source": [
    "h = \"spacex will be the first enterprise to travel to mars\"\n",
    "print(h.islower())\n",
    "\n",
    "h1 = \"Spacex\"\n",
    "print(h1.islower())\n",
    "#\n",
    "#\n",
    "#"
   ]
  },
  {
   "cell_type": "markdown",
   "metadata": {},
   "source": [
    "### Usos de isnumeric()\n",
    "\n",
    "El comando isnumeric() retorna una valor booleano al verificar que toda la string contenga valores numericos unicamente. "
   ]
  },
  {
   "cell_type": "code",
   "execution_count": 114,
   "metadata": {},
   "outputs": [
    {
     "name": "stdout",
     "output_type": "stream",
     "text": [
      "True\n",
      "False\n"
     ]
    }
   ],
   "source": [
    "h = \"113243\"\n",
    "print(h.isnumeric())\n",
    "\n",
    "h1 = \"113243e\"\n",
    "print(h1.isnumeric())\n",
    "#\n",
    "#\n",
    "#"
   ]
  },
  {
   "cell_type": "markdown",
   "metadata": {},
   "source": [
    "### Usos de isprintable()\n",
    "\n",
    "El comando isprintable() verifica si en una string hay valores que no pueden apreciarse al imprimirse ."
   ]
  },
  {
   "cell_type": "code",
   "execution_count": 115,
   "metadata": {},
   "outputs": [
    {
     "name": "stdout",
     "output_type": "stream",
     "text": [
      "True\n",
      "False\n"
     ]
    }
   ],
   "source": [
    "h = \"the places #1 , #2 ,#3 come here\"\n",
    "print(h.isprintable())\n",
    "\n",
    "h1 = \"the places #1 , #2 ,#3 come here \\n\"\n",
    "print(h1.isprintable())\n",
    "#\n",
    "#\n",
    "#"
   ]
  },
  {
   "cell_type": "markdown",
   "metadata": {},
   "source": [
    "### Usos de isspace()\n",
    "\n",
    "El comando isspace() verifica si una string unicamente tiene espacios returnando un valor booleano . "
   ]
  },
  {
   "cell_type": "code",
   "execution_count": 116,
   "metadata": {},
   "outputs": [
    {
     "name": "stdout",
     "output_type": "stream",
     "text": [
      "False\n",
      "True\n"
     ]
    }
   ],
   "source": [
    "h = \"fr fr \"\n",
    "print(h.isspace())\n",
    "\n",
    "h1 =\"  \"\n",
    "print(h1.isspace())\n",
    "#\n",
    "#\n",
    "#"
   ]
  },
  {
   "cell_type": "markdown",
   "metadata": {},
   "source": [
    "### Usos de istitle()\n",
    "\n",
    "El comando istitle() verifica si todas las palabras en la string inician con mayuscula , retornando un valor booleano ."
   ]
  },
  {
   "cell_type": "code",
   "execution_count": 117,
   "metadata": {},
   "outputs": [
    {
     "name": "stdout",
     "output_type": "stream",
     "text": [
      "False\n",
      "True\n"
     ]
    }
   ],
   "source": [
    "h = \"Jupiter is the Most biggest planet in the solar system\"\n",
    "print(h.istitle())\n",
    "\n",
    "h = \"Jupiter Is The Most Biggest Planet In The Solar System\"\n",
    "print(h.istitle())\n",
    "#\n",
    "#\n",
    "#"
   ]
  },
  {
   "cell_type": "markdown",
   "metadata": {},
   "source": [
    "### Usos de isupper()\n",
    "\n",
    "El comando isupper() verifica si una string contiene unicamente valores en letra mayuscula , retornando un valor booleano. "
   ]
  },
  {
   "cell_type": "code",
   "execution_count": 118,
   "metadata": {},
   "outputs": [
    {
     "name": "stdout",
     "output_type": "stream",
     "text": [
      "True\n",
      "False\n",
      "False\n"
     ]
    }
   ],
   "source": [
    "a= \"HELLO\"\n",
    "b = \"HeLlo\"\n",
    "c = \"hello\"\n",
    "print(a.isupper())\n",
    "print(b.isupper())\n",
    "print(c.isupper())\n",
    "#\n",
    "#\n",
    "#"
   ]
  },
  {
   "cell_type": "markdown",
   "metadata": {},
   "source": [
    "### Usos de  join()\n",
    "\n",
    "El comando join() convierte las strings en una tupla en una sola string con un caracter determinado para separar estas strings."
   ]
  },
  {
   "cell_type": "code",
   "execution_count": 119,
   "metadata": {},
   "outputs": [
    {
     "name": "stdout",
     "output_type": "stream",
     "text": [
      "1:2:3\n"
     ]
    }
   ],
   "source": [
    "v = (\"1\",\"2\",\"3\")\n",
    "v1 = \":\".join(v)\n",
    "print(v1)\n",
    "#\n",
    "#\n",
    "#"
   ]
  },
  {
   "cell_type": "markdown",
   "metadata": {},
   "source": [
    "### Usos de  ljust()\n",
    "\n",
    "El comando ljust() retorna una string con una longitud determinada hacia la derecha de la string , puede hacerse con espacios como esta por defecto o con caracteres definidos . \n",
    "\n",
    "* ljust(longitud de la string(init),\"espaciador(string)\")"
   ]
  },
  {
   "cell_type": "code",
   "execution_count": 120,
   "metadata": {},
   "outputs": [
    {
     "name": "stdout",
     "output_type": "stream",
     "text": [
      "juan      \n",
      "juan######\n"
     ]
    }
   ],
   "source": [
    "h = \"juan\"\n",
    "print(h.ljust(10))\n",
    "print(h.ljust(10,\"#\"))\n",
    "#\n",
    "#\n",
    "#"
   ]
  },
  {
   "cell_type": "markdown",
   "metadata": {},
   "source": [
    "### Usos de lower()\n",
    "\n",
    "El comando lower() convierte la string original en una unicamente con caracteres en minuscula ."
   ]
  },
  {
   "cell_type": "code",
   "execution_count": 121,
   "metadata": {},
   "outputs": [
    {
     "name": "stdout",
     "output_type": "stream",
     "text": [
      "juan sebastian buitrago ortiz\n"
     ]
    }
   ],
   "source": [
    "h = \"JUAN SEBASTIAN BUITRAGO ORTIZ\"\n",
    "print(h.lower())\n",
    "#\n",
    "#\n",
    "#"
   ]
  },
  {
   "cell_type": "markdown",
   "metadata": {},
   "source": [
    "### Usos de lstrip()\n",
    "\n",
    "El comando lstrip() reduce los espacios en una string hacia la izquierda .\n",
    "* lstrip(\"string\") : en caso de que hayan caracteres que se deseen remover de una string ."
   ]
  },
  {
   "cell_type": "code",
   "execution_count": 122,
   "metadata": {},
   "outputs": [
    {
     "name": "stdout",
     "output_type": "stream",
     "text": [
      "my name is juan     buitrago\n"
     ]
    }
   ],
   "source": [
    "h = \"   juan    \"\n",
    "v = h.lstrip()\n",
    "print(\"my name is\",v,\"buitrago\")\n",
    "#\n",
    "#\n",
    "#"
   ]
  },
  {
   "cell_type": "markdown",
   "metadata": {},
   "source": [
    "### Usos de  partition()\n",
    "\n",
    "El comando partition() se utiliza para encontrar una coincidencia en una string , al encontrar esta coincidencia subdivide la string en substrings con las que tiene la coincidencia al rededor dejando centrada la coincidencia en la tupla .\n",
    "\n",
    "* partition(\"string\")\n"
   ]
  },
  {
   "cell_type": "code",
   "execution_count": 123,
   "metadata": {},
   "outputs": [
    {
     "name": "stdout",
     "output_type": "stream",
     "text": [
      "('Juan ', 'Sebastian Buitrago', ' Ortiz')\n"
     ]
    }
   ],
   "source": [
    "h = 'Juan Sebastian Buitrago Ortiz'\n",
    "print(h.partition(\"Sebastian Buitrago\"))\n",
    "#\n",
    "#\n",
    "#"
   ]
  },
  {
   "cell_type": "markdown",
   "metadata": {},
   "source": [
    "### Usos de replace()\n",
    "\n",
    "El comando replace() reemplaza una string con otra especificada .\n",
    "\n",
    "* replace(\"string original\",\"string para reemplazar\")"
   ]
  },
  {
   "cell_type": "code",
   "execution_count": 124,
   "metadata": {},
   "outputs": [
    {
     "name": "stdout",
     "output_type": "stream",
     "text": [
      "Yeisson Buitrago\n",
      "1 2 4 4 4 6 3\n",
      "1 2 4 4 4 6 4\n"
     ]
    }
   ],
   "source": [
    "h = 'Juan Sebastian Buitrago'\n",
    "print(h.replace(\"Juan Sebastian\",\"Yeisson\"))\n",
    "\n",
    "h1 = \"1 2 3 4 3 6 3\"\n",
    "print(h1.replace('3','4',2))\n",
    "\n",
    "h2 = \"1 2 3 4 3 6 3\"\n",
    "print(h2.replace('3','4',3))\n",
    "#\n",
    "#\n",
    "#"
   ]
  },
  {
   "cell_type": "markdown",
   "metadata": {},
   "source": [
    "### Usos de rfind()\n",
    "\n",
    "El comando rfind() encuentra la ultima coincidencia de una string propuesta por el usuario , si esta no se encuentra el valor de salida es -1 . \n",
    "\n",
    "* rfind(\"string\",valor inicial(int),valor final(int))\n"
   ]
  },
  {
   "cell_type": "code",
   "execution_count": 125,
   "metadata": {},
   "outputs": [
    {
     "name": "stdout",
     "output_type": "stream",
     "text": [
      "20\n",
      "-1\n"
     ]
    }
   ],
   "source": [
    "h = \"juan el juan de los juan\"\n",
    "print(h.rfind(\"juan\"))\n",
    "print(h.rfind(\"juani\"))\n",
    "#\n",
    "#\n",
    "#"
   ]
  },
  {
   "cell_type": "markdown",
   "metadata": {},
   "source": [
    "### Usos de rindex()\n",
    "\n",
    "El comando index() se encarga de encotrar la ultima coincidencia a una string sugerida por el usuario , si esta coincidencia no se encuentra el valor que retorna es un error .\n",
    "\n",
    "* index(\"string\",valor inicial(int),valor final(int))"
   ]
  },
  {
   "cell_type": "code",
   "execution_count": 126,
   "metadata": {},
   "outputs": [
    {
     "name": "stdout",
     "output_type": "stream",
     "text": [
      "20\n"
     ]
    },
    {
     "ename": "ValueError",
     "evalue": "substring not found",
     "output_type": "error",
     "traceback": [
      "\u001b[1;31m---------------------------------------------------------------------------\u001b[0m",
      "\u001b[1;31mValueError\u001b[0m                                Traceback (most recent call last)",
      "\u001b[1;32m<ipython-input-126-acb6ce9bc1a4>\u001b[0m in \u001b[0;36m<module>\u001b[1;34m\u001b[0m\n\u001b[0;32m      1\u001b[0m \u001b[0mh\u001b[0m \u001b[1;33m=\u001b[0m \u001b[1;34m\"juan el juan de los juan\"\u001b[0m\u001b[1;33m\u001b[0m\u001b[1;33m\u001b[0m\u001b[0m\n\u001b[0;32m      2\u001b[0m \u001b[0mprint\u001b[0m\u001b[1;33m(\u001b[0m\u001b[0mh\u001b[0m\u001b[1;33m.\u001b[0m\u001b[0mrindex\u001b[0m\u001b[1;33m(\u001b[0m\u001b[1;34m\"juan\"\u001b[0m\u001b[1;33m)\u001b[0m\u001b[1;33m)\u001b[0m\u001b[1;33m\u001b[0m\u001b[1;33m\u001b[0m\u001b[0m\n\u001b[1;32m----> 3\u001b[1;33m \u001b[0mprint\u001b[0m\u001b[1;33m(\u001b[0m\u001b[0mh\u001b[0m\u001b[1;33m.\u001b[0m\u001b[0mrindex\u001b[0m\u001b[1;33m(\u001b[0m\u001b[1;34m\"juani\"\u001b[0m\u001b[1;33m)\u001b[0m\u001b[1;33m)\u001b[0m\u001b[1;33m\u001b[0m\u001b[1;33m\u001b[0m\u001b[0m\n\u001b[0m\u001b[0;32m      4\u001b[0m \u001b[1;31m#\u001b[0m\u001b[1;33m\u001b[0m\u001b[1;33m\u001b[0m\u001b[1;33m\u001b[0m\u001b[0m\n\u001b[0;32m      5\u001b[0m \u001b[1;31m#\u001b[0m\u001b[1;33m\u001b[0m\u001b[1;33m\u001b[0m\u001b[1;33m\u001b[0m\u001b[0m\n",
      "\u001b[1;31mValueError\u001b[0m: substring not found"
     ]
    }
   ],
   "source": [
    "h = \"juan el juan de los juan\"\n",
    "print(h.rindex(\"juan\"))\n",
    "print(h.rindex(\"juani\"))\n",
    "#\n",
    "#\n",
    "#"
   ]
  },
  {
   "cell_type": "markdown",
   "metadata": {},
   "source": [
    "### Usos de rjust()\n",
    "\n",
    "El comando rjust() se encarga de generar una string con una nueva longitud solicitada con espacios o caracteres hacia la izquierda para complementar esta nueva longitud del string .\n",
    "\n",
    "* rjust(int) : Para obtener una nueva string con una longitud int utilizando unicamente espacios . \n",
    "\n",
    "\n",
    "\n",
    "* rjust(int,\"string\") : Para obtener una nueva string con una longitud int utilizando unicamente caracteres definidos en el segundo argumento. "
   ]
  },
  {
   "cell_type": "code",
   "execution_count": 127,
   "metadata": {},
   "outputs": [
    {
     "name": "stdout",
     "output_type": "stream",
     "text": [
      "      juan\n",
      "::::::juan\n"
     ]
    }
   ],
   "source": [
    "h = \"juan\"\n",
    "print(h.rjust(10))\n",
    "print(h.rjust(10,\":\"))\n",
    "#\n",
    "#\n",
    "#"
   ]
  },
  {
   "cell_type": "markdown",
   "metadata": {},
   "source": [
    "### Usos de rpartition()\n",
    "\n",
    "El comando rpartition() separa la ultima coincidencia de una string con una substring sugerida por el usuario."
   ]
  },
  {
   "cell_type": "code",
   "execution_count": 128,
   "metadata": {},
   "outputs": [
    {
     "name": "stdout",
     "output_type": "stream",
     "text": [
      "('jupiter,saturno,jupiter,juputer,', 'saturno', '')\n"
     ]
    }
   ],
   "source": [
    "h = \"jupiter,saturno,jupiter,juputer,saturno\"\n",
    "print(h.rpartition(\"saturno\"))\n",
    "#\n",
    "#\n",
    "#"
   ]
  },
  {
   "cell_type": "markdown",
   "metadata": {},
   "source": [
    "### Usos de rsplit()\n",
    "\n",
    "El comando rsplit() se encarga de separar una string y convertirla en una lista. \n",
    "\n",
    "* rsplit(\", \",(int)): separa los valores de una string con comas y los instroduce en una lista , el valor int aplica para cuando queremos separar los elemetos definidos por la string ."
   ]
  },
  {
   "cell_type": "code",
   "execution_count": 129,
   "metadata": {},
   "outputs": [
    {
     "name": "stdout",
     "output_type": "stream",
     "text": [
      "['Mercurio ', ' venus ', ' tierra ', 'marte']\n",
      "['Mercurio ', ' venus ', ' tierra ', 'marte']\n"
     ]
    }
   ],
   "source": [
    "h = \"Mercurio :  venus :  tierra : marte\"\n",
    "print(h.rsplit(\": \"))\n",
    "print(h.rsplit(\": \",4))\n",
    "#\n",
    "#\n",
    "#"
   ]
  },
  {
   "cell_type": "markdown",
   "metadata": {},
   "source": [
    "### Usos de rstrip()\n",
    "\n",
    "El comando rstrip() remueve los caracteres definidos al final de la string , por defecto remueve los espacios por la parte derecha de la string .\n",
    "\n",
    "* rstrip() \n",
    "* rstrip(\"string\")"
   ]
  },
  {
   "cell_type": "code",
   "execution_count": 130,
   "metadata": {
    "scrolled": true
   },
   "outputs": [
    {
     "name": "stdout",
     "output_type": "stream",
     "text": [
      "tierra vvvv\n"
     ]
    }
   ],
   "source": [
    "h = \"tierra vvvv     \"\n",
    "print(h.rstrip())\n",
    "\n",
    "#\n",
    "#\n",
    "#"
   ]
  },
  {
   "cell_type": "markdown",
   "metadata": {},
   "source": [
    "### Usos de split() \n",
    "\n",
    "El comando split() se encarga de hacer una lista del contenido de la string siendo cada espacio un motivo para separar con comas cada parte de la string ."
   ]
  },
  {
   "cell_type": "code",
   "execution_count": 131,
   "metadata": {},
   "outputs": [
    {
     "name": "stdout",
     "output_type": "stream",
     "text": [
      "['juan', 'sebastian', 'buitrago', 'ortiz']\n",
      "['juan sebastian buitrago ortiz']\n",
      "['juan sebastian buitrago ortiz']\n"
     ]
    }
   ],
   "source": [
    "h = \"juan sebastian buitrago ortiz\"\n",
    "print(h.split())\n",
    "print(h.split(\"&\"))\n",
    "print(h.split(\"#\",1))\n",
    "#\n",
    "#\n",
    "#"
   ]
  },
  {
   "cell_type": "markdown",
   "metadata": {},
   "source": [
    "### Usos de splitlines()\n",
    "\n",
    "El comando splitlines() separa las partes de una string las cuales delimita el \\n . "
   ]
  },
  {
   "cell_type": "code",
   "execution_count": 132,
   "metadata": {},
   "outputs": [
    {
     "name": "stdout",
     "output_type": "stream",
     "text": [
      "['Juan sebastian ', ' buitrago ortiz']\n"
     ]
    }
   ],
   "source": [
    "h = \"Juan sebastian \\n buitrago ortiz\"\n",
    "print(h.splitlines())\n",
    "#\n",
    "#\n",
    "#"
   ]
  },
  {
   "cell_type": "markdown",
   "metadata": {},
   "source": [
    "### Usos de startswith()\n",
    "\n",
    "El comando startswith() retorna un valor booleano en caso tal de que la string comience con la string sugerida por el usuario . \n",
    "\n",
    "* startswith((int),valor inicial , valor final )"
   ]
  },
  {
   "cell_type": "code",
   "execution_count": 133,
   "metadata": {},
   "outputs": [
    {
     "name": "stdout",
     "output_type": "stream",
     "text": [
      "True\n"
     ]
    }
   ],
   "source": [
    "h = \"Juan buitrago\"\n",
    "print(h.startswith(\"Juan\"))\n",
    "#\n",
    "#\n",
    "#"
   ]
  },
  {
   "cell_type": "markdown",
   "metadata": {},
   "source": [
    "### Usos de strip()\n",
    "\n",
    "El comando strip() elimina los espacios que contiene una string , unicamente delimitando los substrings con espacios entre ellos y eliminando los espacios del inicio y el final si los hay . "
   ]
  },
  {
   "cell_type": "code",
   "execution_count": 134,
   "metadata": {},
   "outputs": [
    {
     "name": "stdout",
     "output_type": "stream",
     "text": [
      "Juan Sebastian Buitrago Ortiz  c  x\n"
     ]
    }
   ],
   "source": [
    "h = \"     Juan Sebastian Buitrago Ortiz  c  x    \"\n",
    "print(h.strip())\n",
    "#\n",
    "#\n",
    "#"
   ]
  },
  {
   "cell_type": "markdown",
   "metadata": {},
   "source": [
    "### Usos de swapcase()\n",
    "\n",
    "El comando swapcase() invierte el tamaño de las letras en una string, es decir que convierte las mayusculas en minusculas y visceversa. \n",
    "\n",
    " "
   ]
  },
  {
   "cell_type": "code",
   "execution_count": 135,
   "metadata": {},
   "outputs": [
    {
     "name": "stdout",
     "output_type": "stream",
     "text": [
      "jUAN sEBASTIAN bUITRAGO oRTIZ\n"
     ]
    }
   ],
   "source": [
    "h = \"Juan Sebastian Buitrago Ortiz\"\n",
    "print(h.swapcase())\n",
    "#\n",
    "#\n",
    "#"
   ]
  },
  {
   "cell_type": "markdown",
   "metadata": {},
   "source": [
    "### Usos de  title()\n",
    "\n",
    "El comando title() convierte todas las letras de inicio de las substrings en mayusculas ."
   ]
  },
  {
   "cell_type": "code",
   "execution_count": 136,
   "metadata": {},
   "outputs": [
    {
     "name": "stdout",
     "output_type": "stream",
     "text": [
      "Juan Sebastian Buitrago Ortiz\n"
     ]
    }
   ],
   "source": [
    "h = \"juan sebastian buitrago ortiz\"\n",
    "print(h.title())\n",
    "#\n",
    "#\n",
    "#"
   ]
  },
  {
   "cell_type": "markdown",
   "metadata": {},
   "source": [
    "### Usos de upper()\n",
    "\n",
    "El comando upper() convierte las letras de la string en mayusculas .\n"
   ]
  },
  {
   "cell_type": "code",
   "execution_count": 137,
   "metadata": {},
   "outputs": [
    {
     "name": "stdout",
     "output_type": "stream",
     "text": [
      "JUAN SEBASTIAN BUITRAGO ORTIZ\n"
     ]
    }
   ],
   "source": [
    "h = \"juan sebastian buitrago ortiz\"\n",
    "print(h.upper())\n",
    "#\n",
    "#\n",
    "#"
   ]
  },
  {
   "cell_type": "markdown",
   "metadata": {},
   "source": [
    "### Usos de zfill()\n",
    "\n",
    "Este comando zfill() reescribe una string y la redimensiona de modo que el numero int sugerido es la nueva longitud de la string completando los espacios faltantes con ceros ."
   ]
  },
  {
   "cell_type": "code",
   "execution_count": 138,
   "metadata": {},
   "outputs": [
    {
     "name": "stdout",
     "output_type": "stream",
     "text": [
      "000000juan\n",
      "0sebastian\n"
     ]
    }
   ],
   "source": [
    "a = \"juan\"\n",
    "b = \"sebastian\"\n",
    "print(a.zfill(10))\n",
    "print(b.zfill(10))\n",
    "#\n",
    "#\n",
    "#"
   ]
  },
  {
   "cell_type": "markdown",
   "metadata": {},
   "source": [
    "## Comandos para escritura de strings\n",
    "\n",
    "1. \\' : sintaxis de apostrofo .\n",
    "\n",
    "2. \\\\ : sintaxis de backslash.\n",
    "\n",
    "3. \\n  : sintaxis de ENTER en una linea .\n",
    "\n",
    "4. \\r  : sintaxis de eliminacion de la primer linea y la impresion de la segunda. \n",
    "\n",
    "5. \\t : sintaxis de espacio en una linea .\n",
    "\n",
    "6. \\b  : Sintaxis de eliminacion de espacios .\n",
    "\n",
    "7. \\ codigo octal .\n",
    "\n",
    "8. \\ codigo hexadecimal.\n"
   ]
  },
  {
   "cell_type": "code",
   "execution_count": 139,
   "metadata": {},
   "outputs": [
    {
     "name": "stdout",
     "output_type": "stream",
     "text": [
      "1.  ' \n",
      "It's alright\n",
      "\n",
      "\n",
      "2.  '\\' \n",
      "juan \\ buitrago\n",
      "\n",
      "\n",
      "3.  '\\ n' \n",
      "juan \n",
      " buitrago\n",
      "\n",
      "\n",
      "4.  '\\ r' \n",
      "juan\r",
      "buitrago\n",
      "\n",
      "\n",
      "5.  '\\ t' \n",
      "juan\tbuitrago\n",
      "\n",
      "\n",
      "6.  '\\ b' \n",
      "juan \bbuitrago\n",
      "\n",
      "\n",
      "7.  \\ooo \n",
      "Hello\n",
      "\n",
      "\n",
      "8. \\ xhh \n",
      "Hello\n",
      "\n",
      "\n"
     ]
    }
   ],
   "source": [
    "# \\'\n",
    "print(\"1.  \\' \")\n",
    "\n",
    "a = \"It\\'s alright\"\n",
    "print(a)\n",
    "print(\"\\n\")\n",
    "# \\\\ \n",
    "print(\"2.  '\\\\' \")\n",
    "\n",
    "b = \"juan \\\\ buitrago\"\n",
    "print(b)\n",
    "print(\"\\n\")\n",
    "# \\n \n",
    "print(\"3.  '\\ n' \")\n",
    "c = \"juan \\n buitrago\"\n",
    "print(c)\n",
    "print(\"\\n\")\n",
    "print(\"4.  '\\ r' \")\n",
    "d = \"juan\\rbuitrago\"\n",
    "print(d)\n",
    "print(\"\\n\")\n",
    "\n",
    "print(\"5.  '\\ t' \")\n",
    "e = \"juan\\tbuitrago\"\n",
    "print(e)\n",
    "print(\"\\n\")\n",
    "\n",
    "print(\"6.  '\\ b' \")\n",
    "f = \"juan \\bbuitrago\"\n",
    "print(f)\n",
    "print(\"\\n\")\n",
    "\n",
    "print(\"7.  \\ooo \")\n",
    "g = \"\\110\\145\\154\\154\\157\"\n",
    "print(g)\n",
    "print(\"\\n\")\n",
    "\n",
    "print(\"8. \\ xhh \")\n",
    "h = \"\\x48\\x65\\x6c\\x6c\\x6f\"\n",
    "print(h)\n",
    "print(\"\\n\")\n",
    "#\n",
    "#\n",
    "#"
   ]
  },
  {
   "cell_type": "code",
   "execution_count": null,
   "metadata": {},
   "outputs": [],
   "source": []
  }
 ],
 "metadata": {
  "kernelspec": {
   "display_name": "Python 3",
   "language": "python",
   "name": "python3"
  },
  "language_info": {
   "codemirror_mode": {
    "name": "ipython",
    "version": 3
   },
   "file_extension": ".py",
   "mimetype": "text/x-python",
   "name": "python",
   "nbconvert_exporter": "python",
   "pygments_lexer": "ipython3",
   "version": "3.8.2"
  }
 },
 "nbformat": 4,
 "nbformat_minor": 4
}
