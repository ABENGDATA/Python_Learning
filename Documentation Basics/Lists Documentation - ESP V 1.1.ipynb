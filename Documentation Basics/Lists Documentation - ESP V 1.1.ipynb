{
 "cells": [
  {
   "cell_type": "markdown",
   "metadata": {},
   "source": [
    "# Documentacion : Metodos de  Listas y tuplas "
   ]
  },
  {
   "cell_type": "markdown",
   "metadata": {},
   "source": [
    "## Metodos y tecnicas con listas (list())"
   ]
  },
  {
   "cell_type": "code",
   "execution_count": 40,
   "metadata": {},
   "outputs": [],
   "source": [
    "A = [1,2,3,4,5,6]\n",
    "B = ['a','b','c','d','e','f']\n",
    "C = ['g','h','i','j','k','l']"
   ]
  },
  {
   "cell_type": "markdown",
   "metadata": {},
   "source": [
    "### Acceso a items de las listas "
   ]
  },
  {
   "cell_type": "code",
   "execution_count": 41,
   "metadata": {},
   "outputs": [
    {
     "name": "stdout",
     "output_type": "stream",
     "text": [
      "2\n",
      "6\n",
      "2\n"
     ]
    }
   ],
   "source": [
    "print(A[1]) # Retorna el numero 2 de la lista\n",
    "print(A[-1]) #Retorna el numero 6 de la lista \n",
    "print(A[-5]) # Retorna el numero 2 de la lista "
   ]
  },
  {
   "cell_type": "markdown",
   "metadata": {},
   "source": [
    "### Rango de indices en una lista\n",
    "\n",
    "El indice de un elemnto o index() es la posicion que ocupa dicho elemento en la lista , este indice al manejarse como un rango toma el valor inicial pero no llega al valor delimitado como final sino uno antes asi pues A[2:4] se pensaria que toma los valores 3,4,5 pero en realidad toma 3,4 ."
   ]
  },
  {
   "cell_type": "code",
   "execution_count": 42,
   "metadata": {},
   "outputs": [
    {
     "name": "stdout",
     "output_type": "stream",
     "text": [
      "[3, 4]\n",
      "['d', 'e']\n",
      "['j', 'k']\n"
     ]
    }
   ],
   "source": [
    "print(A[2:4]) # 3,4\n",
    "print(B[3:5])# d,e\n",
    "print (C[-3:-1]) #j,k"
   ]
  },
  {
   "cell_type": "markdown",
   "metadata": {},
   "source": [
    "### Rango desde o hasta un numero "
   ]
  },
  {
   "cell_type": "code",
   "execution_count": 43,
   "metadata": {},
   "outputs": [
    {
     "name": "stdout",
     "output_type": "stream",
     "text": [
      "[1, 2, 3]\n",
      "['c', 'd', 'e', 'f']\n",
      "[3, 4, 5, 6]\n",
      "[1, 2, 3, 4]\n",
      "[1, 2, 3, 4, 5, 6]\n"
     ]
    }
   ],
   "source": [
    "print(A[:3]) # desde el inicio  al elemento 2 , es decir los primeros 3\n",
    "print(B[2:]) # desde el elemento 2 hasta el final \n",
    "print(A[-4:]) # desde el elemento 2 = -4 en posicion reversa .\n",
    "print(A[:-2]) # Toda la lista excepto los dos ultimos elementos\n",
    "print(A[:]) # Copia toda la lista de principio a fin \n"
   ]
  },
  {
   "cell_type": "markdown",
   "metadata": {},
   "source": [
    "### Rango de una lista con intervalos "
   ]
  },
  {
   "cell_type": "code",
   "execution_count": 44,
   "metadata": {},
   "outputs": [
    {
     "name": "stdout",
     "output_type": "stream",
     "text": [
      "[1, 3, 5]\n",
      "['a', 'd']\n",
      "['b', 'd', 'f']\n",
      "['a', 'c', 'e']\n",
      "['d', 'c', 'b', 'a']\n"
     ]
    }
   ],
   "source": [
    "print(A[::2]) # De principio a fin con saltos de 2 \n",
    "print(B[::3]) # De principio a fin con saltos de 3\n",
    "print(B[1::2]) # Desde 1 con saltos de 2 \n",
    "print(B[:5:2]) # hata el 4 item con saltos de 2 \n",
    "print(B[-3::-1])"
   ]
  },
  {
   "cell_type": "markdown",
   "metadata": {},
   "source": [
    "### Usos de append() \n",
    "\n",
    "El comando append() adiciona un elemento a una lista en el final de esta . \n",
    "* append(\"str\"o int )"
   ]
  },
  {
   "cell_type": "code",
   "execution_count": 45,
   "metadata": {},
   "outputs": [
    {
     "name": "stdout",
     "output_type": "stream",
     "text": [
      "None\n",
      "[1, 2, 3, 4, 5, 6, '1']\n"
     ]
    }
   ],
   "source": [
    "g = A.copy()\n",
    "print(g.append(\"1\")) # Error \n",
    "print(g)"
   ]
  },
  {
   "cell_type": "markdown",
   "metadata": {},
   "source": [
    "### Usos de clear()\n",
    "\n",
    "El comando clear() se utiliza principalmente para dejar una lista vacia ."
   ]
  },
  {
   "cell_type": "code",
   "execution_count": 50,
   "metadata": {},
   "outputs": [
    {
     "name": "stdout",
     "output_type": "stream",
     "text": [
      "[]\n"
     ]
    }
   ],
   "source": [
    "g = A.copy()\n",
    "g.clear()\n",
    "print(g)"
   ]
  },
  {
   "cell_type": "markdown",
   "metadata": {},
   "source": [
    "### Usos de copy()\n",
    "\n",
    "Realiza la copia de una lista definida por el usuario."
   ]
  },
  {
   "cell_type": "code",
   "execution_count": 51,
   "metadata": {},
   "outputs": [
    {
     "name": "stdout",
     "output_type": "stream",
     "text": [
      "['a', 'b', 'c', 'd', 'e', 'f']\n"
     ]
    }
   ],
   "source": [
    "g = B.copy()\n",
    "print(g)"
   ]
  },
  {
   "cell_type": "markdown",
   "metadata": {},
   "source": [
    "### Usos de count()\n",
    "\n",
    "El comando count() cuenta el numero de coincidencias de un elemento en una lista retornando el numero de coincidencias como un int."
   ]
  },
  {
   "cell_type": "code",
   "execution_count": 52,
   "metadata": {},
   "outputs": [
    {
     "name": "stdout",
     "output_type": "stream",
     "text": [
      "2\n"
     ]
    }
   ],
   "source": [
    "f = A.copy()\n",
    "f.append(1)\n",
    "print(f.count(1))"
   ]
  },
  {
   "cell_type": "markdown",
   "metadata": {},
   "source": [
    "### Usos de extend()\n",
    "\n",
    "El comando extend() se encarga de mezclar listas uniendolas en el orden en el que estaban , generando una nueva lista con el nombre de la primera que fue objeto de la operacion ."
   ]
  },
  {
   "cell_type": "code",
   "execution_count": 54,
   "metadata": {},
   "outputs": [
    {
     "name": "stdout",
     "output_type": "stream",
     "text": [
      "['a', 'b', 'c', 'd', 'e', 'f', 'g', 'h', 'i', 'j', 'k', 'l']\n"
     ]
    }
   ],
   "source": [
    "f = B.copy()\n",
    "g = C.copy()\n",
    "f.extend(g)\n",
    "print(f)"
   ]
  },
  {
   "cell_type": "markdown",
   "metadata": {},
   "source": [
    "### Usos de index()\n",
    "\n",
    "El comando index() retorna la posicion que ocupa un determinado elemento en la lista en caso de no estar retorna un error. \n"
   ]
  },
  {
   "cell_type": "code",
   "execution_count": 57,
   "metadata": {},
   "outputs": [
    {
     "name": "stdout",
     "output_type": "stream",
     "text": [
      "0\n"
     ]
    },
    {
     "ename": "ValueError",
     "evalue": "10 is not in list",
     "output_type": "error",
     "traceback": [
      "\u001b[1;31m---------------------------------------------------------------------------\u001b[0m",
      "\u001b[1;31mValueError\u001b[0m                                Traceback (most recent call last)",
      "\u001b[1;32m<ipython-input-57-3b7ed2c70215>\u001b[0m in \u001b[0;36m<module>\u001b[1;34m\u001b[0m\n\u001b[0;32m      1\u001b[0m \u001b[0mf\u001b[0m \u001b[1;33m=\u001b[0m \u001b[0mA\u001b[0m\u001b[1;33m.\u001b[0m\u001b[0mcopy\u001b[0m\u001b[1;33m(\u001b[0m\u001b[1;33m)\u001b[0m\u001b[1;33m\u001b[0m\u001b[1;33m\u001b[0m\u001b[0m\n\u001b[0;32m      2\u001b[0m \u001b[0mprint\u001b[0m\u001b[1;33m(\u001b[0m\u001b[0mf\u001b[0m\u001b[1;33m.\u001b[0m\u001b[0mindex\u001b[0m\u001b[1;33m(\u001b[0m\u001b[1;36m1\u001b[0m\u001b[1;33m)\u001b[0m\u001b[1;33m)\u001b[0m\u001b[1;33m\u001b[0m\u001b[1;33m\u001b[0m\u001b[0m\n\u001b[1;32m----> 3\u001b[1;33m \u001b[0mprint\u001b[0m\u001b[1;33m(\u001b[0m\u001b[0mf\u001b[0m\u001b[1;33m.\u001b[0m\u001b[0mindex\u001b[0m\u001b[1;33m(\u001b[0m\u001b[1;36m10\u001b[0m\u001b[1;33m)\u001b[0m\u001b[1;33m)\u001b[0m\u001b[1;33m\u001b[0m\u001b[1;33m\u001b[0m\u001b[0m\n\u001b[0m",
      "\u001b[1;31mValueError\u001b[0m: 10 is not in list"
     ]
    }
   ],
   "source": [
    "f = A.copy()\n",
    "print(f.index(1))\n",
    "print(f.index(10)) #Error"
   ]
  },
  {
   "cell_type": "markdown",
   "metadata": {},
   "source": [
    "### Usos de insert()\n",
    "\n",
    "El metodo insert() coloca un dato en una lista a una determinada posicion dada por el usuario.\n",
    "\n",
    "* insert(int,value)"
   ]
  },
  {
   "cell_type": "code",
   "execution_count": 61,
   "metadata": {},
   "outputs": [
    {
     "name": "stdout",
     "output_type": "stream",
     "text": [
      "[1, 'element', 5, 2, 3, 4, 5, 6]\n"
     ]
    }
   ],
   "source": [
    "f = A.copy() \n",
    "f.insert(1,\"element\")# anadiendo una string en la lista en la posicion 1\n",
    "f.insert(2,5)# añadiendo un int(5) en la lista en la posicion 2\n",
    "print(f)"
   ]
  },
  {
   "cell_type": "markdown",
   "metadata": {},
   "source": [
    "### Usos de pop()\n",
    "\n",
    "El comando pop() se encarga de retirar un valor de una lista y guardarlo como una variable .\n"
   ]
  },
  {
   "cell_type": "code",
   "execution_count": 65,
   "metadata": {},
   "outputs": [
    {
     "name": "stdout",
     "output_type": "stream",
     "text": [
      "[1, 2, 3, 4, 5, 6]\n",
      "[1, 3, 4, 5, 6]\n",
      "2\n"
     ]
    }
   ],
   "source": [
    "f = A.copy() \n",
    "print(f)\n",
    "a = f.pop(1) # Retira el valor en la posicion 1 de la lista y lo guarda como variable\n",
    "print(f)\n",
    "print(a)"
   ]
  },
  {
   "cell_type": "markdown",
   "metadata": {},
   "source": [
    "### Usos de remove()\n",
    "\n",
    "El comando remove() se encarga de remover la primer coincidencia que encuentra en una lista. "
   ]
  },
  {
   "cell_type": "code",
   "execution_count": 66,
   "metadata": {},
   "outputs": [
    {
     "name": "stdout",
     "output_type": "stream",
     "text": [
      "[2, 3, 4, 5, 1, 1]\n"
     ]
    }
   ],
   "source": [
    "A1 = [1,2,3,4,5,1,1]\n",
    "A1.remove(1)\n",
    "print(A1)"
   ]
  },
  {
   "cell_type": "markdown",
   "metadata": {},
   "source": [
    "### Usos de reverse ()\n",
    "\n",
    "El comando reverse() se encarga de reorganizar la lista de modo que revierte el orden normal de la lista."
   ]
  },
  {
   "cell_type": "code",
   "execution_count": 67,
   "metadata": {},
   "outputs": [
    {
     "name": "stdout",
     "output_type": "stream",
     "text": [
      "[6, 5, 4, 3, 2, 1]\n"
     ]
    }
   ],
   "source": [
    "f = A.copy()\n",
    "f.reverse()\n",
    "print(f)"
   ]
  },
  {
   "cell_type": "markdown",
   "metadata": {},
   "source": [
    "### Usos de sort() y sorted()\n",
    "\n",
    "El comando sort() ordena alfabeticamente una lista "
   ]
  },
  {
   "cell_type": "code",
   "execution_count": 73,
   "metadata": {},
   "outputs": [
    {
     "name": "stdout",
     "output_type": "stream",
     "text": [
      "['K', 'V', 'W', 'Z']\n",
      "[1, 2, 3, 4, 5, 6]\n"
     ]
    }
   ],
   "source": [
    "G = ['W','Z','V','K']\n",
    "G.sort()\n",
    "print(G)\n",
    "v = sorted(A)\n",
    "print(v)"
   ]
  },
  {
   "cell_type": "markdown",
   "metadata": {},
   "source": [
    "## Metodos y tecnicas con Tuplas \n",
    "\n",
    "La indicacion mas útil para conocer de una tupla es que ellas son **inmodificables**  a diferencia de las listas por lo tanto las funciones de las tuplas son muy pocas y se limitan a buscar datos entre ellas . "
   ]
  },
  {
   "cell_type": "code",
   "execution_count": 9,
   "metadata": {},
   "outputs": [
    {
     "name": "stdout",
     "output_type": "stream",
     "text": [
      "('a', 'b', 'c', 'd', 'd')\n",
      "(1, 2, 3, 4, 5)\n"
     ]
    }
   ],
   "source": [
    "a = ('a','b','c','d','d')\n",
    "b = (1,2,3,4,5)\n",
    "print(a)\n",
    "print(b)"
   ]
  },
  {
   "cell_type": "markdown",
   "metadata": {},
   "source": [
    "### Indexing en tuplas"
   ]
  },
  {
   "cell_type": "code",
   "execution_count": 3,
   "metadata": {},
   "outputs": [
    {
     "name": "stdout",
     "output_type": "stream",
     "text": [
      "b\n",
      "3\n"
     ]
    }
   ],
   "source": [
    "print(a[1])\n",
    "print(b[2])"
   ]
  },
  {
   "cell_type": "markdown",
   "metadata": {},
   "source": [
    "### Rango de indices en tuplas "
   ]
  },
  {
   "cell_type": "code",
   "execution_count": 6,
   "metadata": {},
   "outputs": [
    {
     "name": "stdout",
     "output_type": "stream",
     "text": [
      "('a', 'b')\n",
      "(1, 2, 3)\n",
      "('b', 'c')\n",
      "('b', 'c')\n"
     ]
    }
   ],
   "source": [
    "print(a[:2])\n",
    "print(b[:3])\n",
    "print(a[1:3])\n",
    "print(a[-3:-1])"
   ]
  },
  {
   "cell_type": "markdown",
   "metadata": {},
   "source": [
    "### Union de tuplas "
   ]
  },
  {
   "cell_type": "code",
   "execution_count": 7,
   "metadata": {},
   "outputs": [
    {
     "name": "stdout",
     "output_type": "stream",
     "text": [
      "('a', 'b', 'c', 'd', 1, 2, 3, 4, 5)\n"
     ]
    }
   ],
   "source": [
    "print(a+b)"
   ]
  },
  {
   "cell_type": "markdown",
   "metadata": {},
   "source": [
    "## Metodos de tuplas "
   ]
  },
  {
   "cell_type": "markdown",
   "metadata": {},
   "source": [
    "### Usos de count()\n",
    "\n",
    "Este comando se encarda de contar el numero de coincidencias en una tupla dado un parametro para buscar esta coincidencia . "
   ]
  },
  {
   "cell_type": "code",
   "execution_count": 11,
   "metadata": {},
   "outputs": [
    {
     "name": "stdout",
     "output_type": "stream",
     "text": [
      "('a', 'b', 'c', 'd', 'd')\n",
      "2\n"
     ]
    }
   ],
   "source": [
    "print(a)\n",
    "print(a.count('d'))"
   ]
  },
  {
   "cell_type": "markdown",
   "metadata": {},
   "source": [
    "### Usos de index()\n",
    "\n",
    "Este comando se encarga de ubicar el elemento en una tupla y retornar el numero que ocupa en esta."
   ]
  },
  {
   "cell_type": "code",
   "execution_count": 13,
   "metadata": {},
   "outputs": [
    {
     "name": "stdout",
     "output_type": "stream",
     "text": [
      "(1, 2, 3, 4, 5)\n",
      "1\n"
     ]
    }
   ],
   "source": [
    "print(b)\n",
    "print(b.index(2))"
   ]
  }
 ],
 "metadata": {
  "kernelspec": {
   "display_name": "Python 3",
   "language": "python",
   "name": "python3"
  },
  "language_info": {
   "codemirror_mode": {
    "name": "ipython",
    "version": 3
   },
   "file_extension": ".py",
   "mimetype": "text/x-python",
   "name": "python",
   "nbconvert_exporter": "python",
   "pygments_lexer": "ipython3",
   "version": "3.8.2"
  }
 },
 "nbformat": 4,
 "nbformat_minor": 4
}
