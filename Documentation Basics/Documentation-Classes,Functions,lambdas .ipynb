{
 "cells": [
  {
   "cell_type": "markdown",
   "metadata": {},
   "source": [
    "# Documentacion :  Funciones , lambdas y clases "
   ]
  },
  {
   "cell_type": "markdown",
   "metadata": {},
   "source": [
    "## Documentacion y sintaxis de Funciones \n",
    "\n",
    "Las funciones son correspondencias de valores que dan lugar a operaciones que son necesarias sin tener que escribir mas codigo para su repeticion ."
   ]
  },
  {
   "cell_type": "code",
   "execution_count": 2,
   "metadata": {},
   "outputs": [
    {
     "data": {
      "text/plain": [
       "10"
      ]
     },
     "execution_count": 2,
     "metadata": {},
     "output_type": "execute_result"
    }
   ],
   "source": [
    "# FUNCION QUE SE ENCARGA DE SUMAR LOS\n",
    "#ELEMENTOS DE UNA LISTA SIEMPRE SEAN NUMERICOS\n",
    "\n",
    "def one(x):\n",
    "    p = sum(x)\n",
    "    return p\n",
    "x = [1,2,3,4]\n",
    "one(x)"
   ]
  },
  {
   "cell_type": "markdown",
   "metadata": {},
   "source": [
    "### Lambdas \n",
    "\n",
    "Las estructuras denominadas lambdas son tambien funciones anonimas , estas funciones unicamente pueden tener un argumento a comparacion de una funcion regular que puede tener varios . \n"
   ]
  },
  {
   "cell_type": "code",
   "execution_count": 8,
   "metadata": {},
   "outputs": [
    {
     "name": "stdout",
     "output_type": "stream",
     "text": [
      "20\n",
      "4\n",
      "(1, 2, 3)\n",
      "15\n"
     ]
    }
   ],
   "source": [
    "v = lambda a:a+10\n",
    "print(v(10))\n",
    "\n",
    "a1 = lambda b:b**2\n",
    "print(a1(2))\n",
    "\n",
    "b = lambda a,b,c:a+b+c\n",
    "print((1,2,3))\n",
    "\n",
    "def two(x):\n",
    "    return lambda v :(v+1)*x\n",
    "onee = two(5)\n",
    "print(onee(2))"
   ]
  },
  {
   "cell_type": "markdown",
   "metadata": {},
   "source": [
    "## Documentacion y sintaxis de Clases\n",
    "\n",
    "Las clases se utilizan para crear objetos , los objetos pueden tomarse como maquinas que requieren de un valor o valores de entrada y otorgan valores de salida , realizan operaciones con el fin de que se puedan ejecutar varias veces sin utilizar grandes cantidades de codigo y se pueden importar para otros programas .\n",
    "\n",
    "Las clases dan lugar a objetos que se componen de atributos estos son las caracteristicas del objeto como ejemplo el objeto llamado circulo tiene como atributo el radio y el diametro , las instancias de un objeto son los valores que el usuario desea de este segun un valor de la variable de entrada que tienen los atributos del objeto creado por la clase. "
   ]
  },
  {
   "cell_type": "code",
   "execution_count": 8,
   "metadata": {},
   "outputs": [],
   "source": [
    "class gato: # Objeto \n",
    "    def __init__ (self,color,legs): # Atributo\n",
    "        self.color = color\n",
    "        self.legs = legs\n",
    "        \n",
    "lupe = gato(\"Tricolor\",4) # Instancia\n"
   ]
  },
  {
   "cell_type": "markdown",
   "metadata": {},
   "source": [
    "### __ init __\n",
    "\n",
    "init es un metodo utilizado como constructor de objetos , por lo tanto es muy importante tenerlo en cuenta a la hora de inicializar las variables de un objeto , el principal argumento el \"self\" que se utiliza para describir los atributos que tiene el objeto que ha sido creado . "
   ]
  },
  {
   "cell_type": "code",
   "execution_count": 10,
   "metadata": {},
   "outputs": [
    {
     "name": "stdout",
     "output_type": "stream",
     "text": [
      "2\n"
     ]
    }
   ],
   "source": [
    "class Circulo:\n",
    "    def __init__(self,radius,diameter):\n",
    "        self.radius = radius\n",
    "        self.diameter = diameter\n",
    "circulo_1 = Circulo(2,4)\n",
    "print(circulo_1.radius)"
   ]
  },
  {
   "cell_type": "markdown",
   "metadata": {},
   "source": [
    "### Metodos de una clase \n",
    "\n",
    "Existen metodos que son built-in como __ init __ y metodos que se pueden crear para otorgarle una funcionalidad al objeto en cuestion . "
   ]
  },
  {
   "cell_type": "code",
   "execution_count": 16,
   "metadata": {},
   "outputs": [
    {
     "name": "stdout",
     "output_type": "stream",
     "text": [
      "12.56\n"
     ]
    }
   ],
   "source": [
    "class Circulo:\n",
    "     def __init__(self,radius,diameter):\n",
    "        self.radius = radius\n",
    "        self.diameter = diameter\n",
    "     def area(self):\n",
    "        self.area = 3.14*(self.radius**2)\n",
    "        print(self.area)\n",
    "circulo_1 = Circulo(2,4)\n",
    "circulo_1.area()"
   ]
  },
  {
   "cell_type": "markdown",
   "metadata": {},
   "source": [
    "### Herencia \n",
    "\n",
    "La herencia en clases significa que podemos crear una clase que comparta funcionalidades en comun con otra y asi tener muchas clases con variables interdependientes , esto con el fin de optimizar las lineas de codigo y las variables descritas ."
   ]
  },
  {
   "cell_type": "code",
   "execution_count": 17,
   "metadata": {},
   "outputs": [
    {
     "name": "stdout",
     "output_type": "stream",
     "text": [
      "Tricolor\n",
      "Meow\n"
     ]
    }
   ],
   "source": [
    "class animal:\n",
    "    def __init__(self,name,color):\n",
    "        self.name = name\n",
    "        self.color = color\n",
    "class cat(animal):\n",
    "    def cats(self):\n",
    "        print(\"Meow\")\n",
    "class dog(animal):\n",
    "    def dogs(self):\n",
    "        print(woof)\n",
    "lupe = cat(\"lupe\",\"Tricolor\")\n",
    "print(lupe.color)\n",
    "lupe.cats()"
   ]
  },
  {
   "cell_type": "markdown",
   "metadata": {},
   "source": [
    "Un aspecto importante en la notacion de las clases es que cuando una clase hereda a otra se le llama superclase y la clase heredade se conoce como subclase , estos atributos de la superclase se comparten aunque si estos son definidos nuevamente en la subclase , se sobreescriben en la subclase correspondiente."
   ]
  },
  {
   "cell_type": "code",
   "execution_count": 18,
   "metadata": {},
   "outputs": [
    {
     "name": "stdout",
     "output_type": "stream",
     "text": [
      "wof\n"
     ]
    }
   ],
   "source": [
    "class lobo:\n",
    "    def __init__(self,color,name):\n",
    "        self.name = name\n",
    "        self.color = color\n",
    "    def bark(self):\n",
    "        print(\"grr\")\n",
    "class perro(lobo):\n",
    "    def bark(self):\n",
    "        print(\"wof\")\n",
    "        \n",
    "p1 = perro(\"max\",\"black\")\n",
    "p1.bark()"
   ]
  },
  {
   "cell_type": "markdown",
   "metadata": {},
   "source": [
    "### Try / Except\n",
    "\n",
    "La estructura try/Except ejecuta un codigo en el que se sabe que se obtiene error manejando este error con una excepcion definida por el usuario. "
   ]
  },
  {
   "cell_type": "code",
   "execution_count": 14,
   "metadata": {},
   "outputs": [
    {
     "name": "stdout",
     "output_type": "stream",
     "text": [
      "Division by 0\n",
      "1.0\n",
      "0.5\n",
      "0.3333333333333333\n",
      "0.25\n",
      "0.2\n",
      "Division by 0\n",
      "0.2\n",
      "Operacion con exito\n",
      "1.0\n",
      "Operacion con exito\n",
      "0.5\n",
      "Operacion con exito\n",
      "0.3333333333333333\n",
      "Operacion con exito\n",
      "0.25\n",
      "Operacion con exito\n",
      "0.2\n",
      "Operacion con exito\n"
     ]
    }
   ],
   "source": [
    "x = [0,1,2,3,4,5]\n",
    "for xs in x:\n",
    "    try:\n",
    "        v = 1/xs\n",
    "        print(v)\n",
    "    except:\n",
    "        print(\"Division by 0\")\n",
    "\n",
    "for ys in x:\n",
    "    try:\n",
    "        b = 1/ys\n",
    "    except:\n",
    "        print(\"Division by 0\")\n",
    "    finally:\n",
    "        print(b)\n",
    "        print(\"Operacion con exito\")\n"
   ]
  },
  {
   "cell_type": "code",
   "execution_count": null,
   "metadata": {},
   "outputs": [],
   "source": []
  }
 ],
 "metadata": {
  "kernelspec": {
   "display_name": "Python 3",
   "language": "python",
   "name": "python3"
  },
  "language_info": {
   "codemirror_mode": {
    "name": "ipython",
    "version": 3
   },
   "file_extension": ".py",
   "mimetype": "text/x-python",
   "name": "python",
   "nbconvert_exporter": "python",
   "pygments_lexer": "ipython3",
   "version": "3.8.2"
  }
 },
 "nbformat": 4,
 "nbformat_minor": 4
}
