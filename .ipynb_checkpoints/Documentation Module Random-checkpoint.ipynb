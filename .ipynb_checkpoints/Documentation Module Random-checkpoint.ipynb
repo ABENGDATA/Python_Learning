{
 "cells": [
  {
   "cell_type": "markdown",
   "metadata": {},
   "source": [
    "# Documentación : Módulo Random \n",
    "El modulo random tiene como funcion generar numeros pseudo variables o aleatorios ,se compone de funciones contables , funciones  para generar integers , funciones para generar secuencias , distribuciones de valor real y generadores alternativos ,estas partes tienen en comun que generan valores y datos aleatorios con cierto margen de rigurosidad , a continuacion se describen las funciones mas comunes de el modulo random ."
   ]
  },
  {
   "cell_type": "code",
   "execution_count": 2,
   "metadata": {},
   "outputs": [],
   "source": [
    "from random import *\n"
   ]
  },
  {
   "cell_type": "markdown",
   "metadata": {},
   "source": [
    "## Comandos más utilizados \n",
    "\n",
    "#### 1. random\n",
    "#### 2. randint\n",
    "#### 3. uniform\n",
    "#### 4. choice\n",
    "#### 5. choices\n",
    "#### 6. shuffle\n",
    "#### 7. sample\n",
    "#### 8.randrange\n"
   ]
  },
  {
   "cell_type": "markdown",
   "metadata": {},
   "source": [
    "### 1. random() \n",
    "El comando random se encarga de generar un numero pseudoaleatorio perteneciente al intervalo (0,1] . "
   ]
  },
  {
   "cell_type": "code",
   "execution_count": 4,
   "metadata": {},
   "outputs": [
    {
     "name": "stdout",
     "output_type": "stream",
     "text": [
      "0.1979977284000618\n",
      "0.6859085235283728\n"
     ]
    }
   ],
   "source": [
    "a = random()\n",
    "print(a)\n",
    "\n",
    "b = random()\n",
    "print(b)"
   ]
  },
  {
   "cell_type": "markdown",
   "metadata": {},
   "source": [
    "### 2. randint(a,b)\n",
    "El comando randint retorna un integer aleatorio entre el intervalo [a,b]."
   ]
  },
  {
   "cell_type": "code",
   "execution_count": 7,
   "metadata": {},
   "outputs": [
    {
     "name": "stdout",
     "output_type": "stream",
     "text": [
      "4\n",
      "19\n"
     ]
    }
   ],
   "source": [
    "a = randint(1,4)\n",
    "print(a)\n",
    "\n",
    "b = randint(10,20)\n",
    "print(b)"
   ]
  },
  {
   "cell_type": "markdown",
   "metadata": {},
   "source": [
    "### 3. uniform(a,b) \n",
    "El comando uniform retorna un float para todo numero entre [a,b] siempre que a<=b, y [b,a] para b<a.\n"
   ]
  },
  {
   "cell_type": "code",
   "execution_count": 8,
   "metadata": {},
   "outputs": [
    {
     "name": "stdout",
     "output_type": "stream",
     "text": [
      "2.657423543747893\n",
      "1.2783511066309807\n"
     ]
    }
   ],
   "source": [
    "a = uniform(1,4)\n",
    "print(a)\n",
    "\n",
    "b = uniform(2,1)\n",
    "print(b)\n"
   ]
  },
  {
   "cell_type": "markdown",
   "metadata": {},
   "source": [
    "### 4. choice(seq)\n",
    "choice se encarga de elegir un elemento aleatoriamente de una secuencia no vacia de elementos."
   ]
  },
  {
   "cell_type": "code",
   "execution_count": 10,
   "metadata": {},
   "outputs": [
    {
     "name": "stdout",
     "output_type": "stream",
     "text": [
      "azul\n",
      "amarillo\n"
     ]
    }
   ],
   "source": [
    "seq = [\"amarillo\",\"azul\",\"rojo\"]\n",
    "a = choice(seq)\n",
    "print(a)\n",
    "\n",
    "b = choice(seq)\n",
    "print(b)"
   ]
  },
  {
   "cell_type": "markdown",
   "metadata": {},
   "source": [
    "### 5. choices(poblacion,weights,*,cum_weights,k=1)\n",
    "Choices sigue el mismo principio de choice solo que esta vez el parametro weights permite restringir la probabilidad de que un elemento especifico sea elegido y la k es el numero de elementos a elegir aleatoriamente. "
   ]
  },
  {
   "cell_type": "code",
   "execution_count": 16,
   "metadata": {},
   "outputs": [
    {
     "name": "stdout",
     "output_type": "stream",
     "text": [
      "['azul', 'amarillo']\n",
      "['amarillo', 'blanco', 'azul', 'azul', 'blanco']\n"
     ]
    }
   ],
   "source": [
    "seq = [\"amarillo\",\"azul\",\"rojo\",\"negro\",\"blanco\"]\n",
    "a = choices(seq,k=2) # para elegir dos valores retorna una lista\n",
    "print(a)\n",
    "\n",
    "b = choices(seq,[10,10,1,1,12],k=5)\n",
    "print(b)"
   ]
  },
  {
   "cell_type": "markdown",
   "metadata": {},
   "source": [
    "### 6.shuffle(x[random])\n",
    "Se encarga de mezclar aleatoriamente una secuencia de elementos.\n"
   ]
  },
  {
   "cell_type": "code",
   "execution_count": 19,
   "metadata": {},
   "outputs": [
    {
     "name": "stdout",
     "output_type": "stream",
     "text": [
      "[1, 2, 3, 4, 5, 6, 7, 8, 9, 10]\n",
      "[7, 5, 9, 10, 1, 6, 2, 3, 4, 8]\n"
     ]
    }
   ],
   "source": [
    "a = [1,2,3,4,5,6,7,8,9,10]\n",
    "print(a)\n",
    "shuffle(a)\n",
    "print(a)"
   ]
  },
  {
   "cell_type": "markdown",
   "metadata": {},
   "source": [
    "### 7.sample(poblacion,k)\n",
    "Se encarga de obtener una muestra de una poblacion donde la poblacion es una secuencia de datos y k es el tamaño de la poblacion . "
   ]
  },
  {
   "cell_type": "code",
   "execution_count": 20,
   "metadata": {},
   "outputs": [
    {
     "name": "stdout",
     "output_type": "stream",
     "text": [
      "[14, 22]\n"
     ]
    }
   ],
   "source": [
    "a = list(range(1,25))\n",
    "b = sample(a,k=2)\n",
    "print(b)"
   ]
  },
  {
   "cell_type": "markdown",
   "metadata": {},
   "source": [
    "### 8.randrange(stop) or randrange(start,stop,[step])\n",
    "Retorna un valor donde el numero de paro no se incluye."
   ]
  },
  {
   "cell_type": "code",
   "execution_count": 22,
   "metadata": {},
   "outputs": [
    {
     "name": "stdout",
     "output_type": "stream",
     "text": [
      "11\n",
      "19\n"
     ]
    }
   ],
   "source": [
    "a = randrange(1,20,2) # desde 1 hasta 19 en intervalos de 2 \n",
    "print(a)\n",
    "\n",
    "b = randrange(20)\n",
    "print(b)"
   ]
  },
  {
   "cell_type": "code",
   "execution_count": null,
   "metadata": {},
   "outputs": [],
   "source": []
  },
  {
   "cell_type": "code",
   "execution_count": null,
   "metadata": {},
   "outputs": [],
   "source": []
  }
 ],
 "metadata": {
  "kernelspec": {
   "display_name": "Python 3",
   "language": "python",
   "name": "python3"
  },
  "language_info": {
   "codemirror_mode": {
    "name": "ipython",
    "version": 3
   },
   "file_extension": ".py",
   "mimetype": "text/x-python",
   "name": "python",
   "nbconvert_exporter": "python",
   "pygments_lexer": "ipython3",
   "version": "3.8.2"
  }
 },
 "nbformat": 4,
 "nbformat_minor": 4
}
