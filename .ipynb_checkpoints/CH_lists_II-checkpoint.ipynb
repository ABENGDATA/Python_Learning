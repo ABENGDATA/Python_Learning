{
 "cells": [
  {
   "cell_type": "markdown",
   "metadata": {},
   "source": [
    "# Working with lists "
   ]
  },
  {
   "cell_type": "markdown",
   "metadata": {},
   "source": [
    "In the past chapter we were learning some useful functions to apply to lists , now we are going to learn how to put it functions on together ."
   ]
  },
  {
   "cell_type": "markdown",
   "metadata": {},
   "source": [
    "### looping Though an Entire List"
   ]
  },
  {
   "cell_type": "markdown",
   "metadata": {},
   "source": [
    "In this case we will use a \"for\" loop to print each element in our list \n",
    "the syntax of the \"for\" loop is very important to this loop works correctly ."
   ]
  },
  {
   "cell_type": "code",
   "execution_count": 3,
   "metadata": {},
   "outputs": [
    {
     "name": "stdout",
     "output_type": "stream",
     "text": [
      "my favorite color is Yellow.\n",
      "my favorite color is Red.\n",
      "my favorite color is Blue.\n",
      "my favorite color is Green.\n"
     ]
    }
   ],
   "source": [
    "colors = [\"Yellow\",\"Red\",\"Blue\",\"Green\"]\n",
    "for color in colors:\n",
    "    print(\"my favorite color is \"  +color+\".\")"
   ]
  },
  {
   "cell_type": "markdown",
   "metadata": {},
   "source": [
    "The \"for\" loop above prints each element in the list but before the elements has been stored in the variable \"color\" the elements in an individual form and print those "
   ]
  }
 ],
 "metadata": {
  "kernelspec": {
   "display_name": "Python 3",
   "language": "python",
   "name": "python3"
  },
  "language_info": {
   "codemirror_mode": {
    "name": "ipython",
    "version": 3
   },
   "file_extension": ".py",
   "mimetype": "text/x-python",
   "name": "python",
   "nbconvert_exporter": "python",
   "pygments_lexer": "ipython3",
   "version": "3.8.2"
  }
 },
 "nbformat": 4,
 "nbformat_minor": 4
}
