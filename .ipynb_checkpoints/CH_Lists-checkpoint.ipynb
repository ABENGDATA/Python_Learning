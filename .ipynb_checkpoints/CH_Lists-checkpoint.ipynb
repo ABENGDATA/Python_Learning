{
 "cells": [
  {
   "cell_type": "markdown",
   "metadata": {},
   "source": [
    "# Introduction to lists "
   ]
  },
  {
   "cell_type": "markdown",
   "metadata": {},
   "source": [
    "A list is a collection of data , this data can be numbers,names or whatever you want , if you want to type a list you must indicate a variable name and start with square brackets \"[  ]\" and write your data with commas as separation .\" [1,2,3,\"juan\"] \"."
   ]
  },
  {
   "cell_type": "markdown",
   "metadata": {},
   "source": [
    "Example : "
   ]
  },
  {
   "cell_type": "code",
   "execution_count": 103,
   "metadata": {
    "scrolled": true
   },
   "outputs": [
    {
     "name": "stdout",
     "output_type": "stream",
     "text": [
      "['trek', 'canondale', 'redline', 'specialized']\n"
     ]
    }
   ],
   "source": [
    "Bicycles = ['trek','canondale','redline','specialized']\n",
    "print(Bicycles)"
   ]
  },
  {
   "cell_type": "markdown",
   "metadata": {},
   "source": [
    "### Accessing Elements in a list "
   ]
  },
  {
   "cell_type": "markdown",
   "metadata": {},
   "source": [
    "When you want to access into a list in python you must know that a list starts in the \"0\" position \n",
    "For Example :\n",
    "\n",
    "Bicycles = ['trek','canondale','redline','specialized']\n",
    "\n",
    "In the list above if you want to call the first element \"trek\" you need to call like this \n",
    "\n",
    "Bicycles[0] if you want to call trek \n",
    "Bicycles[1] if you want to call canondale \n",
    "\n",
    "and so on \n"
   ]
  },
  {
   "cell_type": "code",
   "execution_count": 104,
   "metadata": {},
   "outputs": [
    {
     "name": "stdout",
     "output_type": "stream",
     "text": [
      "trek\n",
      "canondale\n",
      "redline\n",
      "specialized\n"
     ]
    }
   ],
   "source": [
    "print(Bicycles[0])\n",
    "print(Bicycles[1])\n",
    "print(Bicycles[2])\n",
    "print(Bicycles[3])"
   ]
  },
  {
   "cell_type": "markdown",
   "metadata": {},
   "source": [
    "If you want to write your output with the first uppercase you could do with the function \"title()\""
   ]
  },
  {
   "cell_type": "code",
   "execution_count": 105,
   "metadata": {},
   "outputs": [
    {
     "name": "stdout",
     "output_type": "stream",
     "text": [
      "Trek\n"
     ]
    }
   ],
   "source": [
    "print(Bicycles[0].title())"
   ]
  },
  {
   "cell_type": "markdown",
   "metadata": {},
   "source": [
    "### Index positions "
   ]
  },
  {
   "cell_type": "markdown",
   "metadata": {},
   "source": [
    "If you want to know the other ways to call an item in a list you must know the negative indexes , this indexes call any element in your list but starting by the end .\n",
    "This syntax is quite useful if you do not know what is the length of the list \n",
    "For example : "
   ]
  },
  {
   "cell_type": "code",
   "execution_count": 106,
   "metadata": {},
   "outputs": [
    {
     "name": "stdout",
     "output_type": "stream",
     "text": [
      "specialized\n",
      "redline\n",
      "canondale\n",
      "trek\n"
     ]
    }
   ],
   "source": [
    "print(Bicycles[-1]) # to call specialized \n",
    "print(Bicycles[-2]) # to call redline \n",
    "print(Bicycles[-3]) # to call canondale \n",
    "print(Bicycles[-4]) # to call trek "
   ]
  },
  {
   "cell_type": "markdown",
   "metadata": {},
   "source": [
    "### Using individual values from  a list "
   ]
  },
  {
   "cell_type": "markdown",
   "metadata": {},
   "source": [
    "When you have a list and just need a single value or a set of values you could need the follow syntax . "
   ]
  },
  {
   "cell_type": "code",
   "execution_count": 107,
   "metadata": {},
   "outputs": [
    {
     "name": "stdout",
     "output_type": "stream",
     "text": [
      "My Bicyle was a Trek.\n"
     ]
    }
   ],
   "source": [
    "message   = \"My Bicyle was a \"+Bicycles[0].title()+\".\"\n",
    "print(message)"
   ]
  },
  {
   "cell_type": "markdown",
   "metadata": {},
   "source": [
    "In this case we used the function title to change the first letter in uppercase , the operator \"+\" to combine the variable with a string ."
   ]
  },
  {
   "cell_type": "markdown",
   "metadata": {},
   "source": [
    "![](img1.jpg)"
   ]
  },
  {
   "cell_type": "markdown",
   "metadata": {},
   "source": [
    "We can do this activity with another subject in my case i will do this with a antivirus brands lets do this ."
   ]
  },
  {
   "cell_type": "code",
   "execution_count": 108,
   "metadata": {},
   "outputs": [
    {
     "name": "stdout",
     "output_type": "stream",
     "text": [
      "Norton\n",
      "Nod32\n",
      "Avast\n",
      "Kaspersky\n",
      "Avg\n"
     ]
    }
   ],
   "source": [
    "antivirus = [\"Norton\",\"Nod32\",\"Avast\",\"Kaspersky\",\"AVG\"]\n",
    "print(antivirus[0].title())\n",
    "print(antivirus[1].title())\n",
    "print(antivirus[2].title())\n",
    "print(antivirus[3].title())\n",
    "print(antivirus[4].title())"
   ]
  },
  {
   "cell_type": "code",
   "execution_count": 109,
   "metadata": {},
   "outputs": [
    {
     "name": "stdout",
     "output_type": "stream",
     "text": [
      "This is one of the best antivirus that you could get Norton.\n",
      "This is one of the best antivirus that you could get Nod32.\n",
      "This is one of the best antivirus that you could get Avast.\n",
      "This is one of the best antivirus that you could get Kaspersky.\n",
      "This is one of the best antivirus that you could get Avg.\n"
     ]
    }
   ],
   "source": [
    "print( \"This is one of the best antivirus that you could get \"+antivirus[0].title()+\".\")\n",
    "print(\"This is one of the best antivirus that you could get \"+antivirus[1].title()+\".\")\n",
    "print(\"This is one of the best antivirus that you could get \"+antivirus[2].title()+\".\")\n",
    "print(\"This is one of the best antivirus that you could get \"+antivirus[3].title()+\".\")\n",
    "print(\"This is one of the best antivirus that you could get \"+antivirus[4].title()+\".\")\n"
   ]
  },
  {
   "cell_type": "markdown",
   "metadata": {},
   "source": [
    "### Changing adding and removing elements "
   ]
  },
  {
   "cell_type": "markdown",
   "metadata": {},
   "source": [
    "As first task we are gonna learn how to modify elements of our lists "
   ]
  },
  {
   "cell_type": "code",
   "execution_count": 110,
   "metadata": {},
   "outputs": [
    {
     "name": "stdout",
     "output_type": "stream",
     "text": [
      "['Carrot', 'Vetch', 'Potatoes', 'Meat', 'Apples']\n"
     ]
    }
   ],
   "source": [
    "Market = [\"Carrot\",\"Vetch\",\"Potatoes\",\"Meat\",\"Apples\"]\n",
    "print(Market)"
   ]
  },
  {
   "cell_type": "code",
   "execution_count": 111,
   "metadata": {},
   "outputs": [
    {
     "name": "stdout",
     "output_type": "stream",
     "text": [
      "['Beans', 'Vetch', 'Potatoes', 'Meat', 'Apples']\n"
     ]
    }
   ],
   "source": [
    "Market[0] = \"Beans\"\n",
    "print(Market)"
   ]
  },
  {
   "cell_type": "markdown",
   "metadata": {},
   "source": [
    "### Adding elemnts to a list "
   ]
  },
  {
   "cell_type": "markdown",
   "metadata": {},
   "source": [
    "If you want to add an element into a list one of the most powerful tools is the function append(),this function adds the element in the end of the list . "
   ]
  },
  {
   "cell_type": "code",
   "execution_count": 112,
   "metadata": {},
   "outputs": [
    {
     "name": "stdout",
     "output_type": "stream",
     "text": [
      "['Lions', 'Hyenas', 'Sharks', 'tigers', 'apes', 'Snakes']\n"
     ]
    }
   ],
   "source": [
    "Wild = [\"Lions\",\"Hyenas\",\"Sharks\",\"tigers\",\"apes\"]\n",
    "Wild.append(\"Snakes\")\n",
    "print(Wild)"
   ]
  },
  {
   "cell_type": "code",
   "execution_count": 113,
   "metadata": {},
   "outputs": [
    {
     "name": "stdout",
     "output_type": "stream",
     "text": [
      "['IBM', 'Microsoft', 'General Electric']\n"
     ]
    }
   ],
   "source": [
    "Tech = []\n",
    "Tech.append(\"IBM\")\n",
    "Tech.append(\"Microsoft\")\n",
    "Tech.append(\"General Electric\")\n",
    "print(Tech)"
   ]
  },
  {
   "cell_type": "markdown",
   "metadata": {},
   "source": [
    "In the list of above we did a empty list and filled that list with elements since tha last part ."
   ]
  },
  {
   "cell_type": "markdown",
   "metadata": {},
   "source": [
    "### Inserting Elements into a List "
   ]
  },
  {
   "cell_type": "markdown",
   "metadata": {},
   "source": [
    "The function insert() adds a element to a list if you indicate the postion that it will occupy "
   ]
  },
  {
   "cell_type": "code",
   "execution_count": 114,
   "metadata": {},
   "outputs": [
    {
     "name": "stdout",
     "output_type": "stream",
     "text": [
      "['Apple', 'IBM', 'Microsoft', 'General Electric']\n"
     ]
    }
   ],
   "source": [
    "Tech.insert(0,\"Apple\")\n",
    "print(Tech)"
   ]
  },
  {
   "cell_type": "markdown",
   "metadata": {},
   "source": [
    "If you want to fill a list with this function that is not recomended because the function insert needs a subscript for the entry that you will add and an empty list doesnt have entries stablished thus if you insert a element this will be always in the 0 entry no matter if you put another one ."
   ]
  },
  {
   "cell_type": "markdown",
   "metadata": {},
   "source": [
    "### Removing an Item Using \"del\" Statement \n"
   ]
  },
  {
   "cell_type": "code",
   "execution_count": 115,
   "metadata": {},
   "outputs": [
    {
     "name": "stdout",
     "output_type": "stream",
     "text": [
      "['Apple', 'IBM', 'Microsoft', 'General Electric']\n",
      "['IBM', 'Microsoft', 'General Electric']\n"
     ]
    }
   ],
   "source": [
    "print(Tech)\n",
    "del Tech[0]\n",
    "print(Tech)\n"
   ]
  },
  {
   "cell_type": "markdown",
   "metadata": {},
   "source": [
    "The function \"del\" gives you the posibility of delete a specific entry only writing the list and the position of the element between square brackets . This function only deletes elements if you need to save the element that you have deleted this function desnt work for that ."
   ]
  },
  {
   "cell_type": "markdown",
   "metadata": {},
   "source": [
    "### Removing an Item using the pop() method "
   ]
  },
  {
   "cell_type": "markdown",
   "metadata": {},
   "source": [
    "The pop() function allows you to delete an element of a list but this element will be save for future calculations  also the pop() just will extract the last element."
   ]
  },
  {
   "cell_type": "code",
   "execution_count": 116,
   "metadata": {},
   "outputs": [
    {
     "name": "stdout",
     "output_type": "stream",
     "text": [
      "['IBM', 'Microsoft', 'General Electric']\n",
      "General Electric\n",
      "My First work was at General Electric.\n"
     ]
    }
   ],
   "source": [
    "print(Tech)\n",
    "Tech1 = Tech.pop()\n",
    "print(Tech1)\n",
    "print(\"My First work was at \"+Tech1+\".\")"
   ]
  },
  {
   "cell_type": "markdown",
   "metadata": {},
   "source": [
    "you can also use pop() to extract an element in a specific position if you want ."
   ]
  },
  {
   "cell_type": "code",
   "execution_count": 117,
   "metadata": {},
   "outputs": [
    {
     "name": "stdout",
     "output_type": "stream",
     "text": [
      "IBM\n",
      "I will work at IBM.\n"
     ]
    }
   ],
   "source": [
    "Tech2 = Tech.pop(0)\n",
    "print(Tech2)\n",
    "print(\"I will work at \"+Tech2+\".\")\n"
   ]
  },
  {
   "cell_type": "markdown",
   "metadata": {},
   "source": [
    "### Remove an Item by Value "
   ]
  },
  {
   "cell_type": "markdown",
   "metadata": {},
   "source": [
    "When you dont know the position in the list of an element that you would like to remove you will need to know how the function remove() works ."
   ]
  },
  {
   "cell_type": "code",
   "execution_count": 118,
   "metadata": {},
   "outputs": [
    {
     "name": "stdout",
     "output_type": "stream",
     "text": [
      "['UFC', 'ONE', 'Bellator', 'BKFC', 'Pride']\n",
      "['UFC', 'ONE', 'Bellator', 'BKFC']\n"
     ]
    }
   ],
   "source": [
    "Fight= [\"UFC\",\"ONE\",\"Bellator\",\"BKFC\",\"Pride\"]\n",
    "print(Fight)\n",
    "Fight.remove(\"Pride\")\n",
    "print(Fight)"
   ]
  },
  {
   "cell_type": "markdown",
   "metadata": {},
   "source": [
    "![](img2.jpg)"
   ]
  },
  {
   "cell_type": "markdown",
   "metadata": {},
   "source": [
    "I will do a list to invite some firms to my event called \"Fims meeting\""
   ]
  },
  {
   "cell_type": "code",
   "execution_count": 119,
   "metadata": {},
   "outputs": [
    {
     "name": "stdout",
     "output_type": "stream",
     "text": [
      "Hi your Firm ibm  has been invited to a meeting with other firms \n",
      "Hi your Firm 3m has been invited to a meeting with other firms \n",
      "Hi your Firm Wikipedia has been invited to a meeting with other firms \n",
      "it is  sad for us not to have microsoft in our meeting\n",
      "Hi your Firm Sony has been invited to a meeting with other firms \n",
      "['twitter', 'Rogue', 'Tesla']\n"
     ]
    }
   ],
   "source": [
    "firms = [\"ibm\",\"microsoft\",\"3m\",\"twitter\",\"Wikipedia\"]\n",
    "print(\"Hi your Firm \"+firms.pop(0)+\"  has been invited to a meeting with other firms \")\n",
    "print(\"Hi your Firm \"+   firms.pop(1)   + \" has been invited to a meeting with other firms \")\n",
    "print(\"Hi your Firm \"+   firms.pop(2)    + \" has been invited to a meeting with other firms \")\n",
    "print (\"it is  sad for us not to have \"+firms.pop(0)+ \" in our meeting\")\n",
    "## Second part\n",
    "firms.insert(0,\"Sony\")\n",
    "print(\"Hi your Firm \"+   firms.pop(0)    + \" has been invited to a meeting with other firms \")\n",
    "## Third part \n",
    "firms.insert(1,\"Rogue\")\n",
    "firms.insert(2,\"Tesla\")\n",
    "print(firms)"
   ]
  },
  {
   "cell_type": "markdown",
   "metadata": {},
   "source": [
    "### Organizing a list "
   ]
  },
  {
   "cell_type": "code",
   "execution_count": 120,
   "metadata": {},
   "outputs": [
    {
     "name": "stdout",
     "output_type": "stream",
     "text": [
      "['Bmw', 'Ford', 'Pogueot ', 'Subaru', 'Toyota']\n"
     ]
    }
   ],
   "source": [
    "cars = [\"Bmw\",\"Toyota\",\"Subaru\",\"Pogueot \",\"Ford\"]\n",
    "cars.sort()\n",
    "print(cars)"
   ]
  },
  {
   "cell_type": "markdown",
   "metadata": {},
   "source": [
    "The function sort() gives you the chance to organize the elements of your list in this case accord to the alphabetical order . "
   ]
  },
  {
   "cell_type": "code",
   "execution_count": 121,
   "metadata": {},
   "outputs": [
    {
     "name": "stdout",
     "output_type": "stream",
     "text": [
      "[2, 6, 8, 10, 24]\n"
     ]
    }
   ],
   "source": [
    "pair = [6,8,10,24,2]\n",
    "pair.sort()\n",
    "print(pair)"
   ]
  },
  {
   "cell_type": "markdown",
   "metadata": {},
   "source": [
    "this function also works with numbers ,it sorts the list in increasing order and if you put a condition you could sort your elements in reverse mode .\n"
   ]
  },
  {
   "cell_type": "code",
   "execution_count": 122,
   "metadata": {},
   "outputs": [
    {
     "name": "stdout",
     "output_type": "stream",
     "text": [
      "['Toyota', 'Subaru', 'Pogueot ', 'Ford', 'Bmw']\n",
      "[24, 10, 8, 6, 2]\n"
     ]
    }
   ],
   "source": [
    "cars.sort(reverse=True)\n",
    "pair.sort(reverse=True)\n",
    "print(cars)\n",
    "print(pair)"
   ]
  },
  {
   "cell_type": "markdown",
   "metadata": {},
   "source": [
    "### Sorting a list Temprarily with sorted() Function "
   ]
  },
  {
   "cell_type": "markdown",
   "metadata": {},
   "source": [
    "If you want to save the original list with its original order the function sorted() sorts your list and save it for future calculations ."
   ]
  },
  {
   "cell_type": "code",
   "execution_count": 123,
   "metadata": {},
   "outputs": [
    {
     "name": "stdout",
     "output_type": "stream",
     "text": [
      "['100', '1000', '200', '50', '500']\n",
      "['100', '50', '1000', '200', '500']\n"
     ]
    }
   ],
   "source": [
    "coins = [\"100\",\"50\",\"1000\",\"200\",\"500\"]\n",
    "print(sorted(coins))\n",
    "print(coins )\n"
   ]
  },
  {
   "cell_type": "markdown",
   "metadata": {},
   "source": [
    "### Printing a list in reverse order \n"
   ]
  },
  {
   "cell_type": "code",
   "execution_count": 124,
   "metadata": {},
   "outputs": [
    {
     "name": "stdout",
     "output_type": "stream",
     "text": [
      "['100', '50', '1000', '200', '500']\n",
      "['500', '200', '1000', '50', '100']\n"
     ]
    }
   ],
   "source": [
    "print(coins)\n",
    "coins.reverse()# reverse function that shows your list starting to the end\n",
    "print(coins)"
   ]
  },
  {
   "cell_type": "markdown",
   "metadata": {},
   "source": [
    "### Finding the Lenght of a list "
   ]
  },
  {
   "cell_type": "code",
   "execution_count": 125,
   "metadata": {},
   "outputs": [
    {
     "name": "stdout",
     "output_type": "stream",
     "text": [
      "['500', '200', '1000', '50', '100']\n"
     ]
    },
    {
     "data": {
      "text/plain": [
       "5"
      ]
     },
     "execution_count": 125,
     "metadata": {},
     "output_type": "execute_result"
    }
   ],
   "source": [
    "print(coins)\n",
    "len(coins) # Function len returns the lenght of the element\n"
   ]
  },
  {
   "cell_type": "markdown",
   "metadata": {},
   "source": [
    "![](img3.jpg)"
   ]
  },
  {
   "cell_type": "code",
   "execution_count": 1,
   "metadata": {},
   "outputs": [
    {
     "name": "stdout",
     "output_type": "stream",
     "text": [
      "['Singapur', 'Australia', 'Finland', 'Sweden', 'Scotland']\n",
      "['Australia', 'Finland', 'Scotland', 'Singapur', 'Sweden']\n",
      "['Singapur', 'Australia', 'Finland', 'Sweden', 'Scotland']\n",
      "['Scotland', 'Sweden', 'Finland', 'Australia', 'Singapur']\n",
      "['Australia', 'Finland', 'Scotland', 'Singapur', 'Sweden']\n",
      "['Scotland', 'Sweden', 'Finland', 'Australia', 'Singapur']\n"
     ]
    }
   ],
   "source": [
    "stw = [\"Singapur\",\"Australia\",\"Finland\",\"Sweden\",\"Scotland\"]\n",
    "print(stw)\n",
    "print(sorted(stw))\n",
    "print(stw)\n",
    "stw.reverse()\n",
    "print(stw)\n",
    "print(sorted(stw))\n",
    "print(stw)\n"
   ]
  },
  {
   "cell_type": "markdown",
   "metadata": {},
   "source": [
    "### Concatenate , split() ,extend()"
   ]
  },
  {
   "cell_type": "code",
   "execution_count": 4,
   "metadata": {},
   "outputs": [
    {
     "name": "stdout",
     "output_type": "stream",
     "text": [
      "['juan', 10, 'juancho', 25, 25.0]\n",
      "['juan', 10, 'juancho', 25, 25.0, ['hi', 1]]\n"
     ]
    }
   ],
   "source": [
    "b = [\"juan\",10,\"juancho\",25,25.0]\n",
    "print(b)\n",
    "c = [\"hi\",1]\n",
    "b.append(c)\n",
    "print (b)\n"
   ]
  },
  {
   "cell_type": "markdown",
   "metadata": {},
   "source": [
    "### Summary \n",
    "Functions that apply for lists : \n",
    "1. .append() : add an element in the end of the list.\n",
    "2. .insert(numberm,\"String\") : add an element in the position that you desire .\n",
    "3. list[number] = \"string\" : Replaces an element indicated in the subscript .\n",
    "To remove \n",
    "1. del : deletes an element\n",
    "2. .pop(number) : extract an element \n",
    "3. .remove(\"String\") : remove an element with an string specification \n",
    "to sort \n",
    "1. .sort() : sorts a list\n",
    "2. sorted (list number ) : sorts a list to save in a new variable ,without modifying the original .\n",
    "3. .reverse() : Sorts a list in reverse of the entries aplhabetical or numerical . \n",
    "others \n",
    "1. len() : returns the length of the list \n"
   ]
  }
 ],
 "metadata": {
  "kernelspec": {
   "display_name": "Python 3",
   "language": "python",
   "name": "python3"
  },
  "language_info": {
   "codemirror_mode": {
    "name": "ipython",
    "version": 3
   },
   "file_extension": ".py",
   "mimetype": "text/x-python",
   "name": "python",
   "nbconvert_exporter": "python",
   "pygments_lexer": "ipython3",
   "version": "3.8.2"
  }
 },
 "nbformat": 4,
 "nbformat_minor": 4
}
