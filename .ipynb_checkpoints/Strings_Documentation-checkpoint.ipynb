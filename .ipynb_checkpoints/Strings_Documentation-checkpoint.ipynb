{
 "cells": [
  {
   "cell_type": "markdown",
   "metadata": {},
   "source": [
    "# String Methods Documentation (V.1.0)"
   ]
  },
  {
   "cell_type": "markdown",
   "metadata": {},
   "source": [
    "![](12334613-971.jpg)"
   ]
  },
  {
   "cell_type": "code",
   "execution_count": 5,
   "metadata": {},
   "outputs": [],
   "source": [
    "# String Methods \n",
    "Line = \"IM THE KIND OF PERSON THAT LIKES TO WAKE UP LATER\"\n",
    "word = \"evening\"\n",
    "word2 = \"e\\tve\\tning\""
   ]
  },
  {
   "cell_type": "markdown",
   "metadata": {},
   "source": [
    "### Uses of capitalize() "
   ]
  },
  {
   "cell_type": "code",
   "execution_count": 6,
   "metadata": {},
   "outputs": [
    {
     "name": "stdout",
     "output_type": "stream",
     "text": [
      "*Uses of capitalize\n",
      "Evening\n"
     ]
    }
   ],
   "source": [
    "# Uses of capitalize \n",
    "print(\"*Uses of capitalize\")\n",
    "print(word.capitalize()) # Become the first letter in uppercase"
   ]
  },
  {
   "cell_type": "markdown",
   "metadata": {},
   "source": [
    "### Uses of casefold()"
   ]
  },
  {
   "cell_type": "code",
   "execution_count": 7,
   "metadata": {},
   "outputs": [
    {
     "name": "stdout",
     "output_type": "stream",
     "text": [
      "im the kind of person that likes to wake up later\n"
     ]
    }
   ],
   "source": [
    "print(Line.casefold()) # Become the entire string in lowercase"
   ]
  },
  {
   "cell_type": "markdown",
   "metadata": {},
   "source": [
    "### Uses of center()"
   ]
  },
  {
   "cell_type": "code",
   "execution_count": 8,
   "metadata": {},
   "outputs": [
    {
     "name": "stdout",
     "output_type": "stream",
     "text": [
      "*Uses of Center \n",
      "xeveningxx\n",
      "  evening   \n"
     ]
    }
   ],
   "source": [
    "# Uses of Center \n",
    "print(\"*Uses of Center \")\n",
    "print(word.center(10,\"x\"))# Transform the lenght of a \n",
    "                          #  string and fill the spaces \n",
    "                          # with a charachter \n",
    "                           \n",
    "                          \n",
    "print(word.center(12)) # Transform the original string size \n",
    "                       # that was 7 and now refill with spaces \n",
    "                       # to make a 12 string size"
   ]
  },
  {
   "cell_type": "markdown",
   "metadata": {},
   "source": [
    "### Use of encode()"
   ]
  },
  {
   "cell_type": "code",
   "execution_count": 9,
   "metadata": {},
   "outputs": [
    {
     "name": "stdout",
     "output_type": "stream",
     "text": [
      "*Uses of encode \n",
      "b'evening'\n"
     ]
    }
   ],
   "source": [
    "# Use of encode() \n",
    "print(\"*Uses of encode \")\n",
    "print(word.encode())  # Encode the string in UTF-8 by default\n"
   ]
  },
  {
   "cell_type": "markdown",
   "metadata": {},
   "source": [
    "### Use of endswith()"
   ]
  },
  {
   "cell_type": "code",
   "execution_count": 10,
   "metadata": {},
   "outputs": [
    {
     "name": "stdout",
     "output_type": "stream",
     "text": [
      "*Uses of endswith \n",
      "False\n"
     ]
    }
   ],
   "source": [
    "# Use of endswith\n",
    "print(\"*Uses of endswith \")\n",
    "print(Line.endswith(\"later\"))  # Verify if your string ends with \n",
    "                               # a specified string "
   ]
  },
  {
   "cell_type": "markdown",
   "metadata": {},
   "source": [
    "### Uses of expandtabs()"
   ]
  },
  {
   "cell_type": "code",
   "execution_count": 11,
   "metadata": {},
   "outputs": [
    {
     "name": "stdout",
     "output_type": "stream",
     "text": [
      "*Uses of expandtabs\n",
      "e       ve      ning\n",
      "e ve ning\n"
     ]
    }
   ],
   "source": [
    "# Uses of expandtabs()\n",
    "print(\"*Uses of expandtabs\")\n",
    "print(word2.expandtabs()) # Default tab is 8\n",
    "print(word2.expandtabs(1)) # My tab is 1 spaces  between\n",
    "                           # the tab location"
   ]
  },
  {
   "cell_type": "markdown",
   "metadata": {},
   "source": [
    "### Uses of find()"
   ]
  },
  {
   "cell_type": "code",
   "execution_count": 13,
   "metadata": {},
   "outputs": [
    {
     "name": "stdout",
     "output_type": "stream",
     "text": [
      "*Uses of find \n",
      "0\n",
      "28\n"
     ]
    }
   ],
   "source": [
    "#Uses of find()\n",
    "print(\"*Uses of find \")\n",
    "print(Line.find(\"I\")) # Search the coincidence of a substring \n",
    "                      # in a string \n",
    "\n",
    "print(Line.find(\"I\",9,29)) # Also search the coincidence if \n",
    "                           # we put a specific range in the \n",
    "                           # substring \n"
   ]
  },
  {
   "cell_type": "markdown",
   "metadata": {},
   "source": [
    "### Uses of format()"
   ]
  },
  {
   "cell_type": "code",
   "execution_count": 21,
   "metadata": {},
   "outputs": [
    {
     "name": "stdout",
     "output_type": "stream",
     "text": [
      "*Uses of format \n",
      "**Set a value in {} and needs many values as {} you have \n",
      "My test score was 5\n",
      "\n",
      "\n",
      "**format with :% for percentage  \n",
      "My test score was 5 and 10000.000000%\n",
      "\n",
      "\n",
      "**format use with alings :< and :> \n",
      "My test score was 5 and 10000.000000% and 10       bonus points\n",
      "My test score was 5 and 10000.000000% and       10 bonus points\n",
      "\n",
      "\n",
      "**format with :^ \n",
      "We have 48 chickens\n",
      "We have     48     chickens\n",
      "\n",
      "\n",
      "**format with := \n",
      "The temperature is -       10 degrees celsius.\n",
      "\n",
      "\n",
      "**format with :+ \n",
      "The temperature is between -3 and +7 degrees celsius\n",
      "\n",
      "\n",
      "**format with :- \n",
      "The temperature is between -3 and 7 degrees celsius.\n",
      "\n",
      "\n",
      "**format with :\n",
      "The temperature is between -3 and  7 degrees celsius.\n",
      "\n",
      "\n",
      "**format with :, \n",
      "The universe is 100,000 years old\n",
      "\n",
      "\n",
      "**format with :_ \n",
      "The universe is 1_000_000years old\n",
      "\n",
      "\n",
      "**format with :b \n",
      "The binary version of 5 us 101\n",
      "\n",
      "\n",
      "**format with :d \n",
      "We have 5 chickens.\n",
      "\n",
      "\n",
      "**format with :e \n",
      "We have 5.000000e+00 chickens\n",
      "\n",
      "\n",
      "**format with :E \n",
      "We have 5.000000E+00 chickens\n",
      "\n",
      "\n",
      "**format with :f \n",
      "The main price of this is 45.00 \n",
      "The main price of this is 45.000000 \n",
      "\n",
      "\n",
      "**format with :o \n",
      "the octal version of 19 is 23\n",
      "\n",
      "\n",
      "**format with :x \n",
      "the hexadecimal version of 25 is 19\n",
      "the hexadecimal version of 25 is 19\n"
     ]
    }
   ],
   "source": [
    "# Uses of format \n",
    "print(\"*Uses of format \")\n",
    "# Set a value in {} and needs many values as {} you have \n",
    "print(\"**Set a value in {} and needs many values as {} you have \")\n",
    "print(\"My test score was {score:}\".format(score=5))\n",
    "# format with :% for percentage \n",
    "print(\"\\n\")\n",
    "print(\"**format with :% for percentage  \")\n",
    "print(\"My test score was {score:} and {per:%}\".format(score=5,per =100))\n",
    "# format use with alings :< and :> \n",
    "print(\"\\n\")\n",
    "print(\"**format use with alings :< and :> \")\n",
    "print(\"My test score was {score:} and {per:%} and {bonus:<8} bonus points\".format(score=5,per =100,bonus=10))\n",
    "print(\"My test score was {score:} and {per:%} and {bonus:>8} bonus points\".format(score=5,per =100,bonus=10))\n",
    "#format  use with center aligns :^\n",
    "print(\"\\n\")\n",
    "print(\"**format with :^ \")\n",
    "print(\"We have {:^1} chickens\".format(48))\n",
    "print(\"We have {chickens:^10} chickens\".format(chickens=48))\n",
    "#format use with := \n",
    "print(\"\\n\")\n",
    "print(\"**format with := \")\n",
    "print(\"The temperature is {:=10} degrees celsius.\".format(-10))\n",
    "# format use with :+ \n",
    "print(\"\\n\")\n",
    "print(\"**format with :+ \")\n",
    "print(\"The temperature is between {:+} and {:+} degrees celsius\".format(-3,7))\n",
    "#format use with :-\n",
    "print(\"\\n\")\n",
    "print(\"**format with :- \")\n",
    "print(\"The temperature is between {:-} and {:-} degrees celsius.\".format(-3,7))\n",
    "#format use with :\n",
    "print(\"\\n\")\n",
    "print(\"**format with :\")\n",
    "print(\"The temperature is between {: } and {: } degrees celsius.\".format(-3,7))\n",
    "# format use with :, \n",
    "print(\"\\n\")\n",
    "print(\"**format with :, \")\n",
    "print(\"The universe is {:,} years old\".format(100000))\n",
    "#format use with :_\n",
    "print(\"\\n\")\n",
    "print(\"**format with :_ \")\n",
    "print(\"The universe is {:_}years old\".format(1000000))\n",
    "# format use with :b - binary\n",
    "print(\"\\n\")\n",
    "print(\"**format with :b \")\n",
    "print(\"The binary version of {0} us {0:b}\".format(5))\n",
    "# format use with :d  -binary to decimal \n",
    "print(\"\\n\")\n",
    "print(\"**format with :d \")\n",
    "txt = \"We have {:d} chickens.\"\n",
    "print(txt.format(0b101))\n",
    "#format use with :e\n",
    "print(\"\\n\")\n",
    "print(\"**format with :e \")\n",
    "print(\"We have {:e} chickens\".format(5))\n",
    "#format use with :E\n",
    "print(\"\\n\")\n",
    "print(\"**format with :E \")\n",
    "print(\"We have {:E} chickens\".format(5))\n",
    "#format use with :f\n",
    "print(\"\\n\")\n",
    "print(\"**format with :f \")\n",
    "print(\"The main price of this is {:.2f} \".format(45))\n",
    "print(\"The main price of this is {:f} \".format(45))\n",
    "# format use with :o\n",
    "print(\"\\n\")\n",
    "print(\"**format with :o \")\n",
    "print(\"the octal version of {0} is {0:o}\".format(19))\n",
    "#format use with :x\n",
    "print(\"\\n\")\n",
    "print(\"**format with :x \")\n",
    "print(\"the hexadecimal version of {0} is {0:x}\".format(25))\n",
    "print(\"the hexadecimal version of {0} is {0:X}\".format(25))"
   ]
  },
  {
   "cell_type": "markdown",
   "metadata": {},
   "source": [
    "### Uses of index()"
   ]
  },
  {
   "cell_type": "code",
   "execution_count": 34,
   "metadata": {},
   "outputs": [
    {
     "name": "stdout",
     "output_type": "stream",
     "text": [
      "use of index()\n",
      "hi my name is juan hi\n",
      "The index of the word 'juan' in the string is \n",
      "14\n",
      "0\n"
     ]
    }
   ],
   "source": [
    "print(\"use of index()\")\n",
    "f = \"hi my name is juan hi\"\n",
    "print(f)\n",
    "v = f.index(\"juan\")\n",
    "print(\"The index of the word 'juan' in the string is \")\n",
    "print(v)\n",
    "v2 = f.index(\"hi\",0,22)\n",
    "print(v2)"
   ]
  },
  {
   "cell_type": "markdown",
   "metadata": {},
   "source": [
    "### Uses of isalnum()"
   ]
  },
  {
   "cell_type": "code",
   "execution_count": 47,
   "metadata": {},
   "outputs": [
    {
     "name": "stdout",
     "output_type": "stream",
     "text": [
      "False\n",
      "True\n"
     ]
    }
   ],
   "source": [
    "#isalnum() verify if all text is alphanumeric\n",
    "v = \"one 12\"\n",
    "print(v.isalnum())\n",
    "      \n",
    "v1 = \"12\"\n",
    "print(v1.isalnum())"
   ]
  },
  {
   "cell_type": "markdown",
   "metadata": {},
   "source": [
    "### Uses of isalpha()"
   ]
  },
  {
   "cell_type": "code",
   "execution_count": 42,
   "metadata": {},
   "outputs": [
    {
     "name": "stdout",
     "output_type": "stream",
     "text": [
      "True\n",
      "False\n"
     ]
    }
   ],
   "source": [
    "#isalpha() verify if all text is alphabet \n",
    "v = \"one\"\n",
    "print(v.isalpha())\n",
    "      \n",
    "v1 = \"12\"\n",
    "print(v1.isalpha())"
   ]
  },
  {
   "cell_type": "markdown",
   "metadata": {},
   "source": [
    "### Uses of isdecimal()"
   ]
  },
  {
   "cell_type": "code",
   "execution_count": 49,
   "metadata": {},
   "outputs": [
    {
     "name": "stdout",
     "output_type": "stream",
     "text": [
      "True\n"
     ]
    }
   ],
   "source": [
    "# isdecimal verify if the string have decimals 0-9 inside\n",
    "v = \"0123\"\n",
    "x= v.isdecimal()\n",
    "print(x)"
   ]
  },
  {
   "cell_type": "markdown",
   "metadata": {},
   "source": [
    "### Uses of isdigit()\n"
   ]
  },
  {
   "cell_type": "code",
   "execution_count": 51,
   "metadata": {},
   "outputs": [
    {
     "name": "stdout",
     "output_type": "stream",
     "text": [
      "True\n"
     ]
    }
   ],
   "source": [
    "### Uses of isdigit()\n",
    "# isdigit() verify if string have digits inside \n",
    "v = \"590009\"\n",
    "x= v.isdigit()\n",
    "print(x)"
   ]
  },
  {
   "cell_type": "markdown",
   "metadata": {},
   "source": [
    "### Uses of isidentifier()\n",
    "A string is considered a valid identifier if it only contains alphanumeric letters (a-z) and (0-9), or underscores (_). A valid identifier cannot start with a number, or contain any spaces.\n"
   ]
  },
  {
   "cell_type": "code",
   "execution_count": 52,
   "metadata": {},
   "outputs": [
    {
     "name": "stdout",
     "output_type": "stream",
     "text": [
      "True\n",
      "False\n"
     ]
    }
   ],
   "source": [
    "print(\"juan\".isidentifier())\n",
    "print(\"one 1 \".isidentifier())"
   ]
  },
  {
   "cell_type": "markdown",
   "metadata": {},
   "source": []
  }
 ],
 "metadata": {
  "kernelspec": {
   "display_name": "Python 3",
   "language": "python",
   "name": "python3"
  },
  "language_info": {
   "codemirror_mode": {
    "name": "ipython",
    "version": 3
   },
   "file_extension": ".py",
   "mimetype": "text/x-python",
   "name": "python",
   "nbconvert_exporter": "python",
   "pygments_lexer": "ipython3",
   "version": "3.8.2"
  }
 },
 "nbformat": 4,
 "nbformat_minor": 4
}
