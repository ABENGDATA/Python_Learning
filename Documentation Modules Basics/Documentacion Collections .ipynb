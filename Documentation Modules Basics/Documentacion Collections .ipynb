{
 "cells": [
  {
   "cell_type": "markdown",
   "metadata": {},
   "source": [
    "# Documentación : Módulo Collections\n",
    "\n",
    "El Modulo collections provee al usuario de metodos para organizar y distribuir los elementos de un iterable ya sea un diccionario , una lista, una tupla o un set. "
   ]
  },
  {
   "cell_type": "code",
   "execution_count": 4,
   "metadata": {},
   "outputs": [],
   "source": [
    "import collections as cll"
   ]
  },
  {
   "cell_type": "markdown",
   "metadata": {},
   "source": [
    "# Counter\n",
    "El metodo counter funciona de modo que realiza la cuenta de elementos en un iterable , generando un arreglo counter que contiene un diccionario con la cantidad de datos dentro de el ."
   ]
  },
  {
   "cell_type": "code",
   "execution_count": 5,
   "metadata": {
    "scrolled": true
   },
   "outputs": [
    {
     "name": "stdout",
     "output_type": "stream",
     "text": [
      "Counter({3: 2, 1: 1, 2: 1})\n",
      "Counter({'p': 3, 'a': 2, 'y': 2, 'H': 1, ' ': 1, 'B': 1, 'i': 1, 'r': 1, 't': 1, 'h': 1, 'd': 1})\n",
      "Counter({'juan': 3, 'sebastian': 1, 'buitrago': 1})\n",
      "2\n"
     ]
    }
   ],
   "source": [
    "counts = cll.Counter([1,2,3,3])          # Contador de numeros \n",
    "print(counts)\n",
    "\n",
    "countl = cll.Counter(\"Happpy Birthday\")  # Contador de letras \n",
    "print(countl)\n",
    "\n",
    "countw = cll.Counter(\"juan sebastian buitrago juan juan\".split())\n",
    "print(countw)                             # Contador de palabras \n",
    "\n",
    "print(counts[3])                          # Numero de elementos \n",
    "                                          # en el arrelgo segun \n",
    "                                          # coincidencia.\n",
    "        \n",
    "counts[3]=-3                              # Modificacion del set.\n"
   ]
  },
  {
   "cell_type": "markdown",
   "metadata": {},
   "source": [
    "### Usos de elements()\n",
    "Retorna un iterador cuyos elementos se repiten todas las veces que estuvieron contados con el comando counter ."
   ]
  },
  {
   "cell_type": "code",
   "execution_count": 6,
   "metadata": {},
   "outputs": [
    {
     "name": "stdout",
     "output_type": "stream",
     "text": [
      "Counter({'a': 4, 'k': 3, 'm': 3, 's': 3, 'o': 3, 'f': 2, 'j': 1, 'l': 1, 'd': 1, 'n': 1, 'i': 1, 'w': 1})\n",
      "------------------------------------------------\n",
      "['a', 'a', 'a', 'a', 'd', 'f', 'f', 'i', 'j', 'k', 'k', 'k', 'l', 'm', 'm', 'm', 'n', 'o', 'o', 'o', 's', 's', 's', 'w']\n"
     ]
    }
   ],
   "source": [
    "c = cll.Counter(\"jklmaskdmasofaosfnaoimkw\")\n",
    "print(c)\n",
    "print(\"------------------------------------------------\")\n",
    "print(sorted(c.elements()))"
   ]
  },
  {
   "cell_type": "markdown",
   "metadata": {},
   "source": [
    "### Usos de most_common([n])\n",
    "Retorna una lista de los \"n\" elementos mas comunes y sus contadores desde el mas comun hasta el menos comun ."
   ]
  },
  {
   "cell_type": "code",
   "execution_count": 7,
   "metadata": {},
   "outputs": [
    {
     "name": "stdout",
     "output_type": "stream",
     "text": [
      "Counter({'a': 4, 't': 3, 'i': 3, 'u': 2, 'n': 2, 's': 2, 'b': 2, 'r': 2, 'o': 2, 'j': 1, 'e': 1, 'g': 1, 'z': 1})\n",
      "______________________________________________________________\n",
      "\n",
      " Dos mas comunes\n"
     ]
    },
    {
     "data": {
      "text/plain": [
       "[('a', 4), ('t', 3)]"
      ]
     },
     "execution_count": 7,
     "metadata": {},
     "output_type": "execute_result"
    }
   ],
   "source": [
    "d = cll.Counter(\"juansebastianbuitragoortiz\")\n",
    "print(d)\n",
    "print(\"______________________________________________________________\")\n",
    "print(\"\\n Dos mas comunes\")\n",
    "d.most_common(2)\n"
   ]
  },
  {
   "cell_type": "markdown",
   "metadata": {},
   "source": [
    "### Usos de subtract([iterable o mapping])\n",
    "Se substrae un contador de otro , analogo a restar elementos por variables ."
   ]
  },
  {
   "cell_type": "code",
   "execution_count": 8,
   "metadata": {},
   "outputs": [
    {
     "data": {
      "text/plain": [
       "Counter({'a': 0, 'b': 1, 'c': 1})"
      ]
     },
     "execution_count": 8,
     "metadata": {},
     "output_type": "execute_result"
    }
   ],
   "source": [
    "c = cll.Counter(a=1,b=2,c=3)\n",
    "d = cll.Counter(a=1,b=1,c=2)\n",
    "c.subtract(d)\n",
    "c"
   ]
  },
  {
   "cell_type": "markdown",
   "metadata": {},
   "source": [
    "### Update([iterable or mapping])\n",
    "Actualiza un contadro de modo que adiciona o elimina elementos de este.\n"
   ]
  },
  {
   "cell_type": "code",
   "execution_count": 9,
   "metadata": {},
   "outputs": [
    {
     "data": {
      "text/plain": [
       "Counter({'a': 1, 'b': 5, 'c': 3, 'd': 5})"
      ]
     },
     "execution_count": 9,
     "metadata": {},
     "output_type": "execute_result"
    }
   ],
   "source": [
    "c = cll.Counter(a=1,b=2,c=3)\n",
    "c.update(b=3)\n",
    "c.update(d=5)\n",
    "c.update(a=0)\n",
    "c"
   ]
  },
  {
   "cell_type": "markdown",
   "metadata": {},
   "source": [
    "### Operaciones especiales con contadores"
   ]
  },
  {
   "cell_type": "code",
   "execution_count": 10,
   "metadata": {},
   "outputs": [
    {
     "name": "stdout",
     "output_type": "stream",
     "text": [
      "Counter({'a': 1})\n",
      "Counter({'b': 7, 'a': 5})\n",
      "Counter({'a': 2, 'b': 2})\n",
      "Counter({'b': 5, 'a': 3})\n",
      "Counter({'a': 3, 'b': 2})\n",
      "Counter()\n"
     ]
    }
   ],
   "source": [
    "c1 = cll.Counter(a=3,b=2)\n",
    "c2 = cll.Counter(a=2,b=5)\n",
    "print(c1-c2)                   # Resta sin valores negativos \n",
    "print(c1+c2)                   # Suma \n",
    "print(c1&c2)                   # Interseccion de sets : minimo de cada set\n",
    "print(c1|c2)                   # Union : maximo de cada set\n",
    "print(+c1)                     # Elementos de c1\n",
    "print(-c1)                     # Elementos borrados de c1"
   ]
  },
  {
   "cell_type": "code",
   "execution_count": 11,
   "metadata": {},
   "outputs": [],
   "source": [
    "from collections import *"
   ]
  },
  {
   "cell_type": "markdown",
   "metadata": {},
   "source": [
    "# Deque\n",
    "\n",
    "Un deque se basa en un arreglo que puede ser modificado por los dos extremos de su estructura tanto el inicio como el final , se conoce como una fila con doble fin ."
   ]
  },
  {
   "cell_type": "markdown",
   "metadata": {},
   "source": [
    "### append(x) , appendleft(x) \n",
    "Son dos metodos que se basan en añadir elementos a un arreglo ya sea desde el fin del arreglo con append(x) o por el inicio con appendleft(x)."
   ]
  },
  {
   "cell_type": "code",
   "execution_count": 17,
   "metadata": {},
   "outputs": [
    {
     "name": "stdout",
     "output_type": "stream",
     "text": [
      "deque(['j', 'u', 'a', 'n', 'j'])\n",
      "deque(['j', 'j', 'u', 'a', 'n', 'j'])\n"
     ]
    }
   ],
   "source": [
    "d = deque(\"juan\")\n",
    "(d.append(\"j\"))    # añadir elementos al fin de un arreglo\n",
    "print(d)\n",
    "(d.appendleft(\"j\"))# añadir elementos al inicio de un arreglo \n",
    "print(d)"
   ]
  },
  {
   "cell_type": "markdown",
   "metadata": {},
   "source": [
    "### clear() , copy()\n",
    "Los metodos clear() and copy() se encargan de borrar los elementos de un deque y copiar todo un deque respectivamente de la siguiente manera."
   ]
  },
  {
   "cell_type": "code",
   "execution_count": 26,
   "metadata": {},
   "outputs": [
    {
     "name": "stdout",
     "output_type": "stream",
     "text": [
      "deque([1, 2, 3, 4, 5, 6])\n",
      "deque([1, 2, 3, 4, 5, 6])\n",
      "deque([])\n"
     ]
    }
   ],
   "source": [
    "c = deque([1,2,3,4,5,6])\n",
    "print(c)\n",
    "k = c.copy()\n",
    "print(k)\n",
    "c.clear()\n",
    "print(c)\n"
   ]
  },
  {
   "cell_type": "markdown",
   "metadata": {},
   "source": [
    "### Count(x)\n",
    "Se encarga de contar el numero de coincidencias en un deque.\n"
   ]
  },
  {
   "cell_type": "code",
   "execution_count": 27,
   "metadata": {},
   "outputs": [
    {
     "data": {
      "text/plain": [
       "2"
      ]
     },
     "execution_count": 27,
     "metadata": {},
     "output_type": "execute_result"
    }
   ],
   "source": [
    "a = deque([1,2,33,4,5,5,6])\n",
    "a.count(5)"
   ]
  },
  {
   "cell_type": "markdown",
   "metadata": {},
   "source": [
    "### extend(iterable), extendleft(iterable\n",
    "El metodo extend ya sea normal o extendleft se encarga de extender un numero de caracteres o adicionarlos ya sea hacia la derecha o izquierda , mientras append adiciona un valor a la vez , extend adiciona varios valores simultaneamente."
   ]
  },
  {
   "cell_type": "code",
   "execution_count": 28,
   "metadata": {},
   "outputs": [
    {
     "name": "stdout",
     "output_type": "stream",
     "text": [
      "deque([1, 2, 3, 4, 5, 6, 6])\n",
      "deque([1, 2, 3, 4, 5, 6, 6, 7, 8, 9])\n",
      "deque([0, 0, 0, 1, 2, 3, 4, 5, 6, 6, 7, 8, 9])\n"
     ]
    }
   ],
   "source": [
    "p = deque([1,2,3,4,5,6,6])\n",
    "print(p)\n",
    "p.extend([7,8,9])\n",
    "print(p)\n",
    "p.extendleft([0,0,0])\n",
    "print(p)"
   ]
  },
  {
   "cell_type": "markdown",
   "metadata": {},
   "source": [
    "### index(x[start[stop]])\n",
    "Retorna la posicion que tiene el elemento x en el deque , se puede o no utilizar valores de inicio y fin ."
   ]
  },
  {
   "cell_type": "code",
   "execution_count": 33,
   "metadata": {},
   "outputs": [
    {
     "name": "stdout",
     "output_type": "stream",
     "text": [
      "deque([1, 2, 3, 4, 5, 6, 6])\n",
      "0\n",
      "4\n"
     ]
    }
   ],
   "source": [
    "j = deque([1,2,3,4,5,6,6])\n",
    "print(j)\n",
    "print(j.index(1))\n",
    "print(j.index(5,3,6))# Buscar el valor 5 , desde la posicion 3 hasta el 6"
   ]
  },
  {
   "cell_type": "markdown",
   "metadata": {},
   "source": [
    "### insert(i,x) , pop() ,popleft()\n",
    "Los comandos insert y pop se encargan de adicionar o remover elementos en posiciones indicadas en el deque el metodo insert se encarga de adicionar en una posicion indicada y el metodo pop de remover elementos y gurdarlos como variables para su posterior uso. "
   ]
  },
  {
   "cell_type": "code",
   "execution_count": 39,
   "metadata": {},
   "outputs": [
    {
     "name": "stdout",
     "output_type": "stream",
     "text": [
      "deque([100, 1, 2, 3, 4, 5, 6, 6, 7, 5, 4, 5, 6])\n",
      "6\n",
      "100\n"
     ]
    }
   ],
   "source": [
    "j1 = deque([1,2,3,4,5,6,6,7,5,4,5,6])\n",
    "j1.insert(0,100)\n",
    "print(j1)\n",
    "a = j1.pop()# Extrae el ultimo dato del deque\n",
    "print(a)\n",
    "b= j1.popleft() # Extrae el primer dato del deque \n",
    "print(b)"
   ]
  },
  {
   "cell_type": "markdown",
   "metadata": {},
   "source": [
    "### Remove(value),reverse(),rotate(n=1)\n",
    "El metodo remove , se encarga de sustraer un valor y eliminarlo del deque .\n",
    "El metodo reverse cambia el orden del deque .\n",
    "El metodo rotate se encarga de rotar o cambiar el orden del deque deacuerdo al valor asignado. "
   ]
  },
  {
   "cell_type": "code",
   "execution_count": 44,
   "metadata": {},
   "outputs": [
    {
     "name": "stdout",
     "output_type": "stream",
     "text": [
      "deque([12, 3, 4, 5, 6, 3, 3, 45, 4, 2])\n",
      "deque([3, 4, 5, 6, 3, 3, 45, 4, 2])\n",
      "deque([2, 4, 45, 3, 3, 6, 5, 4, 3])\n",
      "deque([3, 2, 4, 45, 3, 3, 6, 5, 4])\n"
     ]
    }
   ],
   "source": [
    "k = deque([12,3,4,5,6,3,3,45,4,2])\n",
    "print(k)\n",
    "k.remove(12)\n",
    "print(k)\n",
    "k.reverse()\n",
    "print(k)\n",
    "k.rotate(1)\n",
    "print(k)"
   ]
  },
  {
   "cell_type": "markdown",
   "metadata": {},
   "source": [
    "# Defaultdict\n",
    "Defaultdict es una clase de coleccion que se encarga de ser un simple arreglo para añadir datos y agruparlos ."
   ]
  },
  {
   "cell_type": "code",
   "execution_count": 45,
   "metadata": {},
   "outputs": [
    {
     "name": "stdout",
     "output_type": "stream",
     "text": [
      "defaultdict(<class 'list'>, {'yellow': [1, 3], 'blue': [2, 4], 'red': [1]})\n"
     ]
    }
   ],
   "source": [
    "## Defaultdict como una lista\n",
    "s = [('yellow', 1), ('blue', 2), ('yellow', 3), ('blue', 4), ('red', 1)]\n",
    "d = defaultdict(list)\n",
    "for k,v in s:\n",
    "    d[k].append(v)\n",
    "print(d)"
   ]
  },
  {
   "cell_type": "code",
   "execution_count": 46,
   "metadata": {},
   "outputs": [
    {
     "name": "stdout",
     "output_type": "stream",
     "text": [
      "defaultdict(<class 'int'>, {'m': 1, 'i': 4, 's': 4, 'p': 2})\n"
     ]
    }
   ],
   "source": [
    "## Defaultdict como un string\n",
    "s = \"mississippi\"\n",
    "d = defaultdict(int)\n",
    "for k in s:\n",
    "    d[k]+=1\n",
    "print(d)"
   ]
  },
  {
   "cell_type": "code",
   "execution_count": 47,
   "metadata": {},
   "outputs": [
    {
     "name": "stdout",
     "output_type": "stream",
     "text": [
      "defaultdict(<class 'set'>, {'red': {1, 3}, 'blue': {2, 4}})\n"
     ]
    }
   ],
   "source": [
    "## Defaultdict como un set \n",
    "s = [('red', 1), ('blue', 2), ('red', 3), ('blue', 4), ('red', 1), ('blue', 4)]\n",
    "d = defaultdict(set)\n",
    "for k,v in s:\n",
    "    d[k].add(v)\n",
    "print(d)"
   ]
  },
  {
   "cell_type": "markdown",
   "metadata": {},
   "source": [
    "# OrderedDict\n",
    "OrderedDict es una funcion importante de collections ya que un diccionario comun se encarga de agregar valores sin un orden especifico , algo que es importante en algunos procesos de recoleccion de datos ."
   ]
  },
  {
   "cell_type": "code",
   "execution_count": 49,
   "metadata": {},
   "outputs": [
    {
     "name": "stdout",
     "output_type": "stream",
     "text": [
      "OrderedDict([('one', 1), ('Two', 2), ('Three', 3)])\n",
      "OrderedDict([('one', 1), ('Two', 2), ('Three', 3), ('Four', 4)])\n"
     ]
    }
   ],
   "source": [
    "p =OrderedDict([(\"one\",1),(\"Two\",2),(\"Three\",3)])\n",
    "print(p)\n",
    "p[\"Four\"] = 4\n",
    "print(p)"
   ]
  },
  {
   "cell_type": "code",
   "execution_count": null,
   "metadata": {},
   "outputs": [],
   "source": []
  }
 ],
 "metadata": {
  "kernelspec": {
   "display_name": "Python 3",
   "language": "python",
   "name": "python3"
  },
  "language_info": {
   "codemirror_mode": {
    "name": "ipython",
    "version": 3
   },
   "file_extension": ".py",
   "mimetype": "text/x-python",
   "name": "python",
   "nbconvert_exporter": "python",
   "pygments_lexer": "ipython3",
   "version": "3.8.2"
  }
 },
 "nbformat": 4,
 "nbformat_minor": 4
}
