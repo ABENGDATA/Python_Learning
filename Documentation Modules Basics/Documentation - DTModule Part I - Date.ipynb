{
 "cells": [
  {
   "cell_type": "markdown",
   "metadata": {},
   "source": [
    "# Documentación : Módulo datetime \n",
    "##  -  Parte I : date\n",
    "El modulo datetime provee al usuario de herramientas computacionales para manipular datos en forma de fecha y hora .\n",
    "\n",
    "Mientras que una fecha y hora son soportadas aritmeticamente , el enfoque de este modulo se basa en la extraccion eficiente de datos date time para cambiar su formato o manipular estos .\n",
    "\n",
    "los tipos de datetime se dividen en aware y naive , aware es un tipo de formato que contiene unicamente años , dias,horas , minutos y segundos, es decir un formato de fecha simple , en cambio naive contiene los atributos anteriores pero adicionando (UTC) o coordenadas temporales universales para especificar zonas horarias . "
   ]
  },
  {
   "cell_type": "code",
   "execution_count": 45,
   "metadata": {},
   "outputs": [
    {
     "name": "stdout",
     "output_type": "stream",
     "text": [
      "['__add__', '__class__', '__delattr__', '__dir__', '__doc__', '__eq__', '__format__', '__ge__', '__getattribute__', '__gt__', '__hash__', '__init__', '__init_subclass__', '__le__', '__lt__', '__ne__', '__new__', '__radd__', '__reduce__', '__reduce_ex__', '__repr__', '__rsub__', '__setattr__', '__sizeof__', '__str__', '__sub__', '__subclasshook__', 'ctime', 'day', 'fromisoformat', 'fromordinal', 'fromtimestamp', 'isocalendar', 'isoformat', 'isoweekday', 'max', 'min', 'month', 'replace', 'resolution', 'strftime', 'timetuple', 'today', 'toordinal', 'weekday', 'year']\n"
     ]
    }
   ],
   "source": [
    "from datetime import *\n",
    "v = date(2020,12,2)\n",
    "print(dir(v))"
   ]
  },
  {
   "cell_type": "markdown",
   "metadata": {},
   "source": [
    "## Constantes : \n",
    "El modulo datetime cuenta con dos tipos de constantes unicamente MINYEAR que se basa en un integer con el año minimo igual a 1  , MAXYEAR un integer con el año maximo igual a 9999."
   ]
  },
  {
   "cell_type": "code",
   "execution_count": 46,
   "metadata": {},
   "outputs": [
    {
     "name": "stdout",
     "output_type": "stream",
     "text": [
      "1\n",
      "9999\n"
     ]
    }
   ],
   "source": [
    "print(MINYEAR)\n",
    "print(MAXYEAR)"
   ]
  },
  {
   "cell_type": "markdown",
   "metadata": {},
   "source": [
    "## date objects\n",
    "Los objetos de tipo date representan fechas de topo (año,mes,dia) en un calendario idealizado con formato gregoriano comprendido desde el año minimo hasta el maximo , en un formato de 12 meses y de los dias que cada mes trae."
   ]
  },
  {
   "cell_type": "markdown",
   "metadata": {},
   "source": [
    "### date(año,mes,dia)\n",
    "Todos los argumentos de date son requeridos y deben ser integers dentro de los siguientes rangos.\n",
    "- MINYEAR <= AÑO <= MAXYEAR\n",
    "- 1<= MES <= 12\n",
    "- 1<= DIA <= numero de dias en un mes y año dados "
   ]
  },
  {
   "cell_type": "code",
   "execution_count": 47,
   "metadata": {},
   "outputs": [
    {
     "name": "stdout",
     "output_type": "stream",
     "text": [
      "2020-01-10\n"
     ]
    }
   ],
   "source": [
    "print(date(2020,1,10))"
   ]
  },
  {
   "cell_type": "markdown",
   "metadata": {},
   "source": [
    "### date.today()\n",
    "Retorna la fecha actual."
   ]
  },
  {
   "cell_type": "code",
   "execution_count": 48,
   "metadata": {},
   "outputs": [
    {
     "name": "stdout",
     "output_type": "stream",
     "text": [
      "2020-10-04\n"
     ]
    }
   ],
   "source": [
    "print(date.today()) # today regular"
   ]
  },
  {
   "cell_type": "markdown",
   "metadata": {},
   "source": [
    "### date.fromisoformat(string)\n",
    "Retorna una fecha correspondiente a la string definida dada en formato \n",
    "YYYY-MM-DD, su inverso es isocalendar ."
   ]
  },
  {
   "cell_type": "code",
   "execution_count": 49,
   "metadata": {},
   "outputs": [
    {
     "name": "stdout",
     "output_type": "stream",
     "text": [
      "2019-12-04\n",
      "2019-02-10\n"
     ]
    }
   ],
   "source": [
    "print(date.fromisoformat(\"2019-12-04\")) # Operacion normal \n",
    "print(date.isoformat(date(2019,2,10)))  # operacion inversa"
   ]
  },
  {
   "cell_type": "markdown",
   "metadata": {},
   "source": [
    "### date.isocalendar(año,semana,dia)\n",
    "Retorna una tupla de tres elementos con formato del calendario ISO que es una variante del gregoriano , consiste en 52 o 53 semanas donde la semana empieza el lunes y termina el domingo."
   ]
  },
  {
   "cell_type": "code",
   "execution_count": 50,
   "metadata": {},
   "outputs": [
    {
     "name": "stdout",
     "output_type": "stream",
     "text": [
      "(2020, 53, 2)\n"
     ]
    }
   ],
   "source": [
    "print(date(2020,12,29).isocalendar())\n"
   ]
  },
  {
   "cell_type": "markdown",
   "metadata": {},
   "source": [
    "### Atributos de clase date\n",
    "Un date tiene atributos comunes para describir las partes que componen al date. "
   ]
  },
  {
   "cell_type": "code",
   "execution_count": 51,
   "metadata": {},
   "outputs": [
    {
     "name": "stdout",
     "output_type": "stream",
     "text": [
      "0001-01-01\n",
      "9999-12-31\n",
      "1 day, 0:00:00\n",
      "2020\n",
      "10\n",
      "4\n"
     ]
    }
   ],
   "source": [
    "a = date.today()\n",
    "print(date.min)        # la minima fecha \n",
    "print(date.max)        # la maxima fecha \n",
    "print(date.resolution) #la menor diferencia entre \n",
    "                       #dos objetos de fecha no iguales\n",
    "print(a.year)          #año de una determinada fecha\n",
    "print(a.month)         # mes\n",
    "print(a.day)           # dia "
   ]
  },
  {
   "cell_type": "markdown",
   "metadata": {},
   "source": [
    "### date.replace(year=self.year, month=self.month, day=self.day)\n",
    "Retorna una fecha con el mismo valor excepto para aquñños parametros dados ."
   ]
  },
  {
   "cell_type": "code",
   "execution_count": 52,
   "metadata": {},
   "outputs": [
    {
     "data": {
      "text/plain": [
       "datetime.date(2020, 10, 25)"
      ]
     },
     "execution_count": 52,
     "metadata": {},
     "output_type": "execute_result"
    }
   ],
   "source": [
    "d = date.today()\n",
    "d.replace(day=25)"
   ]
  },
  {
   "cell_type": "markdown",
   "metadata": {},
   "source": [
    "### date.timetuple()\n",
    "retorna una estructura donde las horas , minutos y segundos son cero y la DST flag es -1."
   ]
  },
  {
   "cell_type": "code",
   "execution_count": 53,
   "metadata": {},
   "outputs": [
    {
     "name": "stdout",
     "output_type": "stream",
     "text": [
      "2020\n",
      "10\n",
      "4\n",
      "0\n",
      "0\n",
      "0\n",
      "6\n",
      "278\n",
      "-1\n"
     ]
    }
   ],
   "source": [
    "a = date.today()\n",
    "t = a.timetuple()\n",
    "for i in t :\n",
    "    print(i)\n",
    "# Primer dato :  año\n",
    "# segundo dato: mes\n",
    "#tercer       :dato dia\n",
    "# Cuarto, quinto y sexto dato : hora,minuto y segundo\n",
    "# Septimo dato : dia de la semana 6 = domingo\n",
    "# octavo dato : dia ordinal del año \n",
    "# noveno : DST FLAG"
   ]
  },
  {
   "cell_type": "markdown",
   "metadata": {},
   "source": [
    "### date.toordinal()\n",
    "Retorna a fecha proleptica gregoriana ordinal donde enero 1 del año 1 es ordinal 1 ."
   ]
  },
  {
   "cell_type": "code",
   "execution_count": 54,
   "metadata": {},
   "outputs": [
    {
     "name": "stdout",
     "output_type": "stream",
     "text": [
      "737447\n"
     ]
    }
   ],
   "source": [
    "print(date(2020,1,23).toordinal())"
   ]
  },
  {
   "cell_type": "markdown",
   "metadata": {},
   "source": [
    "### date.weekday()\n",
    "Retorna el dia de la semana como un integer donde el lunes es 0 y el domingo es 6. "
   ]
  },
  {
   "cell_type": "code",
   "execution_count": 55,
   "metadata": {},
   "outputs": [
    {
     "data": {
      "text/plain": [
       "6"
      ]
     },
     "execution_count": 55,
     "metadata": {},
     "output_type": "execute_result"
    }
   ],
   "source": [
    "a = date.today()\n",
    "a.weekday()"
   ]
  },
  {
   "cell_type": "markdown",
   "metadata": {},
   "source": [
    "### date.isoweekday()\n",
    "Retorna el dia de lasemana como un integer donde el lunes es 1 y el domingo es 7 ."
   ]
  },
  {
   "cell_type": "code",
   "execution_count": 56,
   "metadata": {},
   "outputs": [
    {
     "data": {
      "text/plain": [
       "7"
      ]
     },
     "execution_count": 56,
     "metadata": {},
     "output_type": "execute_result"
    }
   ],
   "source": [
    "a = date.today()\n",
    "a.isoweekday()"
   ]
  },
  {
   "cell_type": "markdown",
   "metadata": {},
   "source": [
    "### date. _ _str_ _ ()\n",
    "Pra una fecha d , str(d) es equivalente a d.isoformat()."
   ]
  },
  {
   "cell_type": "code",
   "execution_count": 57,
   "metadata": {},
   "outputs": [
    {
     "name": "stdout",
     "output_type": "stream",
     "text": [
      "2020-10-04\n",
      "<class 'str'>\n"
     ]
    }
   ],
   "source": [
    "a = date.today()\n",
    "print(a.__str__())\n",
    "print(type(a.__str__()))"
   ]
  },
  {
   "cell_type": "markdown",
   "metadata": {},
   "source": [
    "### date.ctime()\n",
    "Retorna una string representando una fecha "
   ]
  },
  {
   "cell_type": "code",
   "execution_count": 58,
   "metadata": {},
   "outputs": [
    {
     "data": {
      "text/plain": [
       "'Wed Mar 25 00:00:00 2020'"
      ]
     },
     "execution_count": 58,
     "metadata": {},
     "output_type": "execute_result"
    }
   ],
   "source": [
    "date(2020,3,25).ctime()"
   ]
  },
  {
   "cell_type": "markdown",
   "metadata": {},
   "source": [
    "### date.strftime(format)\n",
    "Retorna una string represetando una fecha controlada por una formato predefinido."
   ]
  },
  {
   "cell_type": "code",
   "execution_count": 59,
   "metadata": {},
   "outputs": [
    {
     "name": "stdout",
     "output_type": "stream",
     "text": [
      "04/10/20\n",
      "Sunday 04. October 2020\n"
     ]
    }
   ],
   "source": [
    "a = date.today()\n",
    "print(a.strftime(\"%d/%m/%y\"))\n",
    "print(a.strftime(\"%A %d. %B %Y\"))"
   ]
  },
  {
   "cell_type": "markdown",
   "metadata": {},
   "source": [
    "### date._ format _ ()\n",
    "Asi como strftime() . esto hace que sea posible especificar el formato de una string. \n"
   ]
  },
  {
   "cell_type": "code",
   "execution_count": 60,
   "metadata": {},
   "outputs": [
    {
     "data": {
      "text/plain": [
       "'The day is 04,the month is October.'"
      ]
     },
     "execution_count": 60,
     "metadata": {},
     "output_type": "execute_result"
    }
   ],
   "source": [
    "a = date.today()\n",
    "\"The {1} is {0:%d},the {2} is {0:%B}.\".format(a,\"day\",\"month\")"
   ]
  }
 ],
 "metadata": {
  "kernelspec": {
   "display_name": "Python 3",
   "language": "python",
   "name": "python3"
  },
  "language_info": {
   "codemirror_mode": {
    "name": "ipython",
    "version": 3
   },
   "file_extension": ".py",
   "mimetype": "text/x-python",
   "name": "python",
   "nbconvert_exporter": "python",
   "pygments_lexer": "ipython3",
   "version": "3.7.3"
  }
 },
 "nbformat": 4,
 "nbformat_minor": 4
}
