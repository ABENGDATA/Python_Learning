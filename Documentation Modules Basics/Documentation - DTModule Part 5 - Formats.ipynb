{
 "cells": [
  {
   "cell_type": "markdown",
   "metadata": {},
   "source": [
    "# Documentación : Módulo datetime \n",
    "##  -  Parte 5 : Formats\n",
    "El modulo datetime provee al usuario de herramientas computacionales para manipular datos en forma de fecha y hora .\n",
    "\n",
    "Mientras que una fecha y hora son soportadas aritmeticamente , el enfoque de este modulo se basa en la extraccion eficiente de datos date time para cambiar su formato o manipular estos .\n",
    "\n",
    "los tipos de datetime se dividen en aware y naive , aware es un tipo de formato que contiene unicamente años , dias,horas , minutos y segundos, es decir un formato de fecha simple , en cambio naive contiene los atributos anteriores pero adicionando (UTC) o coordenadas temporales universales para especificar zonas horarias ."
   ]
  },
  {
   "cell_type": "markdown",
   "metadata": {},
   "source": [
    "## Comportamiento de strftime() and strptime()\n",
    "Los objetos de tipo date,datetime y time soportan la operacion strftime(format) , para crear una string represetando el tiempo bajo el control de un formato especifico . \n",
    "\n",
    "Por el contrario ,strptime() crea un datetime desde una string represetando una fecha y una hora y un correspondiente formato.\n",
    "\n",
    "strftime() = date,datetime,time\n",
    "strptime() = datetime "
   ]
  },
  {
   "cell_type": "markdown",
   "metadata": {},
   "source": [
    "### Codigos de formato \n",
    "- %a : Representan los dias de la semana de modo abreviado .(Sun,Mon....etc).\n",
    "- %A : Represetan los dias de la semana de modo full name , (Sunday.... etc). \n",
    "- %w : Representan el dia de la semana de forma numerica 0 = sunday , 6 = saturday . \n",
    "- %d : Representa el dia del mes desde 01 hasta 31 .\n",
    "- %b : Representa el mes de modo abreviado .\n",
    "- %B : Representa el mes de modo full name. \n",
    "- %m : Representa los meses desde 01 hasta 12.\n",
    "- %y : Representa el año sin siglo desde 00 hasta 99.\n",
    "- %Y: Representa el año con siglos como un numero ,0001,2012.\n",
    "- %H : Representa la hora desde 00 hasta 23.\n",
    "- %I : Representa la hora en formato 12h . \n",
    "- %p : Representa la mañana AM y tarde PM.\n",
    "- %M : Representa los minutos desde 00..59.\n",
    "- %S : Representa los segundos desde 00 hasta 59.\n",
    "- %f : Representa los microsegundos desde 000000,999999.\n",
    "- %z : Representa la zona horaria.\n",
    "- %Z : Representa la zona horaria UTC o GMT. \n",
    "- %j : Representa los dias de un año desde 001 , 366.\n",
    "- %U : Representa el numero de la semana desde 00....53 , el domingo es          el primer dia.  \n",
    "- %W : Representa el numero de la semana desde 00....53 , el lunes es el primer dia .\n",
    "- %c : Representa la fecha de forma local .\n",
    "- %x :Representa la hora local .\n",
    "- %G : Representa el año en formato ISO.\n",
    "- %u : Representa el dia de la semana donde 1 es lunes .\n",
    "- %V : Representa el numero de la semana 01...53."
   ]
  },
  {
   "cell_type": "code",
   "execution_count": 15,
   "metadata": {},
   "outputs": [
    {
     "name": "stdout",
     "output_type": "stream",
     "text": [
      "2006-11-21 16:30:00\n",
      "2020-05-24 00:00:00\n",
      "2020-06-21 00:00:00\n",
      "Tuesday, 06. October 2020\n"
     ]
    }
   ],
   "source": [
    "from datetime import *\n",
    "#strptime\n",
    "print(datetime.strptime(\"21/11/06 16:30\",\"%d/%m/%y %H:%M\"))\n",
    "print(datetime.strptime(\"2020/05/24\",\"%Y/%m/%d\"))\n",
    "print(datetime.strptime(\"21 June 2020\",\"%d %B %Y\"))\n",
    "#strftime\n",
    "dt = datetime.now()\n",
    "print(dt.strftime(\"%A, %d. %B %Y\"))"
   ]
  }
 ],
 "metadata": {
  "kernelspec": {
   "display_name": "Python 3",
   "language": "python",
   "name": "python3"
  },
  "language_info": {
   "codemirror_mode": {
    "name": "ipython",
    "version": 3
   },
   "file_extension": ".py",
   "mimetype": "text/x-python",
   "name": "python",
   "nbconvert_exporter": "python",
   "pygments_lexer": "ipython3",
   "version": "3.7.3"
  }
 },
 "nbformat": 4,
 "nbformat_minor": 2
}
