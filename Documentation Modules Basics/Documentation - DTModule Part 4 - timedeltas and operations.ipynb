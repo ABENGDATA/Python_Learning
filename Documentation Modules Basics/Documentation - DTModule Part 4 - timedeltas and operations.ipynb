{
 "cells": [
  {
   "cell_type": "markdown",
   "metadata": {},
   "source": [
    "# Documentación : Módulo datetime \n",
    "##  -  Parte 4 : timedeltas\n",
    "El modulo datetime provee al usuario de herramientas computacionales para manipular datos en forma de fecha y hora .\n",
    "\n",
    "Mientras que una fecha y hora son soportadas aritmeticamente , el enfoque de este modulo se basa en la extraccion eficiente de datos date time para cambiar su formato o manipular estos .\n",
    "\n",
    "los tipos de datetime se dividen en aware y naive , aware es un tipo de formato que contiene unicamente años , dias,horas , minutos y segundos, es decir un formato de fecha simple , en cambio naive contiene los atributos anteriores pero adicionando (UTC) o coordenadas temporales universales para especificar zonas horarias ."
   ]
  },
  {
   "cell_type": "markdown",
   "metadata": {},
   "source": [
    "## Objetos timedelta(days=0, seconds=0, microseconds=0, milliseconds=0, minutes=0, hours=0, weeks=0)\n",
    "Un objeto timedelta representa una duracion , la diferencia entre dos horas o fechas.\n",
    "Todos los argumentos son opcionales y por default estos son cero . Los argumentos pueden ser integers o floats y pueden ser positivos o negativos.\n",
    "\n",
    "Solo los dias , segundos y microsegundos son guardados internamente. Argumentos que son convertidos a estas unidades :\n",
    "    \n",
    "- A millisecond is converted to 1000 microseconds.\n",
    "- A minute is converted to 60 seconds.\n",
    "- An hour is converted to 3600 seconds.\n",
    "- A week is converted to 7 days.\n",
    "\n",
    "y dias , segundos y microsegundos son entonces normlaizados para asi ser representados como unicos como :\n",
    "\n",
    "- 0 <= microseconds < 1000000\n",
    "- 0 <= seconds < 3600*24 (the number of seconds in one day)\n",
    "- -999999999 <= days <= 999999999\n",
    "\n"
   ]
  },
  {
   "cell_type": "code",
   "execution_count": 5,
   "metadata": {},
   "outputs": [
    {
     "name": "stdout",
     "output_type": "stream",
     "text": [
      "12 days, 0:00:00\n",
      "7 days, 2:05:20.000100\n"
     ]
    }
   ],
   "source": [
    "from datetime import *\n",
    "print(timedelta(days=12))\n",
    "print(timedelta(seconds=20,microseconds=100,minutes=5,hours=2,weeks=1))"
   ]
  },
  {
   "cell_type": "markdown",
   "metadata": {},
   "source": [
    "### Atributos de clase timedelta"
   ]
  },
  {
   "cell_type": "code",
   "execution_count": 9,
   "metadata": {},
   "outputs": [
    {
     "name": "stdout",
     "output_type": "stream",
     "text": [
      "-999999999 days, 0:00:00\n",
      "999999999 days, 23:59:59.999999\n",
      "0:00:00.000001\n"
     ]
    }
   ],
   "source": [
    "t = timedelta(seconds=20,microseconds=100,minutes=5,hours=2,weeks=1)\n",
    "print(timedelta.min) # El timedelta mas negativo \n",
    "print(timedelta.max) # El timedalta mas positivo\n",
    "print(timedelta.resolution) # La menor diferencia entre dos timedeltas"
   ]
  },
  {
   "cell_type": "markdown",
   "metadata": {},
   "source": [
    "### Operaciones timedelta \n",
    "- Suma:\n",
    "t1 = t2+t3\n",
    "- Resta:\n",
    "t1 = t2-t3\n",
    "- Multiplicacion por escalar integer:\n",
    "t1 = i*t2\n",
    "- Multiplicacion por escalar float , redondeado al multiplo mas cercano:\n",
    "t1 = f*t2\n",
    "- Division que genera un float:\n",
    "f = t2/t3\n",
    "- Division por un float:\n",
    "t1 = t2/f\n",
    "- Division entera :\n",
    "t1 = t2//i \n",
    "t1 = t2//t3\n",
    "\n",
    "- Operacion de residuo :\n",
    "t1 = t2%t3\n",
    "q,r = divmod(t1,t2)\n",
    "\n",
    "- Cambio de signos :\n",
    "+t1\n",
    "-t1\n",
    "\n",
    "- Valor absoluto :\n",
    "abs(t)\n",
    "- string:\n",
    "str(t)\n"
   ]
  },
  {
   "cell_type": "code",
   "execution_count": 22,
   "metadata": {},
   "outputs": [
    {
     "name": "stdout",
     "output_type": "stream",
     "text": [
      "6:12:00\n",
      "1:48:00\n",
      "20:00:00\n",
      "19:12:00\n",
      "1.8248847926267282\n",
      "0:25:23.076923\n",
      "1\n",
      "0:59:40\n",
      "4:00:00\n",
      "-1 day, 21:48:00\n",
      "1:00:00\n",
      "<class 'str'>\n"
     ]
    }
   ],
   "source": [
    "t1 = timedelta(hours=4)\n",
    "t2 = timedelta(minutes=12,hours=2)\n",
    "t3 = timedelta(seconds = 20,minutes=12,hours=1)\n",
    "# Suma\n",
    "ts = t1+t2\n",
    "print(ts)\n",
    "#Resta \n",
    "tr = t1-t2\n",
    "print(tr)\n",
    "# Multiplicacion por escalar integer\n",
    "tmi = t1*5\n",
    "print(tmi)\n",
    "#Multiplicacion por escalar float\n",
    "tmf = t1*4.8\n",
    "print(tmf)\n",
    "# Division que genera un float\n",
    "tdf = t2/t3\n",
    "print(tdf)\n",
    "# Division por float\n",
    "tdpf = t2/5.2\n",
    "print(tdpf)\n",
    "# Division entera\n",
    "te = t1//t2\n",
    "print(te)\n",
    "# Operacion residuo \n",
    "tres = t2%t3\n",
    "print(tres)\n",
    "#cambio de signos \n",
    "print(+t1)\n",
    "print(-t2) # remanente del dia\n",
    "\n",
    "#valor absoluto\n",
    "print(abs(timedelta(hours=-1)))\n",
    "\n",
    "#string\n",
    "print(type(str(t3)))"
   ]
  },
  {
   "cell_type": "markdown",
   "metadata": {},
   "source": [
    "### Operaciones adicionales soportadas "
   ]
  },
  {
   "cell_type": "code",
   "execution_count": 26,
   "metadata": {},
   "outputs": [
    {
     "name": "stdout",
     "output_type": "stream",
     "text": [
      "2021-01-15 05:00:12.000005\n",
      "2020-12-02 04:59:47.999995\n",
      "277 days, 1:00:00\n",
      "True\n"
     ]
    }
   ],
   "source": [
    "dt1 = datetime(2020,12,24,5)\n",
    "dt2 = datetime(2020,3,22,4)\n",
    "td = timedelta(22,12,5)\n",
    "\n",
    "# Suma de datetime y time delta\n",
    "dt3 = dt1+td\n",
    "print(dt3)\n",
    "# Resta de dateime y timedelta\n",
    "dt4 = dt1-td\n",
    "print(dt4)\n",
    "# resta de datetimes\n",
    "td1 = dt1-dt2\n",
    "print(td1)\n",
    "# Comparacion de datetimes\n",
    "print(dt1>dt2)"
   ]
  }
 ],
 "metadata": {
  "kernelspec": {
   "display_name": "Python 3",
   "language": "python",
   "name": "python3"
  },
  "language_info": {
   "codemirror_mode": {
    "name": "ipython",
    "version": 3
   },
   "file_extension": ".py",
   "mimetype": "text/x-python",
   "name": "python",
   "nbconvert_exporter": "python",
   "pygments_lexer": "ipython3",
   "version": "3.7.3"
  }
 },
 "nbformat": 4,
 "nbformat_minor": 2
}
