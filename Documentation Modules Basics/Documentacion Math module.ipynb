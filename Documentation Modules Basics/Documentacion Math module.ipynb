{
 "cells": [
  {
   "cell_type": "markdown",
   "metadata": {},
   "source": [
    "# Documentacion : Modulo Math"
   ]
  },
  {
   "cell_type": "markdown",
   "metadata": {},
   "source": [
    "Este modulo de python provee funciones matematicas basicas bajo el estandar C , estas funciones no se aplican para los numeros complejos , para esto se utiliza el modulo cmath."
   ]
  },
  {
   "cell_type": "code",
   "execution_count": 6,
   "metadata": {},
   "outputs": [],
   "source": [
    "import math as m"
   ]
  },
  {
   "cell_type": "markdown",
   "metadata": {},
   "source": [
    "### Usos de ceil(x)\n",
    "El comando ceil se encarga de aproximar el numero float (x) al entero mas cercano ."
   ]
  },
  {
   "cell_type": "code",
   "execution_count": 7,
   "metadata": {},
   "outputs": [
    {
     "data": {
      "text/plain": [
       "2"
      ]
     },
     "execution_count": 7,
     "metadata": {},
     "output_type": "execute_result"
    }
   ],
   "source": [
    "m.ceil(1.822)"
   ]
  },
  {
   "cell_type": "markdown",
   "metadata": {},
   "source": [
    "### Usos de comb(n,k)\n",
    "Evalua la expresion n!/(k!*(n-k)!) cuando k<=n y retorna cero cuando k< n , tambien se llama coeficiente binomial ."
   ]
  },
  {
   "cell_type": "code",
   "execution_count": 16,
   "metadata": {},
   "outputs": [
    {
     "name": "stdout",
     "output_type": "stream",
     "text": [
      "0\n",
      "6\n"
     ]
    }
   ],
   "source": [
    "print(m.comb(1,2)) # retorna cero\n",
    "print(m.comb(4,2))"
   ]
  },
  {
   "cell_type": "markdown",
   "metadata": {},
   "source": [
    "### Usos de copysign(x,y)\n",
    "Retorna el valor absoluto de un valor x con el signo de y ."
   ]
  },
  {
   "cell_type": "code",
   "execution_count": 17,
   "metadata": {},
   "outputs": [
    {
     "data": {
      "text/plain": [
       "1.0"
      ]
     },
     "execution_count": 17,
     "metadata": {},
     "output_type": "execute_result"
    }
   ],
   "source": [
    "m.copysign(-1,2)"
   ]
  },
  {
   "cell_type": "markdown",
   "metadata": {},
   "source": [
    "### Usos de fabs(x)\n",
    "Retorna el valor absoluto de un numero sirve de igual manera que la funcion built in abs(x), retorna un valor float.\n"
   ]
  },
  {
   "cell_type": "code",
   "execution_count": 18,
   "metadata": {},
   "outputs": [
    {
     "data": {
      "text/plain": [
       "2.0"
      ]
     },
     "execution_count": 18,
     "metadata": {},
     "output_type": "execute_result"
    }
   ],
   "source": [
    "m.fabs(-2)"
   ]
  },
  {
   "cell_type": "markdown",
   "metadata": {},
   "source": [
    "### Usos de factorial(x)\n",
    "Retorna la operacion factorial de un numero como un integer , arroja error si x es un float o negativo."
   ]
  },
  {
   "cell_type": "code",
   "execution_count": 19,
   "metadata": {},
   "outputs": [
    {
     "data": {
      "text/plain": [
       "120"
      ]
     },
     "execution_count": 19,
     "metadata": {},
     "output_type": "execute_result"
    }
   ],
   "source": [
    "m.factorial(5)"
   ]
  },
  {
   "cell_type": "markdown",
   "metadata": {},
   "source": [
    "### Usos de floor(x)\n",
    "El comando floor retorna la parte entera de un float , si este valor es \n",
    "un integer retornará el mismo valor que se introdujo . "
   ]
  },
  {
   "cell_type": "code",
   "execution_count": 23,
   "metadata": {},
   "outputs": [
    {
     "data": {
      "text/plain": [
       "32"
      ]
     },
     "execution_count": 23,
     "metadata": {},
     "output_type": "execute_result"
    }
   ],
   "source": [
    "m.floor(32.4)"
   ]
  },
  {
   "cell_type": "markdown",
   "metadata": {},
   "source": [
    "### Usos de fmod(x,y)\n",
    "Retorna el modulo de una division , es diferente a la operacion x%y ya \n",
    "que esta ultima funciona de manera correcta con integers mas no con \n",
    "float."
   ]
  },
  {
   "cell_type": "code",
   "execution_count": 32,
   "metadata": {},
   "outputs": [
    {
     "name": "stdout",
     "output_type": "stream",
     "text": [
      "1.0999999999999943\n",
      "1.0999999999999943\n"
     ]
    }
   ],
   "source": [
    "print(m.fmod(211.1,6))\n",
    "print(211.1%6)"
   ]
  },
  {
   "cell_type": "markdown",
   "metadata": {},
   "source": [
    "### Usos de frexp(x)\n",
    "Retorna la mantisa y el exponente de x como un par(m,e), m es un valor float y e es un integer, la operacion que desglosa es x = m*(2^e)"
   ]
  },
  {
   "cell_type": "code",
   "execution_count": 34,
   "metadata": {},
   "outputs": [
    {
     "data": {
      "text/plain": [
       "(0.625, 3)"
      ]
     },
     "execution_count": 34,
     "metadata": {},
     "output_type": "execute_result"
    }
   ],
   "source": [
    "m.frexp(5)"
   ]
  },
  {
   "cell_type": "markdown",
   "metadata": {},
   "source": [
    "### Usos de fsum(iterable)\n",
    "Retorna una sumatoria precisa de los elementos que estan en un iterable"
   ]
  },
  {
   "cell_type": "code",
   "execution_count": 35,
   "metadata": {},
   "outputs": [
    {
     "data": {
      "text/plain": [
       "15.6"
      ]
     },
     "execution_count": 35,
     "metadata": {},
     "output_type": "execute_result"
    }
   ],
   "source": [
    "m.fsum([1,2,3,4,5.6])"
   ]
  },
  {
   "cell_type": "markdown",
   "metadata": {},
   "source": [
    "### Usos de gcd(a.b)\n",
    "Retorna el maximo como un divisor de dos integers , es decir el mayor positivo que divida a estos numeros."
   ]
  },
  {
   "cell_type": "code",
   "execution_count": 37,
   "metadata": {},
   "outputs": [
    {
     "data": {
      "text/plain": [
       "20"
      ]
     },
     "execution_count": 37,
     "metadata": {},
     "output_type": "execute_result"
    }
   ],
   "source": [
    "m.gcd(20,100)"
   ]
  },
  {
   "cell_type": "markdown",
   "metadata": {},
   "source": [
    "### Usos de isclose(a,b,*,rel_tol=1e-9,abs_tol=0.0)\n",
    "Se utiliza para determinar si dos numeros a y b son cercanos entre ellos \n",
    "si cumplen una tolerancia relativa y una absoluta."
   ]
  },
  {
   "cell_type": "code",
   "execution_count": 50,
   "metadata": {},
   "outputs": [
    {
     "name": "stdout",
     "output_type": "stream",
     "text": [
      "False\n",
      "True\n",
      "True\n"
     ]
    }
   ],
   "source": [
    "print(m.isclose(100,100.992))\n",
    "print(m.isclose(100,100.992,rel_tol=0.01))\n",
    "print(m.isclose(0.0120,0.0123,rel_tol=1e-9,abs_tol=0.1))"
   ]
  },
  {
   "cell_type": "markdown",
   "metadata": {},
   "source": [
    "### Usos de isfinite(x)\n",
    "Returna un valor True si x es diferente a infinito o a NAN ."
   ]
  },
  {
   "cell_type": "code",
   "execution_count": 64,
   "metadata": {},
   "outputs": [
    {
     "name": "stdout",
     "output_type": "stream",
     "text": [
      "True\n",
      "False\n"
     ]
    }
   ],
   "source": [
    "print(m.isfinite(100000))\n",
    "print(m.isfinite(m.inf))"
   ]
  },
  {
   "cell_type": "markdown",
   "metadata": {},
   "source": [
    "### Usos de isinf(x)\n",
    "Retorna True si x es un infinito negativo o positivo y falso en caso de que sea finito."
   ]
  },
  {
   "cell_type": "code",
   "execution_count": 65,
   "metadata": {},
   "outputs": [
    {
     "name": "stdout",
     "output_type": "stream",
     "text": [
      "True\n",
      "False\n"
     ]
    }
   ],
   "source": [
    "print(m.isinf(m.inf))\n",
    "print(m.isinf(1000))"
   ]
  },
  {
   "cell_type": "code",
   "execution_count": null,
   "metadata": {},
   "outputs": [],
   "source": []
  },
  {
   "cell_type": "markdown",
   "metadata": {},
   "source": [
    "### Usos de isnan(x)\n",
    "Retorna el valor true si x es un NaN y False si x es un numero. "
   ]
  },
  {
   "cell_type": "code",
   "execution_count": 68,
   "metadata": {},
   "outputs": [
    {
     "name": "stdout",
     "output_type": "stream",
     "text": [
      "True\n",
      "False\n"
     ]
    }
   ],
   "source": [
    "print(m.isnan(m.nan))\n",
    "print(m.isnan(202020))"
   ]
  },
  {
   "cell_type": "markdown",
   "metadata": {},
   "source": [
    "### Usos de isqrt(n)\n",
    "Retorna la raiz cuadrada exacta de un entero positivo, esta respuesta es un valor floor ya que no se estiman los decimales si la raiz es inexacta."
   ]
  },
  {
   "cell_type": "code",
   "execution_count": 73,
   "metadata": {},
   "outputs": [
    {
     "name": "stdout",
     "output_type": "stream",
     "text": [
      "8\n",
      "8\n"
     ]
    }
   ],
   "source": [
    "print(m.isqrt(64))\n",
    "print(m.isqrt(67))"
   ]
  },
  {
   "cell_type": "markdown",
   "metadata": {},
   "source": [
    "### Usos de ldexp(x,i)\n",
    "\n",
    "Funciona como la infersa de la funcion frexp() que retorna una operacion matematica con x como variable."
   ]
  },
  {
   "cell_type": "code",
   "execution_count": 74,
   "metadata": {},
   "outputs": [
    {
     "data": {
      "text/plain": [
       "5.0"
      ]
     },
     "execution_count": 74,
     "metadata": {},
     "output_type": "execute_result"
    }
   ],
   "source": [
    "m.ldexp(0.625,3)"
   ]
  },
  {
   "cell_type": "markdown",
   "metadata": {},
   "source": [
    "### Usos de modf(x)\n",
    "Retorna la parte fraccionaria y la parte integer de un numero x."
   ]
  },
  {
   "cell_type": "code",
   "execution_count": 77,
   "metadata": {},
   "outputs": [
    {
     "data": {
      "text/plain": [
       "(0.129999999999999, 31.0)"
      ]
     },
     "execution_count": 77,
     "metadata": {},
     "output_type": "execute_result"
    }
   ],
   "source": [
    "m.modf(31.13)"
   ]
  },
  {
   "cell_type": "markdown",
   "metadata": {},
   "source": [
    "### Usos de perm(n,k=None)\n",
    "Retorna la evaluacion de la expresion n! / (n-k)! cuando k>=n y retorna\n",
    "cero cuando k>n , si k no se introduce como parametro el comando evaluara unicamente el factorial .\n"
   ]
  },
  {
   "cell_type": "code",
   "execution_count": 80,
   "metadata": {},
   "outputs": [
    {
     "name": "stdout",
     "output_type": "stream",
     "text": [
      "24\n",
      "12\n"
     ]
    }
   ],
   "source": [
    "print(m.perm(4))\n",
    "print(m.perm(4,2))\n"
   ]
  },
  {
   "cell_type": "markdown",
   "metadata": {},
   "source": [
    "### Usos de prod(iterable,*,start=1)\n",
    "Calcula el producto entre los elementos del iterable."
   ]
  },
  {
   "cell_type": "code",
   "execution_count": 92,
   "metadata": {},
   "outputs": [
    {
     "name": "stdout",
     "output_type": "stream",
     "text": [
      "512\n"
     ]
    }
   ],
   "source": [
    "a = [2,2,2,2,2,2,2,2,2]\n",
    "print(m.prod(a,start=1))"
   ]
  },
  {
   "cell_type": "markdown",
   "metadata": {},
   "source": [
    "### Usos de remainder(x,y)\n",
    "Calcula el residuo de una division ."
   ]
  },
  {
   "cell_type": "code",
   "execution_count": 96,
   "metadata": {},
   "outputs": [
    {
     "data": {
      "text/plain": [
       "1.0"
      ]
     },
     "execution_count": 96,
     "metadata": {},
     "output_type": "execute_result"
    }
   ],
   "source": [
    "m.remainder(10,9)"
   ]
  },
  {
   "cell_type": "markdown",
   "metadata": {},
   "source": [
    "## Funciones de exponentes y logaritmos "
   ]
  },
  {
   "cell_type": "markdown",
   "metadata": {},
   "source": [
    "### Usos de exp(x)\n",
    "Eleva el numero euler a una potencia x."
   ]
  },
  {
   "cell_type": "code",
   "execution_count": 97,
   "metadata": {},
   "outputs": [
    {
     "data": {
      "text/plain": [
       "7.38905609893065"
      ]
     },
     "execution_count": 97,
     "metadata": {},
     "output_type": "execute_result"
    }
   ],
   "source": [
    "m.exp(2)"
   ]
  },
  {
   "cell_type": "markdown",
   "metadata": {},
   "source": [
    "### Usos de expm1(x)\n",
    "Retorna el numero euler elevado a la potencia x-1 ."
   ]
  },
  {
   "cell_type": "code",
   "execution_count": 103,
   "metadata": {},
   "outputs": [
    {
     "data": {
      "text/plain": [
       "6.38905609893065"
      ]
     },
     "execution_count": 103,
     "metadata": {},
     "output_type": "execute_result"
    }
   ],
   "source": [
    "m.expm1(2)"
   ]
  },
  {
   "cell_type": "markdown",
   "metadata": {},
   "source": [
    "### Usos de log(x[base])\n",
    "Con un solo argumento , retorna el logaritmo natural de x , con los dos argumentos ,calcula el logaritmo a una determinada base ."
   ]
  },
  {
   "cell_type": "code",
   "execution_count": 105,
   "metadata": {},
   "outputs": [
    {
     "name": "stdout",
     "output_type": "stream",
     "text": [
      "1.0\n",
      "2.0\n"
     ]
    }
   ],
   "source": [
    "print(m.log(m.e))\n",
    "print(m.log(100,10))"
   ]
  },
  {
   "cell_type": "markdown",
   "metadata": {},
   "source": [
    "### Usos de log1p(x) , log2(x),log10(x)\n",
    "\n",
    "Retorna el logaritmo natural de 1+x , por otra parte log2(x) retorna el valor de el logaritmo base 2 de x , por ultimo log10(x) retorna un logaritmo base 10. "
   ]
  },
  {
   "cell_type": "code",
   "execution_count": 111,
   "metadata": {},
   "outputs": [
    {
     "name": "stdout",
     "output_type": "stream",
     "text": [
      "1.0986122886681098\n",
      "1.3862943611198906\n",
      "1.0\n",
      "1.0\n"
     ]
    }
   ],
   "source": [
    "print(m.log(3))      ## log\n",
    "print(m.log1p(3))    ## log1p = 1+x\n",
    "print(m.log2(2))     ## log2\n",
    "print(m.log10(10))   ## log10"
   ]
  },
  {
   "cell_type": "markdown",
   "metadata": {},
   "source": [
    "### Usos de pow(x,y) y sqrt(x)\n",
    "pow(x,y) se utiliza para elever el numero x a la potencia y , por otra parte \n",
    "sqrt(x) se encarga de hallar la raiz cuadrada de un numero x . "
   ]
  },
  {
   "cell_type": "code",
   "execution_count": 112,
   "metadata": {},
   "outputs": [
    {
     "name": "stdout",
     "output_type": "stream",
     "text": [
      "4.0\n",
      "2.0\n"
     ]
    }
   ],
   "source": [
    "print(m.pow(2,2))\n",
    "print(m.sqrt(4))"
   ]
  },
  {
   "cell_type": "markdown",
   "metadata": {},
   "source": [
    "## Funciones Trigonometricas "
   ]
  },
  {
   "cell_type": "code",
   "execution_count": 119,
   "metadata": {},
   "outputs": [
    {
     "name": "stdout",
     "output_type": "stream",
     "text": [
      "1.5707963267948966\n",
      "0.0\n",
      "1.2626272556789118\n",
      "0.7853981633974483\n",
      "-0.8390715290764524\n",
      "8.06225774829855\n",
      "2.8284271247461903\n",
      "-0.5440211108893698\n",
      "0.6483608274590866\n"
     ]
    }
   ],
   "source": [
    "# Todas las funciones trigonometricas tienen como valores de entrada \n",
    "# expresiones en radianes excepto hypot y dist\n",
    "print(m.acos(0))            # arco coseno\n",
    "print(m.asin(0))            # arco seno\n",
    "print(m.atan(m.pi))         # arco tangente\n",
    "print(m.atan2(1,1))         # arco tangente entre rangos\n",
    "print(m.cos(10))            # coseno\n",
    "print(m.dist([4,1],[12,2])) # distancia entre dos puntos\n",
    "print(m.hypot(2,2))         # Hipotenusa \n",
    "print(m.sin(10))            # Seno \n",
    "print(m.tan(10))            # Tangente "
   ]
  },
  {
   "cell_type": "markdown",
   "metadata": {},
   "source": [
    "## Conversion de angulos "
   ]
  },
  {
   "cell_type": "code",
   "execution_count": 121,
   "metadata": {},
   "outputs": [
    {
     "name": "stdout",
     "output_type": "stream",
     "text": [
      "180.0\n",
      "3.141592653589793\n"
     ]
    }
   ],
   "source": [
    "# Convertir de radianes a grados .\n",
    "print(m.degrees(m.pi))\n",
    "# Convertir de grados a radianes \n",
    "print(m.radians(180))"
   ]
  },
  {
   "cell_type": "markdown",
   "metadata": {},
   "source": [
    "## Funciones Hiperbolicas "
   ]
  },
  {
   "cell_type": "code",
   "execution_count": 127,
   "metadata": {},
   "outputs": [
    {
     "name": "stdout",
     "output_type": "stream",
     "text": [
      "1.811526272460853\n",
      "1.8622957433108482\n",
      "0.0\n",
      "11.591953275521519\n",
      "11.548739357257746\n",
      "0.99627207622075\n"
     ]
    }
   ],
   "source": [
    "print(m.acosh(m.pi))    #arco coseno hiperbolico\n",
    "print(m.asinh(m.pi))    #arco seno hiperbolico\n",
    "print(m.atanh(0))       #arcotangente hiperbolica\n",
    "print(m.cosh(m.pi))     #coseno hiperbolico\n",
    "print(m.sinh(m.pi))     #seno hiperbolico\n",
    "print(m.tanh(m.pi))     #tangente hiperbolica"
   ]
  },
  {
   "cell_type": "markdown",
   "metadata": {},
   "source": [
    "## Funciones especiales "
   ]
  },
  {
   "cell_type": "code",
   "execution_count": 131,
   "metadata": {},
   "outputs": [
    {
     "name": "stdout",
     "output_type": "stream",
     "text": [
      "0.0\n",
      "0.1572992070502851\n",
      "1.0\n",
      "0.0\n"
     ]
    }
   ],
   "source": [
    "print(m.erf(0))    #Funcion de error\n",
    "print(m.erfc(1))   #Funcion de error complementaria \n",
    "print(m.gamma(2))  #Funcion gamma\n",
    "print(m.lgamma(2)) #retorna el logaritmo natural del valor \n",
    "                   #absoluto de la funcion gamma "
   ]
  },
  {
   "cell_type": "markdown",
   "metadata": {},
   "source": [
    "## Constantes "
   ]
  },
  {
   "cell_type": "code",
   "execution_count": 132,
   "metadata": {},
   "outputs": [
    {
     "name": "stdout",
     "output_type": "stream",
     "text": [
      "3.141592653589793\n",
      "2.718281828459045\n",
      "6.283185307179586\n",
      "inf -inf\n",
      "nan\n"
     ]
    }
   ],
   "source": [
    "print(m.pi)        # Constante pi\n",
    "print(m.e)         # Constante e\n",
    "print(m.tau)       # constante tau = 2pi\n",
    "print(m.inf,-m.inf)#infinitos\n",
    "print(m.nan)       # Not a number"
   ]
  },
  {
   "cell_type": "code",
   "execution_count": null,
   "metadata": {},
   "outputs": [],
   "source": []
  }
 ],
 "metadata": {
  "kernelspec": {
   "display_name": "Python 3",
   "language": "python",
   "name": "python3"
  },
  "language_info": {
   "codemirror_mode": {
    "name": "ipython",
    "version": 3
   },
   "file_extension": ".py",
   "mimetype": "text/x-python",
   "name": "python",
   "nbconvert_exporter": "python",
   "pygments_lexer": "ipython3",
   "version": "3.8.2"
  }
 },
 "nbformat": 4,
 "nbformat_minor": 4
}
