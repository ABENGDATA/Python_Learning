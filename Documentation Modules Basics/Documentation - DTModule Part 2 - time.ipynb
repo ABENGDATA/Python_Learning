{
 "cells": [
  {
   "cell_type": "markdown",
   "metadata": {},
   "source": [
    "# Documentación : Módulo datetime \n",
    "##  -  Parte 2 : time\n",
    "El modulo datetime provee al usuario de herramientas computacionales para manipular datos en forma de fecha y hora .\n",
    "\n",
    "Mientras que una fecha y hora son soportadas aritmeticamente , el enfoque de este modulo se basa en la extraccion eficiente de datos date time para cambiar su formato o manipular estos .\n",
    "\n",
    "los tipos de datetime se dividen en aware y naive , aware es un tipo de formato que contiene unicamente años , dias,horas , minutos y segundos, es decir un formato de fecha simple , en cambio naive contiene los atributos anteriores pero adicionando (UTC) o coordenadas temporales universales para especificar zonas horarias ."
   ]
  },
  {
   "cell_type": "code",
   "execution_count": 1,
   "metadata": {},
   "outputs": [],
   "source": [
    "from datetime import *"
   ]
  },
  {
   "cell_type": "markdown",
   "metadata": {},
   "source": [
    "### datetime.time(hora,minuto,segundo,microsegundo,tzinfo,fold)\n",
    "Un objetod de tiempo o time representa un tiempo local del dia , independiente de un dia particular y sujeto a ajustos via tzinfo.\n",
    "\n",
    "Todos los argumentos son opcionales . tzinfo puede ser None o una instancia de tzinfo . Los argumentos que quedan deben ser integers en los rangos determinados :\n",
    "\n",
    "- 0 <= hour < 24,\n",
    "- 0 <= minute < 60,\n",
    "- 0 <= second < 60,\n",
    "- 0 <= microsecond < 1000000,\n",
    "- fold in [0, 1].opcional , primero especificar tzinfo\n"
   ]
  },
  {
   "cell_type": "code",
   "execution_count": 7,
   "metadata": {},
   "outputs": [
    {
     "name": "stdout",
     "output_type": "stream",
     "text": [
      "12:32:32.000100\n"
     ]
    }
   ],
   "source": [
    "print(time(12,32,32,100))"
   ]
  },
  {
   "cell_type": "markdown",
   "metadata": {},
   "source": [
    "### Atributos de clase time"
   ]
  },
  {
   "cell_type": "code",
   "execution_count": 19,
   "metadata": {},
   "outputs": [
    {
     "name": "stdout",
     "output_type": "stream",
     "text": [
      "00:00:00\n",
      "23:59:59.999999\n",
      "12\n",
      "32\n",
      "32\n",
      "100\n"
     ]
    }
   ],
   "source": [
    "a = time(12,32,32,100)\n",
    "print(time.min )#Hora minima\n",
    "print(time.max )#Hora maxima\n",
    "print(a.hour)\n",
    "print(a.minute)\n",
    "print(a.second)\n",
    "print(a.microsecond)\n",
    "#a.tzinfo - not avaiable yet\n",
    "#a.fold - not avaiable yet"
   ]
  },
  {
   "cell_type": "markdown",
   "metadata": {},
   "source": [
    "### time.fromisoformat(time_string)\n",
    "Retorna una hora correspondiente a time_string en algun formato emitido por time.isoformat, especificamente esta funcion soporta formato string."
   ]
  },
  {
   "cell_type": "code",
   "execution_count": 22,
   "metadata": {},
   "outputs": [
    {
     "name": "stdout",
     "output_type": "stream",
     "text": [
      "04:23:01\n",
      "04:23:01.000384\n"
     ]
    }
   ],
   "source": [
    "print(time.fromisoformat(\"04:23:01\"))\n",
    "print(time.fromisoformat(\"04:23:01.000384\"))"
   ]
  },
  {
   "cell_type": "markdown",
   "metadata": {},
   "source": [
    "### time.replace(hour=self.hour, minute=self.minute, second=self.second, microsecond=self.microsecond, tzinfo=self.tzinfo, * fold=0)\n",
    "Retorna una hora con una mismo valor excepto para aquellos valores que se han especificado . "
   ]
  },
  {
   "cell_type": "code",
   "execution_count": 23,
   "metadata": {},
   "outputs": [
    {
     "name": "stdout",
     "output_type": "stream",
     "text": [
      "03:21:21.000100\n"
     ]
    }
   ],
   "source": [
    "a = time(12,21,21,100)\n",
    "print(a.replace(hour=3))"
   ]
  },
  {
   "cell_type": "markdown",
   "metadata": {},
   "source": [
    "### time.isoformat(timespec='auto')\n",
    "Retorna una string represetnado el tiempo en formato ISO 8601 .\n",
    "Valores de retorno : \n",
    "\n",
    "- HH:MM:SS.ffffff, si los  microsegundos no son  0\n",
    "- HH:MM:SS, si los microsegundos son 0\n",
    "- HH:MM:SS.ffffff+HH:MM[:SS[.ffffff]], if utcoffset() does not return None.\n",
    "- HH:MM:SS+HH:MM[:SS[.ffffff]], if microsecond is 0 and utcoffset() does not return None.\n",
    "\n",
    "Valores de entrada al timespec = \n",
    "\n",
    "- 'auto': Same as 'seconds' if microsecond is 0, same as 'microseconds' otherwise.\n",
    "\n",
    "-  'hours': Include the hour in the two-digit HH format.\n",
    "\n",
    "- 'minutes': Include hour and minute in HH:MM format.\n",
    "\n",
    "- 'seconds': Include hour, minute, and second in HH:MM:SS format.\n",
    "\n",
    "- 'milliseconds': Include full time, but truncate fractional second part to milliseconds. HH:MM:SS.sss format.\n",
    "\n",
    "-     'microseconds': Include full time in HH:MM:SS.ffffff format.\n"
   ]
  },
  {
   "cell_type": "code",
   "execution_count": 27,
   "metadata": {},
   "outputs": [
    {
     "name": "stdout",
     "output_type": "stream",
     "text": [
      "12:21:21.000100\n",
      "12\n",
      "12:21\n"
     ]
    }
   ],
   "source": [
    "a = time(12,21,21,100)\n",
    "print(a.isoformat(timespec= \"microseconds\"))\n",
    "print(a.isoformat(timespec=\"hours\"))\n",
    "print(a.isoformat(timespec=\"minutes\"))"
   ]
  },
  {
   "cell_type": "markdown",
   "metadata": {},
   "source": [
    "### time _ str_()\n",
    "Para horas t ,str(t) es equivalente a t.isoformat().\n"
   ]
  },
  {
   "cell_type": "code",
   "execution_count": 29,
   "metadata": {},
   "outputs": [
    {
     "data": {
      "text/plain": [
       "'12:21:21.000100'"
      ]
     },
     "execution_count": 29,
     "metadata": {},
     "output_type": "execute_result"
    }
   ],
   "source": [
    "a = time(12,21,21,100)\n",
    "a.__str__()"
   ]
  },
  {
   "cell_type": "markdown",
   "metadata": {},
   "source": [
    "### time.strftime(format)\n",
    "Retorna una string represetando una hora controlada por un formato especificado para strings de datetime."
   ]
  },
  {
   "cell_type": "code",
   "execution_count": 31,
   "metadata": {},
   "outputs": [
    {
     "data": {
      "text/plain": [
       "'12:21:21 '"
      ]
     },
     "execution_count": 31,
     "metadata": {},
     "output_type": "execute_result"
    }
   ],
   "source": [
    "a = time(12,21,21,100)\n",
    "a.strftime(\"%H:%M:%S %Z\")"
   ]
  },
  {
   "cell_type": "markdown",
   "metadata": {},
   "source": [
    "### time.__format__\n",
    "Asi como el strftime , esto hace posible especificar una hora como una tring en un formato especificado ."
   ]
  },
  {
   "cell_type": "code",
   "execution_count": 32,
   "metadata": {},
   "outputs": [
    {
     "data": {
      "text/plain": [
       "'The time is 12:21.'"
      ]
     },
     "execution_count": 32,
     "metadata": {},
     "output_type": "execute_result"
    }
   ],
   "source": [
    "a = time(12,21,21,100)\n",
    "'The {} is {:%H:%M}.'.format(\"time\", a)"
   ]
  }
 ],
 "metadata": {
  "kernelspec": {
   "display_name": "Python 3",
   "language": "python",
   "name": "python3"
  },
  "language_info": {
   "codemirror_mode": {
    "name": "ipython",
    "version": 3
   },
   "file_extension": ".py",
   "mimetype": "text/x-python",
   "name": "python",
   "nbconvert_exporter": "python",
   "pygments_lexer": "ipython3",
   "version": "3.7.3"
  }
 },
 "nbformat": 4,
 "nbformat_minor": 2
}
