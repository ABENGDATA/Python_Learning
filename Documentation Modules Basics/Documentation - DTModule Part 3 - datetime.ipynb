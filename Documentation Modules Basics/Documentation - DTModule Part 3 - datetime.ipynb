{
 "cells": [
  {
   "cell_type": "markdown",
   "metadata": {},
   "source": [
    "# Documentación : Módulo datetime \n",
    "##  -  Parte 3 : datetime\n",
    "El modulo datetime provee al usuario de herramientas computacionales para manipular datos en forma de fecha y hora .\n",
    "\n",
    "Mientras que una fecha y hora son soportadas aritmeticamente , el enfoque de este modulo se basa en la extraccion eficiente de datos date time para cambiar su formato o manipular estos .\n",
    "\n",
    "los tipos de datetime se dividen en aware y naive , aware es un tipo de formato que contiene unicamente años , dias,horas , minutos y segundos, es decir un formato de fecha simple , en cambio naive contiene los atributos anteriores pero adicionando (UTC) o coordenadas temporales universales para especificar zonas horarias ."
   ]
  },
  {
   "cell_type": "markdown",
   "metadata": {},
   "source": [
    "## Objetos datetime \n",
    "## datetime(year, month, day, hour=0, minute=0, second=0, microsecond=0, tzinfo=None, *, fold=0)\n",
    "Un objeto datetime es un solo objeto que contiene informacion da un objeto date y un time .\n",
    "\n",
    "Como un objeto de fecha , los objetos datetime asumen el calendario gregoriano extendido actual en dos direcciones y como un objeto time  tambien asume que hay 3600 segundos en una hora de 24 horas totales cada dia .\n",
    "\n",
    "- MINYEAR <= year <= MAXYEAR,\n",
    "- 1 <= month <= 12,\n",
    "- 1 <= day <= number of days in the given month and year,\n",
    "- 0 <= hour < 24,\n",
    "- 0 <= minute < 60,\n",
    "- 0 <= second < 60,\n",
    "- 0 <= microsecond < 1000000,\n",
    "- fold in [0, 1].\n"
   ]
  },
  {
   "cell_type": "code",
   "execution_count": 10,
   "metadata": {},
   "outputs": [],
   "source": [
    "from datetime import *"
   ]
  },
  {
   "cell_type": "code",
   "execution_count": 11,
   "metadata": {},
   "outputs": [
    {
     "name": "stdout",
     "output_type": "stream",
     "text": [
      "2020-03-25 15:20:10.000100\n"
     ]
    }
   ],
   "source": [
    "print(datetime(2020,3,25,15,20,10,100))"
   ]
  },
  {
   "cell_type": "markdown",
   "metadata": {},
   "source": [
    "## Métodos de clase datetime"
   ]
  },
  {
   "cell_type": "markdown",
   "metadata": {},
   "source": [
    "### datetime.today()\n",
    "Retorna la fecha y hora locales con tzinfo = None."
   ]
  },
  {
   "cell_type": "code",
   "execution_count": 15,
   "metadata": {},
   "outputs": [
    {
     "name": "stdout",
     "output_type": "stream",
     "text": [
      "2020-10-05 20:47:13.874075\n"
     ]
    }
   ],
   "source": [
    "print(datetime.today())"
   ]
  },
  {
   "cell_type": "markdown",
   "metadata": {},
   "source": [
    "### datetime.now(tz=None)\n",
    "Retorna la fecha y hora locales.\n",
    "Si el argumentos tz no se especifica o es None ,es como si fuese datetime.today(), pero si es posible especificarlo tiene mas precision que otros metodos , para mas precision esta funcion es preferida sobre .today() y utcnow() ."
   ]
  },
  {
   "cell_type": "code",
   "execution_count": 17,
   "metadata": {},
   "outputs": [
    {
     "name": "stdout",
     "output_type": "stream",
     "text": [
      "2020-10-05 20:49:58.356162\n"
     ]
    }
   ],
   "source": [
    "print(datetime.now())"
   ]
  },
  {
   "cell_type": "markdown",
   "metadata": {},
   "source": [
    "### datetime.utcnow()\n",
    "Retorna la fecha actual con UTC , con tzinfo = None.\n",
    "Este metodo es como now(), pero retorna la UTC ."
   ]
  },
  {
   "cell_type": "code",
   "execution_count": 19,
   "metadata": {},
   "outputs": [
    {
     "name": "stdout",
     "output_type": "stream",
     "text": [
      "2020-10-06 01:52:52.053271\n"
     ]
    }
   ],
   "source": [
    "print(datetime.utcnow())"
   ]
  },
  {
   "cell_type": "markdown",
   "metadata": {},
   "source": [
    "### datetime.fromordinal(ordinal)\n",
    "Retorna un objeto datetime correspondiente a una fecha ordinal del calenadrio gregoriano, donde enero 1 del año 1 es ordinal 1 ."
   ]
  },
  {
   "cell_type": "code",
   "execution_count": 27,
   "metadata": {},
   "outputs": [
    {
     "name": "stdout",
     "output_type": "stream",
     "text": [
      "1918-12-01 00:00:00\n"
     ]
    }
   ],
   "source": [
    "print(datetime.fromordinal(700504))"
   ]
  },
  {
   "cell_type": "markdown",
   "metadata": {},
   "source": [
    "### datetime.combine(date,time,tzinfo=self.tzinfo)\n",
    "Retorna un nuevo objeto datetime el cual los componentes de su fecha son iguales a una objeto de fecha y el tiempo a un objeto de tiempo , si tzinfo es preveido , este valor es usado para añadirlo como atributo , de otrana manera no ."
   ]
  },
  {
   "cell_type": "code",
   "execution_count": 30,
   "metadata": {},
   "outputs": [
    {
     "name": "stdout",
     "output_type": "stream",
     "text": [
      "2020-03-25 12:23:12.000100\n"
     ]
    }
   ],
   "source": [
    "print(datetime.combine(date(2020,3,25),time(12,23,12,100)))"
   ]
  },
  {
   "cell_type": "markdown",
   "metadata": {},
   "source": [
    "### datetime.fromisoformat(date_string)\n",
    "Retorna un datetime correspondiente a una fecha string en uno de los formato emitidos por date.isoformat() y datetime.isoformat()."
   ]
  },
  {
   "cell_type": "code",
   "execution_count": 37,
   "metadata": {},
   "outputs": [
    {
     "name": "stdout",
     "output_type": "stream",
     "text": [
      "2011-11-04 00:00:00\n",
      "1997-03-25 00:00:00\n",
      "1997-03-25 07:15:30.100000\n"
     ]
    }
   ],
   "source": [
    "print(datetime.fromisoformat(\"2011-11-04\"))\n",
    "print(datetime.fromisoformat(\"1997-03-25\"))\n",
    "print(datetime.fromisoformat(\"1997-03-25 07:15:30.100\"))"
   ]
  },
  {
   "cell_type": "markdown",
   "metadata": {},
   "source": [
    "### datetime.strptime(date_string,format)\n",
    "Retorna un objeto datetime correspondiente a una fecha en string con formato acorde a las fechas ."
   ]
  },
  {
   "cell_type": "code",
   "execution_count": 40,
   "metadata": {},
   "outputs": [
    {
     "name": "stdout",
     "output_type": "stream",
     "text": [
      "2006-11-21 16:30:00\n"
     ]
    }
   ],
   "source": [
    "dt = datetime.strptime(\"21/11/06 16:30\",\"%d/%m/%y %H:%M\")\n",
    "print(dt)"
   ]
  },
  {
   "cell_type": "markdown",
   "metadata": {},
   "source": [
    "## Atributos de  clase e instancia "
   ]
  },
  {
   "cell_type": "code",
   "execution_count": 46,
   "metadata": {},
   "outputs": [
    {
     "name": "stdout",
     "output_type": "stream",
     "text": [
      "0001-01-01 00:00:00\n",
      "9999-12-31 23:59:59.999999\n",
      "0:00:00.000001\n",
      "2020-10-05 21:15:38.598719\n",
      "2020\n",
      "10\n",
      "5\n",
      "21\n",
      "15\n",
      "38\n",
      "598719\n",
      "2020-10-05\n",
      "21:15:38.598719\n",
      "21:15:38.598719\n"
     ]
    }
   ],
   "source": [
    "print(datetime.min) # fecha y hora minima\n",
    "print(datetime.max) # fecha y hora maxima\n",
    "print(datetime.resolution) # diferencia minima posible entre dos \n",
    "                           # date time que no son iguales\n",
    "# Partes de un datetime\n",
    "d = datetime.now()\n",
    "print(d)\n",
    "print(d.year)\n",
    "print(d.month)\n",
    "print(d.day)\n",
    "print(d.hour)\n",
    "print(d.minute)\n",
    "print(d.second)\n",
    "print(d.microsecond)\n",
    "print(d.date())\n",
    "print(d.time())\n",
    "print(d.timetz()) # Copia de time con zona horaria"
   ]
  },
  {
   "cell_type": "markdown",
   "metadata": {},
   "source": [
    "### datetime.replace(year=self.year, month=self.month, day=self.day, hour=self.hour, minute=self.minute, second=self.second, microsecond=self.microsecond, tzinfo=self.tzinfo, * fold=0)\n",
    "Retorna un datetime con el mismo numero de atributos excepto para aqueñños que se solicita el cambio de sus valores."
   ]
  },
  {
   "cell_type": "code",
   "execution_count": 48,
   "metadata": {},
   "outputs": [
    {
     "name": "stdout",
     "output_type": "stream",
     "text": [
      "2020-10-05 21:18:32.723707\n",
      "1998-10-05 21:18:32.723707\n",
      "1997-12-25 21:18:32.723707\n"
     ]
    }
   ],
   "source": [
    "d = datetime.now()\n",
    "print(d)\n",
    "print(d.replace(year=1998))\n",
    "print(d.replace(year=1997,month=12,day=25))"
   ]
  },
  {
   "cell_type": "markdown",
   "metadata": {},
   "source": [
    "### datetime.weekday() and datetime.isoweekday()\n",
    "Se encargan de retornar el numero de dia de la semana en el caso de weekday se indica como ordinales los dias desde el 0 al 6 y con isoweekday del 1 al 7."
   ]
  },
  {
   "cell_type": "code",
   "execution_count": 49,
   "metadata": {},
   "outputs": [
    {
     "name": "stdout",
     "output_type": "stream",
     "text": [
      "2020-10-05 21:22:11.239378\n",
      "0\n",
      "1\n"
     ]
    }
   ],
   "source": [
    "d = datetime.now()\n",
    "print(d)\n",
    "print(d.weekday())\n",
    "print(d.isoweekday())"
   ]
  },
  {
   "cell_type": "markdown",
   "metadata": {},
   "source": [
    "### datetime.isocalendar()\n",
    "Retorna una tupla de 3 elementos con la fecha del objeto, (año,semana,dia)."
   ]
  },
  {
   "cell_type": "code",
   "execution_count": 51,
   "metadata": {},
   "outputs": [
    {
     "name": "stdout",
     "output_type": "stream",
     "text": [
      "2020-10-05 21:24:05.751756\n",
      "(2020, 41, 1)\n"
     ]
    }
   ],
   "source": [
    "d = datetime.now()\n",
    "print(d)\n",
    "print(d.isocalendar())"
   ]
  },
  {
   "cell_type": "markdown",
   "metadata": {},
   "source": [
    "Basicamente datetime tiene las mismas funciones de time y date solo que se añaden las funciones de zonas horarias ya que es un modulo que une fechas y horas no es necesario profundizar ."
   ]
  }
 ],
 "metadata": {
  "kernelspec": {
   "display_name": "Python 3",
   "language": "python",
   "name": "python3"
  },
  "language_info": {
   "codemirror_mode": {
    "name": "ipython",
    "version": 3
   },
   "file_extension": ".py",
   "mimetype": "text/x-python",
   "name": "python",
   "nbconvert_exporter": "python",
   "pygments_lexer": "ipython3",
   "version": "3.7.3"
  }
 },
 "nbformat": 4,
 "nbformat_minor": 2
}
